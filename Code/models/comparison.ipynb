{
 "cells": [
  {
   "cell_type": "code",
   "execution_count": 10,
   "metadata": {},
   "outputs": [
    {
     "name": "stderr",
     "output_type": "stream",
     "text": [
      "/Users/Pedro./anaconda3/lib/python3.7/site-packages/pandas/core/frame.py:3940: SettingWithCopyWarning: \n",
      "A value is trying to be set on a copy of a slice from a DataFrame\n",
      "\n",
      "See the caveats in the documentation: http://pandas.pydata.org/pandas-docs/stable/indexing.html#indexing-view-versus-copy\n",
      "  errors=errors)\n"
     ]
    }
   ],
   "source": [
    "import pandas as pd\n",
    "import numpy as np\n",
    "import matplotlib.pyplot as plt\n",
    "%matplotlib inline\n",
    "from time import time\n",
    "import os\n",
    "import json\n",
    "from sklearn.model_selection import train_test_split\n",
    "from sklearn.linear_model import LinearRegression\n",
    "\n",
    "# Reads the downsampled dataframe\n",
    "df = pd.read_csv(os.getcwd()[:os.getcwd().find(\"Code\")] + \"/Data/netflix-prize/downsampled-csv/few_samples.csv\")\n",
    "# Reads the json with all the clusters for each user\n",
    "path = os.getcwd()[:os.getcwd().find(\"Code\")] + \"/Data/user-clusters/clusters.json\"\n",
    "with open(path, \"r\") as s:\n",
    "    clusters = json.loads(s.read())\n",
    "\n",
    "def get_predictions_for_user(user):\n",
    "    \n",
    "    lr = LinearRegression()\n",
    "    # Gets the cluster of users for user\n",
    "    similar_users_to_user = [int(user) for user in clusters[user].split()]\n",
    "    # Gets the data for the users in user cluster\n",
    "    df_user_cluster = df[df[\"user_id\"].isin(similar_users_to_user)]\n",
    "    df_user = df[df[\"user_id\"].isin([user])]\n",
    "    \n",
    "    groups = df_user_cluster.groupby(\"movie_id\")\n",
    "    movies_avg_rating = groups[\"rating\"].mean()\n",
    "    df_user = pd.merge(movies_avg_rating, df_user, on=\"movie_id\")\n",
    "    del df_user[\"user_id\"]\n",
    "    df_user.columns = [\"movie_id\", \"cluster_avg_rating\", \"user_rating\"]\n",
    "    \n",
    "    df_user.replace(\"?\", np.NaN, inplace=True)\n",
    "    df_user.dropna(inplace=True)\n",
    "    try:\n",
    "        if min(df_user[\"user_rating\"].value_counts()) == 1:  # Condition to avoid error on train_test_split\n",
    "            # ValueError: The least populated class in y has only 1 member, which is too few. \n",
    "            # The minimum number of groups for any class cannot be less than 2.\n",
    "            pass\n",
    "        else:\n",
    "            X = df_user.drop([\"user_rating\"], axis=1)\n",
    "            y = df_user[\"user_rating\"]\n",
    "            X_train, X_test, y_train, y_test = train_test_split(X, y, test_size=0.3, random_state=42, stratify=y)\n",
    "            X_train.drop(\"movie_id\", axis=1, inplace=True), X_test.drop(\"movie_id\", axis=1, inplace=True)\n",
    "            lr.fit(X_train, y_train)\n",
    "            y_pred = lr.predict(X_test)\n",
    "            r_squared = lr.score(X_test, y_test)\n",
    "    except:\n",
    "        print(\"error:\", user)\n",
    "        \n",
    "    X_train, X_test, y_train, y_test = train_test_split(X, y, test_size=0.3, random_state=42, stratify=y)\n",
    "    predictions = pd.DataFrame(X_test[\"movie_id\"])\n",
    "    predictions[\"user_predicted_score\"] = y_pred\n",
    "    return lr, predictions, r_squared\n",
    "\n",
    "lr, y_pred, r_squared = get_predictions_for_user(\"915\")"
   ]
  },
  {
   "cell_type": "code",
   "execution_count": 11,
   "metadata": {},
   "outputs": [
    {
     "data": {
      "text/html": [
       "<div>\n",
       "<style scoped>\n",
       "    .dataframe tbody tr th:only-of-type {\n",
       "        vertical-align: middle;\n",
       "    }\n",
       "\n",
       "    .dataframe tbody tr th {\n",
       "        vertical-align: top;\n",
       "    }\n",
       "\n",
       "    .dataframe thead th {\n",
       "        text-align: right;\n",
       "    }\n",
       "</style>\n",
       "<table border=\"1\" class=\"dataframe\">\n",
       "  <thead>\n",
       "    <tr style=\"text-align: right;\">\n",
       "      <th></th>\n",
       "      <th>movie_id</th>\n",
       "      <th>user_predicted_score</th>\n",
       "    </tr>\n",
       "  </thead>\n",
       "  <tbody>\n",
       "    <tr>\n",
       "      <th>13</th>\n",
       "      <td>8743</td>\n",
       "      <td>4.964370</td>\n",
       "    </tr>\n",
       "    <tr>\n",
       "      <th>2</th>\n",
       "      <td>694</td>\n",
       "      <td>5.162567</td>\n",
       "    </tr>\n",
       "    <tr>\n",
       "      <th>6</th>\n",
       "      <td>4429</td>\n",
       "      <td>3.067344</td>\n",
       "    </tr>\n",
       "    <tr>\n",
       "      <th>14</th>\n",
       "      <td>8928</td>\n",
       "      <td>3.162581</td>\n",
       "    </tr>\n",
       "    <tr>\n",
       "      <th>11</th>\n",
       "      <td>7184</td>\n",
       "      <td>4.152370</td>\n",
       "    </tr>\n",
       "  </tbody>\n",
       "</table>\n",
       "</div>"
      ],
      "text/plain": [
       "    movie_id  user_predicted_score\n",
       "13      8743              4.964370\n",
       "2        694              5.162567\n",
       "6       4429              3.067344\n",
       "14      8928              3.162581\n",
       "11      7184              4.152370"
      ]
     },
     "execution_count": 11,
     "metadata": {},
     "output_type": "execute_result"
    }
   ],
   "source": [
    "y_pred.head()"
   ]
  },
  {
   "cell_type": "code",
   "execution_count": 12,
   "metadata": {},
   "outputs": [
    {
     "data": {
      "text/plain": [
       "0.6172653677144122"
      ]
     },
     "execution_count": 12,
     "metadata": {},
     "output_type": "execute_result"
    }
   ],
   "source": [
    "r_squared"
   ]
  },
  {
   "cell_type": "code",
   "execution_count": 13,
   "metadata": {},
   "outputs": [],
   "source": [
    "df_915 = df[df[\"user_id\"] == 915]\n",
    "movie_id = df_915[df_915[\"rating\"] == 5].iloc[5][\"movie_id\"]"
   ]
  },
  {
   "cell_type": "code",
   "execution_count": 15,
   "metadata": {},
   "outputs": [
    {
     "name": "stdout",
     "output_type": "stream",
     "text": [
      "parsing metadata: 0.996060776589758\n",
      "parsing metadata: 1.992121553179516\n",
      "parsing metadata: 2.9881823297692742\n",
      "parsing metadata: 3.984243106359032\n",
      "parsing metadata: 4.980303882948791\n",
      "parsing metadata: 5.9763646595385485\n",
      "parsing metadata: 6.972425436128306\n",
      "parsing metadata: 7.968486212718064\n",
      "parsing metadata: 8.964546989307824\n",
      "parsing metadata: 9.960607765897581\n",
      "parsing metadata: 10.95666854248734\n",
      "parsing metadata: 11.952729319077097\n",
      "parsing metadata: 12.948790095666855\n",
      "parsing metadata: 13.944850872256612\n",
      "parsing metadata: 14.94091164884637\n",
      "parsing metadata: 15.936972425436128\n",
      "parsing metadata: 16.933033202025886\n",
      "parsing metadata: 17.929093978615647\n",
      "parsing metadata: 18.925154755205405\n",
      "parsing metadata: 19.921215531795163\n",
      "parsing metadata: 20.91727630838492\n",
      "parsing metadata: 21.91333708497468\n",
      "parsing metadata: 22.909397861564436\n",
      "parsing metadata: 23.905458638154194\n",
      "parsing metadata: 24.90151941474395\n",
      "parsing metadata: 25.89758019133371\n",
      "parsing metadata: 26.893640967923467\n",
      "parsing metadata: 27.889701744513225\n",
      "parsing metadata: 28.885762521102983\n",
      "parsing metadata: 29.88182329769274\n",
      "parsing metadata: 30.8778840742825\n",
      "parsing metadata: 31.873944850872256\n",
      "parsing metadata: 32.870005627462014\n",
      "parsing metadata: 33.86606640405177\n",
      "parsing metadata: 34.86212718064154\n",
      "parsing metadata: 35.858187957231294\n",
      "parsing metadata: 36.85424873382105\n",
      "parsing metadata: 37.85030951041081\n",
      "parsing metadata: 38.84637028700057\n",
      "parsing metadata: 39.842431063590325\n",
      "parsing metadata: 40.83849184018008\n",
      "parsing metadata: 41.83455261676984\n",
      "parsing metadata: 42.8306133933596\n",
      "parsing metadata: 43.82667416994936\n",
      "parsing metadata: 44.822734946539114\n",
      "parsing metadata: 45.81879572312887\n",
      "parsing metadata: 46.81485649971863\n",
      "parsing metadata: 47.81091727630839\n",
      "parsing metadata: 48.806978052898145\n",
      "parsing metadata: 49.8030388294879\n",
      "parsing metadata: 50.79909960607766\n",
      "parsing metadata: 51.79516038266742\n",
      "parsing metadata: 52.79122115925718\n",
      "parsing metadata: 53.787281935846934\n",
      "parsing metadata: 54.78334271243669\n",
      "parsing metadata: 55.77940348902645\n",
      "parsing metadata: 56.77546426561621\n",
      "parsing metadata: 57.771525042205965\n",
      "parsing metadata: 58.76758581879572\n",
      "parsing metadata: 59.76364659538548\n",
      "parsing metadata: 60.75970737197524\n",
      "parsing metadata: 61.755768148565\n",
      "parsing metadata: 62.751828925154754\n",
      "parsing metadata: 63.74788970174451\n",
      "parsing metadata: 64.74395047833427\n",
      "parsing metadata: 65.74001125492403\n",
      "parsing metadata: 66.73607203151379\n",
      "parsing metadata: 67.73213280810354\n",
      "parsing metadata: 68.7281935846933\n",
      "parsing metadata: 69.72425436128307\n",
      "parsing metadata: 70.72031513787283\n",
      "parsing metadata: 71.71637591446259\n",
      "parsing metadata: 72.71243669105235\n",
      "parsing metadata: 73.7084974676421\n",
      "parsing metadata: 74.70455824423186\n",
      "parsing metadata: 75.70061902082162\n",
      "parsing metadata: 76.69667979741138\n",
      "parsing metadata: 77.69274057400114\n",
      "parsing metadata: 78.6888013505909\n",
      "parsing metadata: 79.68486212718065\n",
      "parsing metadata: 80.68092290377041\n",
      "parsing metadata: 81.67698368036017\n",
      "parsing metadata: 82.67304445694992\n",
      "parsing metadata: 83.66910523353968\n",
      "parsing metadata: 84.66516601012944\n",
      "parsing metadata: 85.6612267867192\n",
      "parsing metadata: 86.65728756330896\n",
      "parsing metadata: 87.65334833989871\n",
      "parsing metadata: 88.64940911648847\n",
      "parsing metadata: 89.64546989307823\n",
      "parsing metadata: 90.64153066966799\n",
      "parsing metadata: 91.63759144625774\n",
      "parsing metadata: 92.6336522228475\n",
      "parsing metadata: 93.62971299943726\n",
      "parsing metadata: 94.62577377602702\n",
      "parsing metadata: 95.62183455261678\n",
      "parsing metadata: 96.61789532920653\n",
      "parsing metadata: 97.61395610579629\n",
      "parsing metadata: 98.61001688238605\n",
      "parsing metadata: 99.6060776589758\n",
      "parsing metadata: 100\n"
     ]
    }
   ],
   "source": [
    "path = os.getcwd()[:os.getcwd().find(\"Code\")] + \"Data\"\n",
    "def default_progress_handler(percentage):\n",
    "    print('parsing metadata: ' + str(percentage))\n",
    "def load_from_txt(data_dir, progress_handler=default_progress_handler):\n",
    "    \"\"\"\n",
    "    Function to metadata provided by netflix\n",
    "    :param data_dir: path to the Data directory\n",
    "    :param progress_handler: function responsible for feeding progress updates back to gui\n",
    "    :return: pandas dataframe with movie metadata\n",
    "    \"\"\"\n",
    "    path = os.path.join(data_dir, \"netflix-prize\")\n",
    "    acc = pd.DataFrame(columns=['id', 'year', 'title'])\n",
    "    num_movies = 17770\n",
    "    progress_step = int(num_movies*0.01)\n",
    "    movie_count = 0\n",
    "    with open(os.path.join(path, 'movie_titles.csv'), \"r\", encoding = \"ISO-8859-1\") as s:\n",
    "        line = s.readline().strip()\n",
    "        while line:\n",
    "            movie_count += 1\n",
    "            if movie_count % progress_step == 0:\n",
    "                progress_handler(movie_count/num_movies*100)\n",
    "            tokens = line.split(\",\")\n",
    "            acc = acc.append(\n",
    "                {'id': tokens[0], #movie id\n",
    "                'year': tokens[1], #year\n",
    "                'title': ','.join(tokens[2:])},\n",
    "            ignore_index=True) # movie_title\n",
    "            line = s.readline().strip()\n",
    "    progress_handler(100)\n",
    "\n",
    "    return acc\n",
    "# movie_titles = load_from_txt(path)"
   ]
  },
  {
   "cell_type": "code",
   "execution_count": 16,
   "metadata": {},
   "outputs": [
    {
     "data": {
      "text/plain": [
       "'Ice Age'"
      ]
     },
     "execution_count": 16,
     "metadata": {},
     "output_type": "execute_result"
    }
   ],
   "source": [
    "title = movie_titles[movie_titles[\"id\"] == str(movie_id)][\"title\"].iloc[0]\n",
    "title"
   ]
  },
  {
   "cell_type": "code",
   "execution_count": 17,
   "metadata": {},
   "outputs": [
    {
     "name": "stderr",
     "output_type": "stream",
     "text": [
      "/Users/Pedro./anaconda3/lib/python3.7/site-packages/numpy/lib/function_base.py:2522: RuntimeWarning: Degrees of freedom <= 0 for slice\n",
      "  c = cov(x, y, rowvar)\n",
      "/Users/Pedro./anaconda3/lib/python3.7/site-packages/numpy/lib/function_base.py:2451: RuntimeWarning: divide by zero encountered in true_divide\n",
      "  c *= np.true_divide(1, fact)\n"
     ]
    },
    {
     "data": {
      "text/html": [
       "<div>\n",
       "<style scoped>\n",
       "    .dataframe tbody tr th:only-of-type {\n",
       "        vertical-align: middle;\n",
       "    }\n",
       "\n",
       "    .dataframe tbody tr th {\n",
       "        vertical-align: top;\n",
       "    }\n",
       "\n",
       "    .dataframe thead th {\n",
       "        text-align: right;\n",
       "    }\n",
       "</style>\n",
       "<table border=\"1\" class=\"dataframe\">\n",
       "  <thead>\n",
       "    <tr style=\"text-align: right;\">\n",
       "      <th></th>\n",
       "      <th>Correlation</th>\n",
       "      <th>number_ratings</th>\n",
       "    </tr>\n",
       "    <tr>\n",
       "      <th>movie_title</th>\n",
       "      <th></th>\n",
       "      <th></th>\n",
       "    </tr>\n",
       "  </thead>\n",
       "  <tbody>\n",
       "    <tr>\n",
       "      <th>Ice Age</th>\n",
       "      <td>1.000000</td>\n",
       "      <td>432</td>\n",
       "    </tr>\n",
       "    <tr>\n",
       "      <th>Look Who's Talking Now</th>\n",
       "      <td>0.596281</td>\n",
       "      <td>101</td>\n",
       "    </tr>\n",
       "    <tr>\n",
       "      <th>The Lion King 1 1/2</th>\n",
       "      <td>0.570257</td>\n",
       "      <td>105</td>\n",
       "    </tr>\n",
       "    <tr>\n",
       "      <th>Bewitched</th>\n",
       "      <td>0.539448</td>\n",
       "      <td>108</td>\n",
       "    </tr>\n",
       "    <tr>\n",
       "      <th>When a Man Loves a Woman</th>\n",
       "      <td>0.526263</td>\n",
       "      <td>105</td>\n",
       "    </tr>\n",
       "  </tbody>\n",
       "</table>\n",
       "</div>"
      ],
      "text/plain": [
       "                          Correlation  number_ratings\n",
       "movie_title                                          \n",
       "Ice Age                      1.000000             432\n",
       "Look Who's Talking Now       0.596281             101\n",
       "The Lion King 1 1/2          0.570257             105\n",
       "Bewitched                    0.539448             108\n",
       "When a Man Loves a Woman     0.526263             105"
      ]
     },
     "execution_count": 17,
     "metadata": {},
     "output_type": "execute_result"
    }
   ],
   "source": [
    "path = os.getcwd()[:os.getcwd().find(\"Code\")]\n",
    "path += \"aaron-gauthier-individual-project/Code/export_data_netflix_full_movies.csv\"\n",
    "data = pd.read_csv(path)\n",
    "\n",
    "movie_piv = data.pivot_table(index = 'user_id', columns = 'movie_title', values = 'rating')\n",
    "movie_user_ratings = movie_piv[title]\n",
    "\n",
    "similar_to_movie = movie_piv.corrwith(movie_user_ratings)\n",
    "corr_movie = pd.DataFrame(similar_to_movie, columns = ['Correlation'])\n",
    "corr_movie.dropna(inplace = True)\n",
    "\n",
    "movie_rating_counts = pd.DataFrame(data.groupby('movie_title')['rating'].mean())\n",
    "movie_rating_counts['number_ratings'] = pd.DataFrame(data.groupby('movie_title')['rating'].count())\n",
    "\n",
    "corr_movie.sort_values('Correlation', ascending = False).head(10)\n",
    "corr_movie = corr_movie.join(movie_rating_counts['number_ratings'])\n",
    "corr_movie[corr_movie['number_ratings']>100].sort_values('Correlation', ascending = False).head()"
   ]
  },
  {
   "cell_type": "code",
   "execution_count": 18,
   "metadata": {},
   "outputs": [],
   "source": [
    "mov_id = int(movie_titles[movie_titles[\"title\"] == \"The Lion King 1 1/2\"][\"id\"].iloc[0])"
   ]
  },
  {
   "cell_type": "markdown",
   "metadata": {},
   "source": [
    "Let's see if the user has actually watched an rated this movie"
   ]
  },
  {
   "cell_type": "code",
   "execution_count": 20,
   "metadata": {},
   "outputs": [
    {
     "data": {
      "text/html": [
       "<div>\n",
       "<style scoped>\n",
       "    .dataframe tbody tr th:only-of-type {\n",
       "        vertical-align: middle;\n",
       "    }\n",
       "\n",
       "    .dataframe tbody tr th {\n",
       "        vertical-align: top;\n",
       "    }\n",
       "\n",
       "    .dataframe thead th {\n",
       "        text-align: right;\n",
       "    }\n",
       "</style>\n",
       "<table border=\"1\" class=\"dataframe\">\n",
       "  <thead>\n",
       "    <tr style=\"text-align: right;\">\n",
       "      <th></th>\n",
       "      <th>movie_id</th>\n",
       "      <th>user_id</th>\n",
       "      <th>rating</th>\n",
       "    </tr>\n",
       "  </thead>\n",
       "  <tbody>\n",
       "  </tbody>\n",
       "</table>\n",
       "</div>"
      ],
      "text/plain": [
       "Empty DataFrame\n",
       "Columns: [movie_id, user_id, rating]\n",
       "Index: []"
      ]
     },
     "execution_count": 20,
     "metadata": {},
     "output_type": "execute_result"
    }
   ],
   "source": [
    "df_915[df_915[\"movie_id\"] == mov_id]"
   ]
  },
  {
   "cell_type": "markdown",
   "metadata": {},
   "source": [
    "It has not. Let's see if we have a predicted score for it"
   ]
  },
  {
   "cell_type": "code",
   "execution_count": 21,
   "metadata": {},
   "outputs": [
    {
     "data": {
      "text/html": [
       "<div>\n",
       "<style scoped>\n",
       "    .dataframe tbody tr th:only-of-type {\n",
       "        vertical-align: middle;\n",
       "    }\n",
       "\n",
       "    .dataframe tbody tr th {\n",
       "        vertical-align: top;\n",
       "    }\n",
       "\n",
       "    .dataframe thead th {\n",
       "        text-align: right;\n",
       "    }\n",
       "</style>\n",
       "<table border=\"1\" class=\"dataframe\">\n",
       "  <thead>\n",
       "    <tr style=\"text-align: right;\">\n",
       "      <th></th>\n",
       "      <th>movie_id</th>\n",
       "      <th>user_predicted_score</th>\n",
       "    </tr>\n",
       "  </thead>\n",
       "  <tbody>\n",
       "  </tbody>\n",
       "</table>\n",
       "</div>"
      ],
      "text/plain": [
       "Empty DataFrame\n",
       "Columns: [movie_id, user_predicted_score]\n",
       "Index: []"
      ]
     },
     "execution_count": 21,
     "metadata": {},
     "output_type": "execute_result"
    }
   ],
   "source": [
    "y_pred[y_pred[\"movie_id\"] == mov_id]"
   ]
  },
  {
   "cell_type": "markdown",
   "metadata": {},
   "source": [
    "Nop, let's try with another movie"
   ]
  },
  {
   "cell_type": "code",
   "execution_count": 23,
   "metadata": {},
   "outputs": [
    {
     "data": {
      "text/html": [
       "<div>\n",
       "<style scoped>\n",
       "    .dataframe tbody tr th:only-of-type {\n",
       "        vertical-align: middle;\n",
       "    }\n",
       "\n",
       "    .dataframe tbody tr th {\n",
       "        vertical-align: top;\n",
       "    }\n",
       "\n",
       "    .dataframe thead th {\n",
       "        text-align: right;\n",
       "    }\n",
       "</style>\n",
       "<table border=\"1\" class=\"dataframe\">\n",
       "  <thead>\n",
       "    <tr style=\"text-align: right;\">\n",
       "      <th></th>\n",
       "      <th>movie_id</th>\n",
       "      <th>user_id</th>\n",
       "      <th>rating</th>\n",
       "    </tr>\n",
       "  </thead>\n",
       "  <tbody>\n",
       "  </tbody>\n",
       "</table>\n",
       "</div>"
      ],
      "text/plain": [
       "Empty DataFrame\n",
       "Columns: [movie_id, user_id, rating]\n",
       "Index: []"
      ]
     },
     "execution_count": 23,
     "metadata": {},
     "output_type": "execute_result"
    }
   ],
   "source": [
    "mov_id = int(movie_titles[movie_titles[\"title\"] == \"Look Who's Talking Now\"][\"id\"].iloc[0])\n",
    "df_915[df_915[\"movie_id\"] == mov_id]"
   ]
  },
  {
   "cell_type": "code",
   "execution_count": 24,
   "metadata": {},
   "outputs": [
    {
     "data": {
      "text/html": [
       "<div>\n",
       "<style scoped>\n",
       "    .dataframe tbody tr th:only-of-type {\n",
       "        vertical-align: middle;\n",
       "    }\n",
       "\n",
       "    .dataframe tbody tr th {\n",
       "        vertical-align: top;\n",
       "    }\n",
       "\n",
       "    .dataframe thead th {\n",
       "        text-align: right;\n",
       "    }\n",
       "</style>\n",
       "<table border=\"1\" class=\"dataframe\">\n",
       "  <thead>\n",
       "    <tr style=\"text-align: right;\">\n",
       "      <th></th>\n",
       "      <th>movie_id</th>\n",
       "      <th>user_predicted_score</th>\n",
       "    </tr>\n",
       "  </thead>\n",
       "  <tbody>\n",
       "  </tbody>\n",
       "</table>\n",
       "</div>"
      ],
      "text/plain": [
       "Empty DataFrame\n",
       "Columns: [movie_id, user_predicted_score]\n",
       "Index: []"
      ]
     },
     "execution_count": 24,
     "metadata": {},
     "output_type": "execute_result"
    }
   ],
   "source": [
    "y_pred[y_pred[\"movie_id\"] == mov_id]"
   ]
  },
  {
   "cell_type": "markdown",
   "metadata": {},
   "source": [
    "Let's use a movie we have predictions for instead and see how it compares"
   ]
  },
  {
   "cell_type": "code",
   "execution_count": 29,
   "metadata": {},
   "outputs": [
    {
     "data": {
      "text/plain": [
       "movie_id                7381.000000\n",
       "user_predicted_score       3.067344\n",
       "Name: 12, dtype: float64"
      ]
     },
     "execution_count": 29,
     "metadata": {},
     "output_type": "execute_result"
    }
   ],
   "source": [
    "y_pred.iloc[8]"
   ]
  },
  {
   "cell_type": "code",
   "execution_count": 30,
   "metadata": {},
   "outputs": [
    {
     "data": {
      "text/plain": [
       "Correlation         0.338701\n",
       "number_ratings    146.000000\n",
       "Name: Flubber, dtype: float64"
      ]
     },
     "execution_count": 30,
     "metadata": {},
     "output_type": "execute_result"
    }
   ],
   "source": [
    "title2 = movie_titles[movie_titles[\"id\"] == str(7381)][\"title\"].iloc[0]\n",
    "corr_movie.loc[title2]"
   ]
  },
  {
   "cell_type": "markdown",
   "metadata": {},
   "source": [
    "As we can see, the predicted score our user would give to `Flubber` is about 3 stars, while the correlation with `Ice Age`, a movie our user gave 5 stars, is 0.338701. This shows a moderate agreement between the two approaches."
   ]
  },
  {
   "cell_type": "code",
   "execution_count": null,
   "metadata": {},
   "outputs": [],
   "source": []
  }
 ],
 "metadata": {
  "kernelspec": {
   "display_name": "Python 3",
   "language": "python",
   "name": "python3"
  },
  "language_info": {
   "codemirror_mode": {
    "name": "ipython",
    "version": 3
   },
   "file_extension": ".py",
   "mimetype": "text/x-python",
   "name": "python",
   "nbconvert_exporter": "python",
   "pygments_lexer": "ipython3",
   "version": "3.7.3"
  }
 },
 "nbformat": 4,
 "nbformat_minor": 2
}
