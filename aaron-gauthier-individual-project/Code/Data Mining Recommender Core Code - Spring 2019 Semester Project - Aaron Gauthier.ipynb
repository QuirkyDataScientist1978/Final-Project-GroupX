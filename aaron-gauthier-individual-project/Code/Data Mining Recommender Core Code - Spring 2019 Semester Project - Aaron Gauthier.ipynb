{
 "cells": [
  {
   "cell_type": "code",
   "execution_count": 4,
   "metadata": {},
   "outputs": [],
   "source": [
    "import pandas as pd\n",
    "import numpy as np\n",
    "import matplotlib.pyplot as plt\n",
    "%matplotlib inline\n",
    "import sklearn\n",
    "import math\n",
    "import re\n",
    "from scipy.sparse import csr_matrix\n",
    "import seaborn as sns\n",
    "from surprise import Reader, Dataset, SVD, evaluate\n",
    "sns.set_style(\"darkgrid\")\n",
    "import os\n",
    "import time\n",
    "import gc\n",
    "from sklearn.neighbors import NearestNeighbors\n",
    "import warnings\n",
    "warnings.filterwarnings('ignore')"
   ]
  },
  {
   "cell_type": "markdown",
   "metadata": {},
   "source": [
    "# Data Manipulation"
   ]
  },
  {
   "cell_type": "markdown",
   "metadata": {},
   "source": [
    "## Data Loading"
   ]
  },
  {
   "cell_type": "code",
   "execution_count": 5,
   "metadata": {},
   "outputs": [
    {
     "name": "stdout",
     "output_type": "stream",
     "text": [
      "Dataset 1 shape: (24058263, 2)\n",
      "-Dataset examples-\n",
      "          Cust_id  Rating\n",
      "0              1:     NaN\n",
      "5000000   2560324     4.0\n",
      "10000000  2271935     2.0\n",
      "15000000  1921803     2.0\n",
      "20000000  1933327     3.0\n"
     ]
    }
   ],
   "source": [
    "# Date not needed\n",
    "\n",
    "netflix_df1 = pd.read_csv('combined_data_1.txt', header=None, names=['Cust_id', 'Rating'], usecols=[0,1])\n",
    "\n",
    "netflix_df1['Rating'] = netflix_df1['Rating'].astype(float)\n",
    "\n",
    "print('Dataset 1 shape: {}'.format(netflix_df1.shape))\n",
    "print('-Dataset examples-')\n",
    "print(netflix_df1.iloc[::5000000, :])\n",
    "\n",
    "\n",
    "# netflix_df3.head(5)"
   ]
  },
  {
   "cell_type": "code",
   "execution_count": 9,
   "metadata": {},
   "outputs": [
    {
     "name": "stdout",
     "output_type": "stream",
     "text": [
      "Dataset 2 shape: (514358, 4)\n",
      "-Dataset examples-\n",
      "   Unnamed: 0  movie_id  user_id  rating\n",
      "0          88         1   729846       4\n"
     ]
    }
   ],
   "source": [
    "# Date not needed\n",
    "\n",
    "netflix_df2 = pd.read_csv('few_samples_netflix.csv')\n",
    "\n",
    "#netflix_df2['rating'] = netflix_df2['rating'].astype(float)\n",
    "\n",
    "print('Dataset 2 shape: {}'.format(netflix_df2.shape))\n",
    "print('-Dataset examples-')\n",
    "print(netflix_df2.iloc[::5000000, :])\n",
    "\n",
    "# netflix_df2.head(5)"
   ]
  },
  {
   "cell_type": "code",
   "execution_count": 23,
   "metadata": {},
   "outputs": [
    {
     "name": "stdout",
     "output_type": "stream",
     "text": [
      "Dataset 3 shape: (22605786, 2)\n",
      "-Dataset examples-\n",
      "          Cust_id  Rating\n",
      "0           9211:     NaN\n",
      "5000000   2071383     4.0\n",
      "10000000  2485184     5.0\n",
      "15000000   765311     2.0\n",
      "20000000  1260161     3.0\n"
     ]
    }
   ],
   "source": [
    "# Date not needed\n",
    "\n",
    "netflix_df3 = pd.read_csv('combined_data_3.txt', header=None, names=['Cust_id', 'Rating'], usecols=[0,1])\n",
    "\n",
    "netflix_df3['Rating'] = netflix_df3['Rating'].astype(float)\n",
    "\n",
    "print('Dataset 3 shape: {}'.format(netflix_df3.shape))\n",
    "print('-Dataset examples-')\n",
    "print(netflix_df3.iloc[::5000000, :])\n",
    "\n",
    "#netflix_df3.head(5)"
   ]
  },
  {
   "cell_type": "code",
   "execution_count": 24,
   "metadata": {},
   "outputs": [
    {
     "name": "stdout",
     "output_type": "stream",
     "text": [
      "Dataset 4 shape: (26851926, 2)\n",
      "-Dataset examples-\n",
      "          Cust_id  Rating\n",
      "0          13368:     NaN\n",
      "5000000    605496     5.0\n",
      "10000000   285173     5.0\n",
      "15000000   604335     5.0\n",
      "20000000  2503632     5.0\n",
      "25000000   470744     3.0\n"
     ]
    }
   ],
   "source": [
    "# Date not needed\n",
    "\n",
    "netflix_df4 = pd.read_csv('combined_data_4.txt', header=None, names=['Cust_id', 'Rating'], usecols=[0,1])\n",
    "\n",
    "netflix_df4['Rating'] = netflix_df4['Rating'].astype(float)\n",
    "\n",
    "print('Dataset 4 shape: {}'.format(netflix_df4.shape))\n",
    "print('-Dataset examples-')\n",
    "print(netflix_df4.iloc[::5000000, :])\n",
    "\n",
    "# netflix_df4.head(5)"
   ]
  },
  {
   "cell_type": "code",
   "execution_count": 25,
   "metadata": {},
   "outputs": [
    {
     "name": "stdout",
     "output_type": "stream",
     "text": [
      "Full dataset shape: (26982302, 2)\n",
      "-Dataset examples-\n",
      "          Cust_id  Rating\n",
      "0           4500:     NaN\n",
      "5000000    485565     2.0\n",
      "10000000  1155911     2.0\n",
      "15000000   121369     3.0\n",
      "20000000  1277779     3.0\n",
      "25000000   252632     5.0\n"
     ]
    }
   ],
   "source": [
    "# Uncomment next two lines for full dataset with over 100 million reviews - takes a long time\n",
    "#netflix_concat_frames = [netflix_df1, netflix_df2, netflix_df3, netflix_df4]\n",
    "#netflix_concat_frames_df = pd.concat(netflix_concat_frames)\n",
    "#df_netflix_pivot_combined_data = result.pivot(index=)\n",
    "#result.head(5)\n",
    "\n",
    "# Quarter of the Data set - commment out when not using\n",
    "netflix_concat_frames = [netflix_df2]\n",
    "netflix_concat_frames_df = pd.concat(netflix_concat_frames)\n",
    "\n",
    "\n",
    "\n",
    "netflix_concat_frames_df.index = np.arange(0,len(netflix_concat_frames_df))\n",
    "print('Full dataset shape: {}'.format(netflix_concat_frames_df.shape))\n",
    "print('-Dataset examples-')\n",
    "print(netflix_concat_frames_df.iloc[::5000000, :])"
   ]
  },
  {
   "cell_type": "markdown",
   "metadata": {},
   "source": [
    "## Viewing the Data"
   ]
  },
  {
   "cell_type": "code",
   "execution_count": 26,
   "metadata": {},
   "outputs": [
    {
     "data": {
      "image/png": "[encoded data removed]",
      "text/plain": [
       "<Figure size 1080x720 with 1 Axes>"
      ]
     },
     "metadata": {},
     "output_type": "display_data"
    }
   ],
   "source": [
    "# View of the data \n",
    "total_pool = netflix_concat_frames_df.groupby('Rating')['Rating'].agg(['count'])\n",
    "\n",
    "# Get movie count\n",
    "movie_count = netflix_concat_frames_df.isnull().sum()[1]\n",
    "\n",
    "cust_count = netflix_concat_frames_df['Cust_id'].nunique() - movie_count\n",
    "\n",
    "# Get rating count\n",
    "rating_count = netflix_concat_frames_df['Cust_id'].count() - movie_count\n",
    "\n",
    "# Plot horizontal bar graph\n",
    "ax = total_pool.plot(kind='barh', legend=False, figsize=(15, 10))\n",
    "plt.title('Total pool: {:,} Movies, {:,} customers, {:,} ratings given'.format(movie_count, cust_count, rating_count), fontsize= 20)\n",
    "plt.axis('off')\n",
    "\n",
    "for i in range(1,6):\n",
    "    ax.text(total_pool.iloc[i-1][0]/4, i-1, 'Rating {}: {:.0f}%'.format(i, total_pool.iloc[i-1][0]*100 / total_pool.sum()[0]), color='white', weight='bold')\n"
   ]
  },
  {
   "cell_type": "markdown",
   "metadata": {},
   "source": [
    "### We can see that the ratings tend to be positive! This is probably because most unhappy customers won't take the time to rate anything - they will simply walk away. If a rating is low - it probably means the movie is very bad since someone cared enough to rate it. "
   ]
  },
  {
   "cell_type": "markdown",
   "metadata": {},
   "source": [
    "### The movie id is messy and this will probably cause computational problems - so better to fix it now!"
   ]
  },
  {
   "cell_type": "markdown",
   "metadata": {},
   "source": [
    "## Data Cleaning"
   ]
  },
  {
   "cell_type": "code",
   "execution_count": 27,
   "metadata": {},
   "outputs": [
    {
     "name": "stdout",
     "output_type": "stream",
     "text": [
      "Movie numpy array: [1.000e+00 1.000e+00 1.000e+00 ... 4.711e+03 4.711e+03 4.711e+03]\n",
      "Length numpy array: 26977591\n"
     ]
    }
   ],
   "source": [
    "# This takes way too long - I need to find a way to cut this down and decrease processing time - my CPU usage was over 120%\n",
    "# Don't run this for now \n",
    "#only do batches of ~25 million should take about 4 minutes to run \n",
    "# Create a numpy array with correct length and add the entire array as a column into the main dataframe\n",
    "netflix_nan_df = pd.DataFrame(pd.isnull(netflix_concat_frames_df.Rating))\n",
    "netflix_nan_df = netflix_nan_df[netflix_nan_df['Rating'] == True]\n",
    "netflix_nan_df = netflix_nan_df.reset_index()\n",
    "\n",
    "movie_np_array = []\n",
    "movie_id = 1\n",
    "\n",
    "for i, j in zip(netflix_nan_df['index'][1:], netflix_nan_df['index'][:-1]):\n",
    "    # Using numpy\n",
    "    temporary = np.full((1, i-j-1), movie_id)\n",
    "    movie_np_array = np.append(movie_np_array, temporary)\n",
    "    movie_id += 1\n",
    "    \n",
    "# Last record and length using numpy\n",
    "last_record = np.full((1, len(netflix_concat_frames_df) - netflix_nan_df.iloc[-1,0] -1), movie_id)\n",
    "movie_np_array = np.append(movie_np_array, last_record)\n",
    "\n",
    "print('Movie numpy array: {}'.format(movie_np_array))\n",
    "print('Length numpy array: {}'.format(len(movie_np_array)))"
   ]
  },
  {
   "cell_type": "code",
   "execution_count": 28,
   "metadata": {},
   "outputs": [
    {
     "name": "stdout",
     "output_type": "stream",
     "text": [
      "-Dataset examples-\n",
      "          Cust_id  Rating  Movie_id\n",
      "1         2532865     4.0         1\n",
      "5000819    775559     2.0       819\n",
      "10001635  2366877     4.0      1635\n",
      "15002436  1579371     4.0      2436\n",
      "20003268  1427824     5.0      3268\n",
      "25004333   768518     4.0      4333\n"
     ]
    }
   ],
   "source": [
    "# Configure rows so Movie_id becomes a column instead of being imbedded into a row\n",
    "netflix_concat_frames_df = netflix_concat_frames_df[pd.notnull(netflix_concat_frames_df['Rating'])]\n",
    "\n",
    "netflix_concat_frames_df['Movie_id'] = movie_np_array.astype(int)\n",
    "netflix_concat_frames_df['Cust_id'] = netflix_concat_frames_df['Cust_id'].astype(int)\n",
    "print('-Dataset examples-')\n",
    "print(netflix_concat_frames_df.iloc[::5000000, :])"
   ]
  },
  {
   "cell_type": "markdown",
   "metadata": {},
   "source": [
    "## Data Slicing"
   ]
  },
  {
   "cell_type": "markdown",
   "metadata": {},
   "source": [
    "### The datasets are way too big! We need to find a way to limit or reduce the volume of data by improving the data quality. We need to do some benchmarking in which we reduce the same size and increase the data quality. If we remove the movies with only a few reviews this should cut down on the size of the data and also increase the quality. If we also remove customers who are not very active this should cut down on the data size and increase the quality of the data. "
   ]
  },
  {
   "cell_type": "markdown",
   "metadata": {},
   "source": [
    "### These above benchmarks should improve our efficiency - since unpopular movies and less active customers should help us improve the statistical significance of the data set.\n"
   ]
  },
  {
   "cell_type": "code",
   "execution_count": 29,
   "metadata": {},
   "outputs": [
    {
     "name": "stdout",
     "output_type": "stream",
     "text": [
      "Minimum number of times movies were reviewed: 2047.0\n",
      "Minimum number of times customers reviewed movies: 57.0\n"
     ]
    }
   ],
   "source": [
    "# play with quartile because it may affect model accuracy\n",
    "\n",
    "count_mean_vars = ['count', 'mean']\n",
    "\n",
    "movie_summary_df = netflix_concat_frames_df.groupby('Movie_id')['Rating'].agg(count_mean_vars)\n",
    "movie_summary_df.index = movie_summary_df.index.map(int)\n",
    "movie_benchmark = round(movie_summary_df['count'].quantile(0.70), 0)\n",
    "movie_list_benchmark_drop = movie_summary_df[movie_summary_df['count'] < movie_benchmark].index\n",
    "\n",
    "print('Minimum number of times movies were reviewed: {}'.format(movie_benchmark))\n",
    "\n",
    "customer_summary_df = netflix_concat_frames_df.groupby('Cust_id')['Rating'].agg(count_mean_vars)\n",
    "customer_summary_df.index = customer_summary_df.index.map(int)\n",
    "customer_benchmark = round(customer_summary_df['count'].quantile(0.70), 0)\n",
    "customer_list_benchmark_drop = customer_summary_df[customer_summary_df['count'] < customer_benchmark].index\n",
    "\n",
    "print('Minimum number of times customers reviewed movies: {}'.format(customer_benchmark))"
   ]
  },
  {
   "cell_type": "code",
   "execution_count": 30,
   "metadata": {},
   "outputs": [
    {
     "name": "stdout",
     "output_type": "stream",
     "text": [
      "Original Shape: (26977591, 3)\n",
      "After Drop Shape: (19379800, 3)\n",
      "-Data Examples-\n",
      "          Cust_id  Rating  Movie_id\n",
      "3157       740327     4.0         7\n",
      "7020609   1015567     2.0      1164\n",
      "14032449  1091264     5.0      2287\n",
      "21002493   316685     4.0      3517\n"
     ]
    }
   ],
   "source": [
    "# Let's play with this and see how we can optimize it \n",
    "# Let's see the difference in data size\n",
    "print('Original Shape: {}'.format(netflix_concat_frames_df.shape))\n",
    "netflix_concat_frames_df = netflix_concat_frames_df[~netflix_concat_frames_df['Movie_id'].isin(movie_list_benchmark_drop)]\n",
    "netflix_concat_frames_df = netflix_concat_frames_df[~netflix_concat_frames_df['Cust_id'].isin(customer_list_benchmark_drop)]\n",
    "print('After Drop Shape: {}'.format(netflix_concat_frames_df.shape))\n",
    "print('-Data Examples-')\n",
    "print(netflix_concat_frames_df.iloc[::5000000, :])"
   ]
  },
  {
   "cell_type": "markdown",
   "metadata": {},
   "source": [
    "### Let's put the data set into a giant matrix - as we need it for the recommender system."
   ]
  },
  {
   "cell_type": "code",
   "execution_count": 31,
   "metadata": {},
   "outputs": [
    {
     "name": "stdout",
     "output_type": "stream",
     "text": [
      "(143159, 1414)\n"
     ]
    }
   ],
   "source": [
    "netflix_concat_pivot = pd.pivot_table(netflix_concat_frames_df, values='Rating', index='Cust_id', columns='Movie_id')\n",
    "\n",
    "print(netflix_concat_pivot.shape)"
   ]
  },
  {
   "cell_type": "markdown",
   "metadata": {},
   "source": [
    "## Data Mapping"
   ]
  },
  {
   "cell_type": "markdown",
   "metadata": {},
   "source": [
    "### Let's load the movie mapping file"
   ]
  },
  {
   "cell_type": "code",
   "execution_count": 32,
   "metadata": {},
   "outputs": [
    {
     "data": {
      "text/html": [
       "<div>\n",
       "<style scoped>\n",
       "    .dataframe tbody tr th:only-of-type {\n",
       "        vertical-align: middle;\n",
       "    }\n",
       "\n",
       "    .dataframe tbody tr th {\n",
       "        vertical-align: top;\n",
       "    }\n",
       "\n",
       "    .dataframe thead th {\n",
       "        text-align: right;\n",
       "    }\n",
       "</style>\n",
       "<table border=\"1\" class=\"dataframe\">\n",
       "  <thead>\n",
       "    <tr style=\"text-align: right;\">\n",
       "      <th></th>\n",
       "      <th>Movie_id</th>\n",
       "      <th>Year</th>\n",
       "      <th>Movie_title</th>\n",
       "    </tr>\n",
       "  </thead>\n",
       "  <tbody>\n",
       "    <tr>\n",
       "      <th>0</th>\n",
       "      <td>1</td>\n",
       "      <td>2003.0</td>\n",
       "      <td>Dinosaur Planet</td>\n",
       "    </tr>\n",
       "    <tr>\n",
       "      <th>1</th>\n",
       "      <td>2</td>\n",
       "      <td>2004.0</td>\n",
       "      <td>Isle of Man TT 2004 Review</td>\n",
       "    </tr>\n",
       "    <tr>\n",
       "      <th>2</th>\n",
       "      <td>3</td>\n",
       "      <td>1997.0</td>\n",
       "      <td>Character</td>\n",
       "    </tr>\n",
       "    <tr>\n",
       "      <th>3</th>\n",
       "      <td>4</td>\n",
       "      <td>1994.0</td>\n",
       "      <td>Paula Abdul's Get Up &amp; Dance</td>\n",
       "    </tr>\n",
       "    <tr>\n",
       "      <th>4</th>\n",
       "      <td>5</td>\n",
       "      <td>2004.0</td>\n",
       "      <td>The Rise and Fall of ECW</td>\n",
       "    </tr>\n",
       "  </tbody>\n",
       "</table>\n",
       "</div>"
      ],
      "text/plain": [
       "   Movie_id    Year                   Movie_title\n",
       "0         1  2003.0               Dinosaur Planet\n",
       "1         2  2004.0    Isle of Man TT 2004 Review\n",
       "2         3  1997.0                     Character\n",
       "3         4  1994.0  Paula Abdul's Get Up & Dance\n",
       "4         5  2004.0      The Rise and Fall of ECW"
      ]
     },
     "execution_count": 32,
     "metadata": {},
     "output_type": "execute_result"
    }
   ],
   "source": [
    "netflix_movie_titles_df5 = pd.read_csv('movie_titles.txt', delimiter='\\t', header=None)\n",
    "#netflix_movie_titles_df5.drop(['Unnamed: 3', 'Unnamed: 4', 'Unnamed: 5'], axis =1)\n",
    "netflix_movie_titles_df5 = netflix_movie_titles_df5.iloc[:, 0:3]\n",
    "netflix_movie_titles_df5.columns = ['Movie_id', 'Year', 'Movie_title']\n",
    "netflix_movie_titles_df5['Year'] = netflix_movie_titles_df5['Year'].astype(float) # data is dirty - has NaNs etc. - can't use int have to use float for now \n",
    "netflix_movie_titles_df5.head(5)"
   ]
  },
  {
   "cell_type": "markdown",
   "metadata": {},
   "source": [
    "# Recommendation Models"
   ]
  },
  {
   "cell_type": "markdown",
   "metadata": {},
   "source": [
    "## Recommending with Collaborative Filtering"
   ]
  },
  {
   "cell_type": "code",
   "execution_count": 35,
   "metadata": {},
   "outputs": [],
   "source": [
    "# Import train_test_split function\n",
    "from sklearn.model_selection import train_test_split\n",
    "\n",
    "# Assign X as the original ratings dataframe and y as the Cust_id column of ratings\n",
    "X = netflix_concat_frames_df.copy()\n",
    "y = netflix_concat_frames_df['Cust_id']\n",
    "\n",
    "# Split into training and test datasets, stratified along Cust-id\n",
    "X_train, X_test, y_train, y_test = train_test_split(X, y, test_size=0.25, stratify=y, random_state=42)\n",
    "\n",
    "# Import the mean_squared_error function\n",
    "from sklearn.metrics import mean_squared_error\n",
    "\n",
    "# Function computes the root mean squared error (RMSE)\n",
    "def rmse(y_true, y_pred):\n",
    "    return np.sqrt(mean_squared_error(y_true, y_pred))\n",
    "\n",
    "# Define the base model to always return 3 - middle of the ratings\n",
    "def baseline(Cust_id, Movie_id):\n",
    "    return 3.0\n",
    "\n",
    "# Function to compute the RMSE score obtained on the testing data set by the model\n",
    "def score(collab_filter_model):\n",
    "    \n",
    "    # Construct a list of customer-movie tuples from the testing dataset\n",
    "    id_cust_movie = zip(X_test['Cust_id'], X_test['Movie_id'])\n",
    "    \n",
    "    # Predict the rating for every customer - movie tuple\n",
    "    y_pred = np.array([collab_filter_model(customer, movie) for (customer, movie)in id_cust_movie])\n",
    "    \n",
    "    # Extract the actual ratings given by the customers in the test dataset\n",
    "    y_true = np.array(X_test['Rating'])\n",
    "    \n",
    "    # Return the final RMSE score\n",
    "    return rmse(y_true, y_pred)"
   ]
  },
  {
   "cell_type": "code",
   "execution_count": 36,
   "metadata": {},
   "outputs": [
    {
     "data": {
      "text/plain": [
       "1.2084806127476386"
      ]
     },
     "execution_count": 36,
     "metadata": {},
     "output_type": "execute_result"
    }
   ],
   "source": [
    "score(baseline)"
   ]
  },
  {
   "cell_type": "markdown",
   "metadata": {},
   "source": [
    "## Ratings Matrix"
   ]
  },
  {
   "cell_type": "code",
   "execution_count": 55,
   "metadata": {},
   "outputs": [
    {
     "data": {
      "text/html": [
       "<div>\n",
       "<style scoped>\n",
       "    .dataframe tbody tr th:only-of-type {\n",
       "        vertical-align: middle;\n",
       "    }\n",
       "\n",
       "    .dataframe tbody tr th {\n",
       "        vertical-align: top;\n",
       "    }\n",
       "\n",
       "    .dataframe thead th {\n",
       "        text-align: right;\n",
       "    }\n",
       "</style>\n",
       "<table border=\"1\" class=\"dataframe\">\n",
       "  <thead>\n",
       "    <tr style=\"text-align: right;\">\n",
       "      <th>Movie_id</th>\n",
       "      <th>7</th>\n",
       "      <th>8</th>\n",
       "      <th>9</th>\n",
       "      <th>10</th>\n",
       "      <th>13</th>\n",
       "      <th>16</th>\n",
       "      <th>18</th>\n",
       "      <th>20</th>\n",
       "      <th>21</th>\n",
       "      <th>23</th>\n",
       "      <th>...</th>\n",
       "      <th>4670</th>\n",
       "      <th>4671</th>\n",
       "      <th>4676</th>\n",
       "      <th>4689</th>\n",
       "      <th>4690</th>\n",
       "      <th>4698</th>\n",
       "      <th>4705</th>\n",
       "      <th>4706</th>\n",
       "      <th>4707</th>\n",
       "      <th>4709</th>\n",
       "    </tr>\n",
       "    <tr>\n",
       "      <th>Cust_id</th>\n",
       "      <th></th>\n",
       "      <th></th>\n",
       "      <th></th>\n",
       "      <th></th>\n",
       "      <th></th>\n",
       "      <th></th>\n",
       "      <th></th>\n",
       "      <th></th>\n",
       "      <th></th>\n",
       "      <th></th>\n",
       "      <th></th>\n",
       "      <th></th>\n",
       "      <th></th>\n",
       "      <th></th>\n",
       "      <th></th>\n",
       "      <th></th>\n",
       "      <th></th>\n",
       "      <th></th>\n",
       "      <th></th>\n",
       "      <th></th>\n",
       "      <th></th>\n",
       "    </tr>\n",
       "  </thead>\n",
       "  <tbody>\n",
       "    <tr>\n",
       "      <th>6</th>\n",
       "      <td>3.0</td>\n",
       "      <td>NaN</td>\n",
       "      <td>NaN</td>\n",
       "      <td>NaN</td>\n",
       "      <td>NaN</td>\n",
       "      <td>NaN</td>\n",
       "      <td>NaN</td>\n",
       "      <td>NaN</td>\n",
       "      <td>NaN</td>\n",
       "      <td>4.0</td>\n",
       "      <td>...</td>\n",
       "      <td>NaN</td>\n",
       "      <td>NaN</td>\n",
       "      <td>4.0</td>\n",
       "      <td>3.0</td>\n",
       "      <td>3.0</td>\n",
       "      <td>NaN</td>\n",
       "      <td>NaN</td>\n",
       "      <td>NaN</td>\n",
       "      <td>NaN</td>\n",
       "      <td>5.0</td>\n",
       "    </tr>\n",
       "    <tr>\n",
       "      <th>7</th>\n",
       "      <td>NaN</td>\n",
       "      <td>5.0</td>\n",
       "      <td>NaN</td>\n",
       "      <td>NaN</td>\n",
       "      <td>NaN</td>\n",
       "      <td>NaN</td>\n",
       "      <td>NaN</td>\n",
       "      <td>NaN</td>\n",
       "      <td>4.0</td>\n",
       "      <td>NaN</td>\n",
       "      <td>...</td>\n",
       "      <td>NaN</td>\n",
       "      <td>NaN</td>\n",
       "      <td>NaN</td>\n",
       "      <td>NaN</td>\n",
       "      <td>4.0</td>\n",
       "      <td>NaN</td>\n",
       "      <td>3.0</td>\n",
       "      <td>4.0</td>\n",
       "      <td>NaN</td>\n",
       "      <td>NaN</td>\n",
       "    </tr>\n",
       "    <tr>\n",
       "      <th>10</th>\n",
       "      <td>NaN</td>\n",
       "      <td>NaN</td>\n",
       "      <td>NaN</td>\n",
       "      <td>NaN</td>\n",
       "      <td>NaN</td>\n",
       "      <td>NaN</td>\n",
       "      <td>NaN</td>\n",
       "      <td>NaN</td>\n",
       "      <td>NaN</td>\n",
       "      <td>NaN</td>\n",
       "      <td>...</td>\n",
       "      <td>NaN</td>\n",
       "      <td>3.0</td>\n",
       "      <td>NaN</td>\n",
       "      <td>NaN</td>\n",
       "      <td>3.0</td>\n",
       "      <td>NaN</td>\n",
       "      <td>NaN</td>\n",
       "      <td>NaN</td>\n",
       "      <td>NaN</td>\n",
       "      <td>NaN</td>\n",
       "    </tr>\n",
       "    <tr>\n",
       "      <th>79</th>\n",
       "      <td>NaN</td>\n",
       "      <td>NaN</td>\n",
       "      <td>NaN</td>\n",
       "      <td>NaN</td>\n",
       "      <td>NaN</td>\n",
       "      <td>NaN</td>\n",
       "      <td>NaN</td>\n",
       "      <td>NaN</td>\n",
       "      <td>NaN</td>\n",
       "      <td>NaN</td>\n",
       "      <td>...</td>\n",
       "      <td>NaN</td>\n",
       "      <td>NaN</td>\n",
       "      <td>NaN</td>\n",
       "      <td>3.0</td>\n",
       "      <td>NaN</td>\n",
       "      <td>NaN</td>\n",
       "      <td>5.0</td>\n",
       "      <td>NaN</td>\n",
       "      <td>NaN</td>\n",
       "      <td>4.0</td>\n",
       "    </tr>\n",
       "    <tr>\n",
       "      <th>97</th>\n",
       "      <td>NaN</td>\n",
       "      <td>NaN</td>\n",
       "      <td>NaN</td>\n",
       "      <td>NaN</td>\n",
       "      <td>NaN</td>\n",
       "      <td>NaN</td>\n",
       "      <td>NaN</td>\n",
       "      <td>NaN</td>\n",
       "      <td>NaN</td>\n",
       "      <td>NaN</td>\n",
       "      <td>...</td>\n",
       "      <td>NaN</td>\n",
       "      <td>NaN</td>\n",
       "      <td>NaN</td>\n",
       "      <td>NaN</td>\n",
       "      <td>NaN</td>\n",
       "      <td>NaN</td>\n",
       "      <td>NaN</td>\n",
       "      <td>NaN</td>\n",
       "      <td>NaN</td>\n",
       "      <td>NaN</td>\n",
       "    </tr>\n",
       "  </tbody>\n",
       "</table>\n",
       "<p>5 rows × 1414 columns</p>\n",
       "</div>"
      ],
      "text/plain": [
       "Movie_id  7     8     9     10    13    16    18    20    21    23    ...  \\\n",
       "Cust_id                                                               ...   \n",
       "6          3.0   NaN   NaN   NaN   NaN   NaN   NaN   NaN   NaN   4.0  ...   \n",
       "7          NaN   5.0   NaN   NaN   NaN   NaN   NaN   NaN   4.0   NaN  ...   \n",
       "10         NaN   NaN   NaN   NaN   NaN   NaN   NaN   NaN   NaN   NaN  ...   \n",
       "79         NaN   NaN   NaN   NaN   NaN   NaN   NaN   NaN   NaN   NaN  ...   \n",
       "97         NaN   NaN   NaN   NaN   NaN   NaN   NaN   NaN   NaN   NaN  ...   \n",
       "\n",
       "Movie_id  4670  4671  4676  4689  4690  4698  4705  4706  4707  4709  \n",
       "Cust_id                                                               \n",
       "6          NaN   NaN   4.0   3.0   3.0   NaN   NaN   NaN   NaN   5.0  \n",
       "7          NaN   NaN   NaN   NaN   4.0   NaN   3.0   4.0   NaN   NaN  \n",
       "10         NaN   3.0   NaN   NaN   3.0   NaN   NaN   NaN   NaN   NaN  \n",
       "79         NaN   NaN   NaN   3.0   NaN   NaN   5.0   NaN   NaN   4.0  \n",
       "97         NaN   NaN   NaN   NaN   NaN   NaN   NaN   NaN   NaN   NaN  \n",
       "\n",
       "[5 rows x 1414 columns]"
      ]
     },
     "execution_count": 55,
     "metadata": {},
     "output_type": "execute_result"
    }
   ],
   "source": [
    "# Build the ratings matrix using the pivot_table functionality\n",
    "ratings_matrix = X_train.pivot_table(values='Rating', index='Cust_id', columns='Movie_id')\n",
    "\n",
    "ratings_matrix.head(5)"
   ]
  },
  {
   "cell_type": "markdown",
   "metadata": {},
   "source": [
    "## Mean"
   ]
  },
  {
   "cell_type": "code",
   "execution_count": 57,
   "metadata": {},
   "outputs": [],
   "source": [
    "# Set the null / NaN ratings in the mean_ratings matrix to zero\n",
    "mean_ratings = ratings_matrix.copy().fillna(0)\n",
    "mean_ratings_sparse = csr_matrix(mean_ratings.values)\n",
    "mean_ratings = mean_ratings_sparse"
   ]
  },
  {
   "cell_type": "code",
   "execution_count": 58,
   "metadata": {},
   "outputs": [],
   "source": [
    "\n",
    "\n",
    "# Customer based collaborative filtering using mean ratings\n",
    "def collab_filter_mean(Cust_id, Movie_id):\n",
    "    \n",
    "    \n",
    "    # Check to see if Movie_id exists in ratings_matrix\n",
    "    if Movie_id in ratings_matrix:\n",
    "        \n",
    "        # Compute the mean of all the ratings given to the movie by the customers\n",
    "        mean_ratings = ratings_matrix[Movie_id].mean()\n",
    "        \n",
    "    else:\n",
    "        \n",
    "        # Default to a rating of 3.0 in the absense of any information\n",
    "        mean_ratings = 3.0\n",
    "        \n",
    "    return mean_ratings    "
   ]
  },
  {
   "cell_type": "code",
   "execution_count": null,
   "metadata": {},
   "outputs": [],
   "source": [
    "# runs slow\n",
    "\n",
    "# Compute RMSE for the Mean model\n",
    "score(collab_filter_mean)"
   ]
  },
  {
   "cell_type": "markdown",
   "metadata": {},
   "source": [
    "## Weighted Mean"
   ]
  },
  {
   "cell_type": "code",
   "execution_count": 52,
   "metadata": {},
   "outputs": [],
   "source": [
    "# Create a dummy ratings matrix with all null values imputed to 0\n",
    "ratings_matrix_dummy = ratings_matrix.copy().fillna(0)"
   ]
  },
  {
   "cell_type": "code",
   "execution_count": 54,
   "metadata": {},
   "outputs": [
    {
     "ename": "MemoryError",
     "evalue": "",
     "output_type": "error",
     "traceback": [
      "\u001b[1;31m---------------------------------------------------------------------------\u001b[0m",
      "\u001b[1;31mMemoryError\u001b[0m                               Traceback (most recent call last)",
      "\u001b[1;32m<ipython-input-54-08ef0789869b>\u001b[0m in \u001b[0;36m<module>\u001b[1;34m\u001b[0m\n\u001b[0;32m      3\u001b[0m \u001b[1;33m\u001b[0m\u001b[0m\n\u001b[0;32m      4\u001b[0m \u001b[1;31m# Compute the cosine similarity matrix using the dummy ratings matrix\u001b[0m\u001b[1;33m\u001b[0m\u001b[1;33m\u001b[0m\u001b[1;33m\u001b[0m\u001b[0m\n\u001b[1;32m----> 5\u001b[1;33m \u001b[0mcosine_similar\u001b[0m \u001b[1;33m=\u001b[0m \u001b[0mcosine_similarity\u001b[0m\u001b[1;33m(\u001b[0m\u001b[0mratings_matrix_dummy\u001b[0m\u001b[1;33m,\u001b[0m \u001b[0mratings_matrix_dummy\u001b[0m\u001b[1;33m)\u001b[0m\u001b[1;33m\u001b[0m\u001b[1;33m\u001b[0m\u001b[0m\n\u001b[0m",
      "\u001b[1;32mC:\\ProgramData\\Anaconda3\\lib\\site-packages\\sklearn\\metrics\\pairwise.py\u001b[0m in \u001b[0;36mcosine_similarity\u001b[1;34m(X, Y, dense_output)\u001b[0m\n\u001b[0;32m    903\u001b[0m \u001b[1;33m\u001b[0m\u001b[0m\n\u001b[0;32m    904\u001b[0m     K = safe_sparse_dot(X_normalized, Y_normalized.T,\n\u001b[1;32m--> 905\u001b[1;33m                         dense_output=dense_output)\n\u001b[0m\u001b[0;32m    906\u001b[0m \u001b[1;33m\u001b[0m\u001b[0m\n\u001b[0;32m    907\u001b[0m     \u001b[1;32mreturn\u001b[0m \u001b[0mK\u001b[0m\u001b[1;33m\u001b[0m\u001b[1;33m\u001b[0m\u001b[0m\n",
      "\u001b[1;32mC:\\ProgramData\\Anaconda3\\lib\\site-packages\\sklearn\\utils\\extmath.py\u001b[0m in \u001b[0;36msafe_sparse_dot\u001b[1;34m(a, b, dense_output)\u001b[0m\n\u001b[0;32m    171\u001b[0m         \u001b[1;32mreturn\u001b[0m \u001b[0mret\u001b[0m\u001b[1;33m\u001b[0m\u001b[1;33m\u001b[0m\u001b[0m\n\u001b[0;32m    172\u001b[0m     \u001b[1;32melse\u001b[0m\u001b[1;33m:\u001b[0m\u001b[1;33m\u001b[0m\u001b[1;33m\u001b[0m\u001b[0m\n\u001b[1;32m--> 173\u001b[1;33m         \u001b[1;32mreturn\u001b[0m \u001b[0mnp\u001b[0m\u001b[1;33m.\u001b[0m\u001b[0mdot\u001b[0m\u001b[1;33m(\u001b[0m\u001b[0ma\u001b[0m\u001b[1;33m,\u001b[0m \u001b[0mb\u001b[0m\u001b[1;33m)\u001b[0m\u001b[1;33m\u001b[0m\u001b[1;33m\u001b[0m\u001b[0m\n\u001b[0m\u001b[0;32m    174\u001b[0m \u001b[1;33m\u001b[0m\u001b[0m\n\u001b[0;32m    175\u001b[0m \u001b[1;33m\u001b[0m\u001b[0m\n",
      "\u001b[1;31mMemoryError\u001b[0m: "
     ]
    }
   ],
   "source": [
    "# Import cosine_score\n",
    "from sklearn.metrics.pairwise import cosine_similarity\n",
    "\n",
    "# Compute the cosine similarity matrix using the dummy ratings matrix\n",
    "cosine_similar = cosine_similarity(ratings_matrix_dummy, ratings_matrix_dummy)"
   ]
  },
  {
   "cell_type": "code",
   "execution_count": 51,
   "metadata": {},
   "outputs": [
    {
     "ename": "NameError",
     "evalue": "name 'cosine_similar' is not defined",
     "output_type": "error",
     "traceback": [
      "\u001b[1;31m---------------------------------------------------------------------------\u001b[0m",
      "\u001b[1;31mNameError\u001b[0m                                 Traceback (most recent call last)",
      "\u001b[1;32m<ipython-input-51-576407598281>\u001b[0m in \u001b[0;36m<module>\u001b[1;34m\u001b[0m\n\u001b[0;32m      1\u001b[0m \u001b[1;31m# Convert into pandas dataframe\u001b[0m\u001b[1;33m\u001b[0m\u001b[1;33m\u001b[0m\u001b[1;33m\u001b[0m\u001b[0m\n\u001b[1;32m----> 2\u001b[1;33m \u001b[0mcosine_similar\u001b[0m \u001b[1;33m=\u001b[0m \u001b[0mpd\u001b[0m\u001b[1;33m.\u001b[0m\u001b[0mDataFrame\u001b[0m\u001b[1;33m(\u001b[0m\u001b[0mcosine_similar\u001b[0m\u001b[1;33m,\u001b[0m \u001b[0mindex\u001b[0m\u001b[1;33m=\u001b[0m\u001b[0mratings_matrix\u001b[0m\u001b[1;33m.\u001b[0m\u001b[0mindex\u001b[0m\u001b[1;33m,\u001b[0m \u001b[0mcolumns\u001b[0m\u001b[1;33m=\u001b[0m\u001b[0mratings_matrix\u001b[0m\u001b[1;33m.\u001b[0m\u001b[0mindex\u001b[0m\u001b[1;33m)\u001b[0m\u001b[1;33m\u001b[0m\u001b[1;33m\u001b[0m\u001b[0m\n\u001b[0m\u001b[0;32m      3\u001b[0m \u001b[1;33m\u001b[0m\u001b[0m\n\u001b[0;32m      4\u001b[0m \u001b[0mcosine_similar\u001b[0m\u001b[1;33m.\u001b[0m\u001b[0mhead\u001b[0m\u001b[1;33m(\u001b[0m\u001b[1;36m5\u001b[0m\u001b[1;33m)\u001b[0m\u001b[1;33m\u001b[0m\u001b[1;33m\u001b[0m\u001b[0m\n",
      "\u001b[1;31mNameError\u001b[0m: name 'cosine_similar' is not defined"
     ]
    }
   ],
   "source": [
    "# Convert into pandas dataframe\n",
    "cosine_similar = pd.DataFrame(cosine_similar, index=ratings_matrix.index, columns=ratings_matrix.index)\n",
    "\n",
    "cosine_similar.head(5)"
   ]
  },
  {
   "cell_type": "code",
   "execution_count": 49,
   "metadata": {},
   "outputs": [],
   "source": [
    "# User based collaborative filtering using weighted mean ratings\n",
    "def collab_filter_cust_wmean(Cust_id, Movie_id):\n",
    "    \n",
    "    # Check to see if Movie_id exists in ratings_matrix\n",
    "    if Movie_id in ratings_matrix:\n",
    "        \n",
    "        # Pull similarity scores for the customer in question with every other customer\n",
    "        similar_scores = cosine_similar[Cust_id]\n",
    "        \n",
    "        # Pull the customer ratings for the movie in question\n",
    "        movie_ratings = ratings_matrix[Movie_id]\n",
    "        \n",
    "        # Extract the indices containing NaN in the moving_ratings series\n",
    "        idx = movie_ratings[movie_ratings.isnull()].index\n",
    "        \n",
    "        # Drop the corresponding cosine scores from the similar_scores series\n",
    "        similar_scores = similar_scores.drop(idx)\n",
    "        \n",
    "        # Compute the final weighted mean\n",
    "        wmean_rating = np.dot(similar_scores, movie_ratings) / similar_scores.sum()\n",
    "        \n",
    "    else:\n",
    "        \n",
    "        # Default to a rating of 3.0 which is the middle of ratings in the absence of any other information\n",
    "        \n",
    "        wmean_rating = 3.0\n",
    "    \n",
    "    return wmean_rating "
   ]
  },
  {
   "cell_type": "code",
   "execution_count": 50,
   "metadata": {},
   "outputs": [
    {
     "ename": "NameError",
     "evalue": "name 'cosine_similar' is not defined",
     "output_type": "error",
     "traceback": [
      "\u001b[1;31m---------------------------------------------------------------------------\u001b[0m",
      "\u001b[1;31mNameError\u001b[0m                                 Traceback (most recent call last)",
      "\u001b[1;32m<ipython-input-50-5fb53cb32d08>\u001b[0m in \u001b[0;36m<module>\u001b[1;34m\u001b[0m\n\u001b[1;32m----> 1\u001b[1;33m \u001b[0mscore\u001b[0m\u001b[1;33m(\u001b[0m\u001b[0mcollab_filter_cust_wmean\u001b[0m\u001b[1;33m)\u001b[0m\u001b[1;33m\u001b[0m\u001b[1;33m\u001b[0m\u001b[0m\n\u001b[0m",
      "\u001b[1;32m<ipython-input-35-29e598e42cc2>\u001b[0m in \u001b[0;36mscore\u001b[1;34m(collab_filter_model)\u001b[0m\n\u001b[0;32m     27\u001b[0m \u001b[1;33m\u001b[0m\u001b[0m\n\u001b[0;32m     28\u001b[0m     \u001b[1;31m# Predict the rating for every customer - movie tuple\u001b[0m\u001b[1;33m\u001b[0m\u001b[1;33m\u001b[0m\u001b[1;33m\u001b[0m\u001b[0m\n\u001b[1;32m---> 29\u001b[1;33m     \u001b[0my_pred\u001b[0m \u001b[1;33m=\u001b[0m \u001b[0mnp\u001b[0m\u001b[1;33m.\u001b[0m\u001b[0marray\u001b[0m\u001b[1;33m(\u001b[0m\u001b[1;33m[\u001b[0m\u001b[0mcollab_filter_model\u001b[0m\u001b[1;33m(\u001b[0m\u001b[0mcustomer\u001b[0m\u001b[1;33m,\u001b[0m \u001b[0mmovie\u001b[0m\u001b[1;33m)\u001b[0m \u001b[1;32mfor\u001b[0m \u001b[1;33m(\u001b[0m\u001b[0mcustomer\u001b[0m\u001b[1;33m,\u001b[0m \u001b[0mmovie\u001b[0m\u001b[1;33m)\u001b[0m\u001b[1;32min\u001b[0m \u001b[0mid_cust_movie\u001b[0m\u001b[1;33m]\u001b[0m\u001b[1;33m)\u001b[0m\u001b[1;33m\u001b[0m\u001b[1;33m\u001b[0m\u001b[0m\n\u001b[0m\u001b[0;32m     30\u001b[0m \u001b[1;33m\u001b[0m\u001b[0m\n\u001b[0;32m     31\u001b[0m     \u001b[1;31m# Extract the actual ratings given by the customers in the test dataset\u001b[0m\u001b[1;33m\u001b[0m\u001b[1;33m\u001b[0m\u001b[1;33m\u001b[0m\u001b[0m\n",
      "\u001b[1;32m<ipython-input-35-29e598e42cc2>\u001b[0m in \u001b[0;36m<listcomp>\u001b[1;34m(.0)\u001b[0m\n\u001b[0;32m     27\u001b[0m \u001b[1;33m\u001b[0m\u001b[0m\n\u001b[0;32m     28\u001b[0m     \u001b[1;31m# Predict the rating for every customer - movie tuple\u001b[0m\u001b[1;33m\u001b[0m\u001b[1;33m\u001b[0m\u001b[1;33m\u001b[0m\u001b[0m\n\u001b[1;32m---> 29\u001b[1;33m     \u001b[0my_pred\u001b[0m \u001b[1;33m=\u001b[0m \u001b[0mnp\u001b[0m\u001b[1;33m.\u001b[0m\u001b[0marray\u001b[0m\u001b[1;33m(\u001b[0m\u001b[1;33m[\u001b[0m\u001b[0mcollab_filter_model\u001b[0m\u001b[1;33m(\u001b[0m\u001b[0mcustomer\u001b[0m\u001b[1;33m,\u001b[0m \u001b[0mmovie\u001b[0m\u001b[1;33m)\u001b[0m \u001b[1;32mfor\u001b[0m \u001b[1;33m(\u001b[0m\u001b[0mcustomer\u001b[0m\u001b[1;33m,\u001b[0m \u001b[0mmovie\u001b[0m\u001b[1;33m)\u001b[0m\u001b[1;32min\u001b[0m \u001b[0mid_cust_movie\u001b[0m\u001b[1;33m]\u001b[0m\u001b[1;33m)\u001b[0m\u001b[1;33m\u001b[0m\u001b[1;33m\u001b[0m\u001b[0m\n\u001b[0m\u001b[0;32m     30\u001b[0m \u001b[1;33m\u001b[0m\u001b[0m\n\u001b[0;32m     31\u001b[0m     \u001b[1;31m# Extract the actual ratings given by the customers in the test dataset\u001b[0m\u001b[1;33m\u001b[0m\u001b[1;33m\u001b[0m\u001b[1;33m\u001b[0m\u001b[0m\n",
      "\u001b[1;32m<ipython-input-49-24923dace0e6>\u001b[0m in \u001b[0;36mcollab_filter_cust_wmean\u001b[1;34m(Cust_id, Movie_id)\u001b[0m\n\u001b[0;32m      6\u001b[0m \u001b[1;33m\u001b[0m\u001b[0m\n\u001b[0;32m      7\u001b[0m         \u001b[1;31m# Pull similarity scores for the customer in question with every other customer\u001b[0m\u001b[1;33m\u001b[0m\u001b[1;33m\u001b[0m\u001b[1;33m\u001b[0m\u001b[0m\n\u001b[1;32m----> 8\u001b[1;33m         \u001b[0msimilar_scores\u001b[0m \u001b[1;33m=\u001b[0m \u001b[0mcosine_similar\u001b[0m\u001b[1;33m[\u001b[0m\u001b[0mCust_id\u001b[0m\u001b[1;33m]\u001b[0m\u001b[1;33m\u001b[0m\u001b[1;33m\u001b[0m\u001b[0m\n\u001b[0m\u001b[0;32m      9\u001b[0m \u001b[1;33m\u001b[0m\u001b[0m\n\u001b[0;32m     10\u001b[0m         \u001b[1;31m# Pull the customer ratings for the movie in question\u001b[0m\u001b[1;33m\u001b[0m\u001b[1;33m\u001b[0m\u001b[1;33m\u001b[0m\u001b[0m\n",
      "\u001b[1;31mNameError\u001b[0m: name 'cosine_similar' is not defined"
     ]
    }
   ],
   "source": [
    "score(collab_filter_cust_wmean)"
   ]
  },
  {
   "cell_type": "markdown",
   "metadata": {},
   "source": [
    "## kNN  and SVD Model Based Approach"
   ]
  },
  {
   "cell_type": "markdown",
   "metadata": {},
   "source": [
    "### kNN Approach"
   ]
  },
  {
   "cell_type": "code",
   "execution_count": null,
   "metadata": {},
   "outputs": [],
   "source": [
    "# Import the required classes and methods from the surprise library - specially formulated for recommender systems\n",
    "from surprise import Reader, Dataset, KNNBasic, evaluate\n",
    "\n",
    "# Define the Reader object\n",
    "reader - Reader()\n",
    "\n",
    "# Create the datset to be used for building the collaborative filter\n",
    "movie_data = Datset.load_from_df(Ratings, reader)\n",
    "\n",
    "kNN = KNNBasic()\n",
    "\n",
    "# Evaluate the performance in terms of RMSE\n",
    "evaluate(kNN, movie_data, measures=['RMSE'])"
   ]
  },
  {
   "cell_type": "markdown",
   "metadata": {},
   "source": [
    "### SVD Approach"
   ]
  },
  {
   "cell_type": "code",
   "execution_count": null,
   "metadata": {},
   "outputs": [],
   "source": [
    "# Import SVD\n",
    "from surprise import SVD\n",
    "\n",
    "# Define the SVD algorithm object\n",
    "svd = SVD()\n",
    "\n",
    "# Evaluate the performance in terms of RMSE\n",
    "evaluate(svd, movie_data, measures=['RMSE'])"
   ]
  },
  {
   "cell_type": "code",
   "execution_count": null,
   "metadata": {},
   "outputs": [],
   "source": []
  },
  {
   "cell_type": "code",
   "execution_count": null,
   "metadata": {},
   "outputs": [],
   "source": []
  },
  {
   "cell_type": "markdown",
   "metadata": {},
   "source": [
    "### Hybrid Filtering"
   ]
  },
  {
   "cell_type": "code",
   "execution_count": null,
   "metadata": {},
   "outputs": [],
   "source": []
  },
  {
   "cell_type": "code",
   "execution_count": null,
   "metadata": {},
   "outputs": [],
   "source": []
  },
  {
   "cell_type": "code",
   "execution_count": null,
   "metadata": {},
   "outputs": [],
   "source": []
  },
  {
   "cell_type": "code",
   "execution_count": null,
   "metadata": {},
   "outputs": [],
   "source": []
  },
  {
   "cell_type": "code",
   "execution_count": null,
   "metadata": {},
   "outputs": [],
   "source": []
  },
  {
   "cell_type": "code",
   "execution_count": null,
   "metadata": {},
   "outputs": [],
   "source": []
  },
  {
   "cell_type": "code",
   "execution_count": null,
   "metadata": {},
   "outputs": [],
   "source": []
  }
 ],
 "metadata": {
  "kernelspec": {
   "display_name": "Python 3",
   "language": "python",
   "name": "python3"
  },
  "language_info": {
   "codemirror_mode": {
    "name": "ipython",
    "version": 3
   },
   "file_extension": ".py",
   "mimetype": "text/x-python",
   "name": "python",
   "nbconvert_exporter": "python",
   "pygments_lexer": "ipython3",
   "version": "3.7.3"
  }
 },
 "nbformat": 4,
 "nbformat_minor": 2
}
