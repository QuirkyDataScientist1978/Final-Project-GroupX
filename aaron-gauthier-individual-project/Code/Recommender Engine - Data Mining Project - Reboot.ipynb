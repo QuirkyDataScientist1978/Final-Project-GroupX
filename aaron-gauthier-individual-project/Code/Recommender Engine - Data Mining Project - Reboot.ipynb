{
 "cells": [
  {
   "cell_type": "code",
   "execution_count": 110,
   "metadata": {},
   "outputs": [],
   "source": [
    "import pandas as pd\n",
    "import numpy as np\n",
    "import matplotlib.pyplot as plt\n",
    "%matplotlib inline\n",
    "import math\n",
    "import re\n",
    "import seaborn as sns\n",
    "from surprise import Reader, Dataset, SVD, evaluate\n",
    "sns.set_style(\"darkgrid\")\n",
    "import os\n",
    "import time\n",
    "import gc\n",
    "import warnings\n",
    "warnings.filterwarnings('ignore')"
   ]
  },
  {
   "cell_type": "code",
   "execution_count": 111,
   "metadata": {},
   "outputs": [
    {
     "name": "stdout",
     "output_type": "stream",
     "text": [
      "Dataset 2 shape: (514358, 3)\n",
      "-Dataset examples-\n",
      "        movie_id  user_id  rating\n",
      "0              1   729846     4.0\n",
      "50000       1905   517358     3.0\n",
      "100000      3713  2154387     3.0\n",
      "150000      5345  2226039     3.0\n",
      "200000      6930   798248     5.0\n",
      "250000      8782  2093597     5.0\n",
      "300000     10730  1415809     4.0\n",
      "350000     12376  1962698     4.0\n",
      "400000     14203  2004709     3.0\n",
      "450000     15582   934318     5.0\n",
      "500000     17295  1175759     2.0\n"
     ]
    },
    {
     "data": {
      "text/html": [
       "<div>\n",
       "<style scoped>\n",
       "    .dataframe tbody tr th:only-of-type {\n",
       "        vertical-align: middle;\n",
       "    }\n",
       "\n",
       "    .dataframe tbody tr th {\n",
       "        vertical-align: top;\n",
       "    }\n",
       "\n",
       "    .dataframe thead th {\n",
       "        text-align: right;\n",
       "    }\n",
       "</style>\n",
       "<table border=\"1\" class=\"dataframe\">\n",
       "  <thead>\n",
       "    <tr style=\"text-align: right;\">\n",
       "      <th></th>\n",
       "      <th>movie_id</th>\n",
       "      <th>user_id</th>\n",
       "      <th>rating</th>\n",
       "    </tr>\n",
       "  </thead>\n",
       "  <tbody>\n",
       "    <tr>\n",
       "      <th>0</th>\n",
       "      <td>1</td>\n",
       "      <td>729846</td>\n",
       "      <td>4.0</td>\n",
       "    </tr>\n",
       "    <tr>\n",
       "      <th>1</th>\n",
       "      <td>1</td>\n",
       "      <td>915</td>\n",
       "      <td>5.0</td>\n",
       "    </tr>\n",
       "    <tr>\n",
       "      <th>2</th>\n",
       "      <td>1</td>\n",
       "      <td>1839976</td>\n",
       "      <td>2.0</td>\n",
       "    </tr>\n",
       "    <tr>\n",
       "      <th>3</th>\n",
       "      <td>1</td>\n",
       "      <td>1682651</td>\n",
       "      <td>4.0</td>\n",
       "    </tr>\n",
       "    <tr>\n",
       "      <th>4</th>\n",
       "      <td>1</td>\n",
       "      <td>1140108</td>\n",
       "      <td>4.0</td>\n",
       "    </tr>\n",
       "  </tbody>\n",
       "</table>\n",
       "</div>"
      ],
      "text/plain": [
       "   movie_id  user_id  rating\n",
       "0         1   729846     4.0\n",
       "1         1      915     5.0\n",
       "2         1  1839976     2.0\n",
       "3         1  1682651     4.0\n",
       "4         1  1140108     4.0"
      ]
     },
     "execution_count": 111,
     "metadata": {},
     "output_type": "execute_result"
    }
   ],
   "source": [
    "# Date not needed\n",
    "\n",
    "netflix_df2 = pd.read_csv('few_samples_netflix.csv')\n",
    "\n",
    "netflix_df2['rating'] = netflix_df2['rating'].astype(float)\n",
    "\n",
    "print('Dataset 2 shape: {}'.format(netflix_df2.shape))\n",
    "print('-Dataset examples-')\n",
    "print(netflix_df2.iloc[::50000, :])\n",
    "\n",
    "netflix_df2.head(5)"
   ]
  },
  {
   "cell_type": "code",
   "execution_count": 112,
   "metadata": {},
   "outputs": [
    {
     "data": {
      "text/html": [
       "<div>\n",
       "<style scoped>\n",
       "    .dataframe tbody tr th:only-of-type {\n",
       "        vertical-align: middle;\n",
       "    }\n",
       "\n",
       "    .dataframe tbody tr th {\n",
       "        vertical-align: top;\n",
       "    }\n",
       "\n",
       "    .dataframe thead th {\n",
       "        text-align: right;\n",
       "    }\n",
       "</style>\n",
       "<table border=\"1\" class=\"dataframe\">\n",
       "  <thead>\n",
       "    <tr style=\"text-align: right;\">\n",
       "      <th></th>\n",
       "      <th>movie_id</th>\n",
       "      <th>year</th>\n",
       "      <th>movie_title</th>\n",
       "    </tr>\n",
       "  </thead>\n",
       "  <tbody>\n",
       "    <tr>\n",
       "      <th>0</th>\n",
       "      <td>1</td>\n",
       "      <td>2003.0</td>\n",
       "      <td>Dinosaur Planet</td>\n",
       "    </tr>\n",
       "    <tr>\n",
       "      <th>1</th>\n",
       "      <td>2</td>\n",
       "      <td>2004.0</td>\n",
       "      <td>Isle of Man TT 2004 Review</td>\n",
       "    </tr>\n",
       "    <tr>\n",
       "      <th>2</th>\n",
       "      <td>3</td>\n",
       "      <td>1997.0</td>\n",
       "      <td>Character</td>\n",
       "    </tr>\n",
       "    <tr>\n",
       "      <th>3</th>\n",
       "      <td>4</td>\n",
       "      <td>1994.0</td>\n",
       "      <td>Paula Abdul's Get Up &amp; Dance</td>\n",
       "    </tr>\n",
       "    <tr>\n",
       "      <th>4</th>\n",
       "      <td>5</td>\n",
       "      <td>2004.0</td>\n",
       "      <td>The Rise and Fall of ECW</td>\n",
       "    </tr>\n",
       "  </tbody>\n",
       "</table>\n",
       "</div>"
      ],
      "text/plain": [
       "   movie_id    year                   movie_title\n",
       "0         1  2003.0               Dinosaur Planet\n",
       "1         2  2004.0    Isle of Man TT 2004 Review\n",
       "2         3  1997.0                     Character\n",
       "3         4  1994.0  Paula Abdul's Get Up & Dance\n",
       "4         5  2004.0      The Rise and Fall of ECW"
      ]
     },
     "execution_count": 112,
     "metadata": {},
     "output_type": "execute_result"
    }
   ],
   "source": [
    "netflix_movie_titles_df5 = pd.read_csv('movie_titles.txt', delimiter='\\t', header=None)\n",
    "#netflix_movie_titles_df5.drop(['Unnamed: 3', 'Unnamed: 4', 'Unnamed: 5'], axis =1)\n",
    "netflix_movie_titles_df5 = netflix_movie_titles_df5.iloc[:, 0:3]\n",
    "netflix_movie_titles_df5.columns = ['movie_id', 'year', 'movie_title']\n",
    "netflix_movie_titles_df5['year'] = netflix_movie_titles_df5['year']\n",
    "netflix_movie_titles_df5.head(5)"
   ]
  },
  {
   "cell_type": "code",
   "execution_count": 113,
   "metadata": {},
   "outputs": [
    {
     "data": {
      "text/html": [
       "<div>\n",
       "<style scoped>\n",
       "    .dataframe tbody tr th:only-of-type {\n",
       "        vertical-align: middle;\n",
       "    }\n",
       "\n",
       "    .dataframe tbody tr th {\n",
       "        vertical-align: top;\n",
       "    }\n",
       "\n",
       "    .dataframe thead th {\n",
       "        text-align: right;\n",
       "    }\n",
       "</style>\n",
       "<table border=\"1\" class=\"dataframe\">\n",
       "  <thead>\n",
       "    <tr style=\"text-align: right;\">\n",
       "      <th></th>\n",
       "      <th>movie_id</th>\n",
       "      <th>user_id</th>\n",
       "      <th>rating</th>\n",
       "      <th>year</th>\n",
       "      <th>movie_title</th>\n",
       "    </tr>\n",
       "  </thead>\n",
       "  <tbody>\n",
       "    <tr>\n",
       "      <th>0</th>\n",
       "      <td>1</td>\n",
       "      <td>729846</td>\n",
       "      <td>4.0</td>\n",
       "      <td>2003.0</td>\n",
       "      <td>Dinosaur Planet</td>\n",
       "    </tr>\n",
       "    <tr>\n",
       "      <th>1</th>\n",
       "      <td>1</td>\n",
       "      <td>915</td>\n",
       "      <td>5.0</td>\n",
       "      <td>2003.0</td>\n",
       "      <td>Dinosaur Planet</td>\n",
       "    </tr>\n",
       "    <tr>\n",
       "      <th>2</th>\n",
       "      <td>1</td>\n",
       "      <td>1839976</td>\n",
       "      <td>2.0</td>\n",
       "      <td>2003.0</td>\n",
       "      <td>Dinosaur Planet</td>\n",
       "    </tr>\n",
       "    <tr>\n",
       "      <th>3</th>\n",
       "      <td>1</td>\n",
       "      <td>1682651</td>\n",
       "      <td>4.0</td>\n",
       "      <td>2003.0</td>\n",
       "      <td>Dinosaur Planet</td>\n",
       "    </tr>\n",
       "    <tr>\n",
       "      <th>4</th>\n",
       "      <td>1</td>\n",
       "      <td>1140108</td>\n",
       "      <td>4.0</td>\n",
       "      <td>2003.0</td>\n",
       "      <td>Dinosaur Planet</td>\n",
       "    </tr>\n",
       "  </tbody>\n",
       "</table>\n",
       "</div>"
      ],
      "text/plain": [
       "   movie_id  user_id  rating    year      movie_title\n",
       "0         1   729846     4.0  2003.0  Dinosaur Planet\n",
       "1         1      915     5.0  2003.0  Dinosaur Planet\n",
       "2         1  1839976     2.0  2003.0  Dinosaur Planet\n",
       "3         1  1682651     4.0  2003.0  Dinosaur Planet\n",
       "4         1  1140108     4.0  2003.0  Dinosaur Planet"
      ]
     },
     "execution_count": 113,
     "metadata": {},
     "output_type": "execute_result"
    }
   ],
   "source": [
    "full_netflix_data = pd.merge(netflix_df2, netflix_movie_titles_df5, on='movie_id')\n",
    "full_netflix_data.head(5)"
   ]
  },
  {
   "cell_type": "code",
   "execution_count": 114,
   "metadata": {},
   "outputs": [
    {
     "data": {
      "text/plain": [
       "count    514358.000000\n",
       "mean          3.600811\n",
       "std           1.074233\n",
       "min           1.000000\n",
       "25%           3.000000\n",
       "50%           4.000000\n",
       "75%           4.000000\n",
       "max           5.000000\n",
       "Name: rating, dtype: float64"
      ]
     },
     "execution_count": 114,
     "metadata": {},
     "output_type": "execute_result"
    }
   ],
   "source": [
    "# Lets see what we have here \n",
    "full_netflix_data.describe()['rating']"
   ]
  },
  {
   "cell_type": "code",
   "execution_count": 115,
   "metadata": {},
   "outputs": [
    {
     "name": "stdout",
     "output_type": "stream",
     "text": [
      "Number of NaN values in Netflix dataframe :  0\n"
     ]
    }
   ],
   "source": [
    "print(\"Number of NaN values in Netflix dataframe : \", sum(full_netflix_data.isnull().any()))"
   ]
  },
  {
   "cell_type": "code",
   "execution_count": 116,
   "metadata": {},
   "outputs": [
    {
     "name": "stdout",
     "output_type": "stream",
     "text": [
      "There are 0 duplicate rating entries in the data.\n"
     ]
    }
   ],
   "source": [
    "duplicates = full_netflix_data.duplicated(['movie_id','user_id','rating'])\n",
    "dups = sum(duplicates) # by considering all columns..( including timestamp)\n",
    "print(\"There are {} duplicate rating entries in the data.\".format(dups))"
   ]
  },
  {
   "cell_type": "code",
   "execution_count": 117,
   "metadata": {},
   "outputs": [
    {
     "name": "stdout",
     "output_type": "stream",
     "text": [
      "Total data \n",
      "--------------------------------------------------\n",
      "\n",
      "Total number of ratings : 514358\n",
      "Total number of users   : 1934\n",
      "Total number of movies  : 11855\n"
     ]
    }
   ],
   "source": [
    "print(\"Total data \")\n",
    "print(\"-\"*50)\n",
    "print(\"\\nTotal number of ratings :\",full_netflix_data.shape[0])\n",
    "print(\"Total number of users   :\", len(np.unique(full_netflix_data.user_id)))\n",
    "print(\"Total number of movies  :\", len(np.unique(full_netflix_data.movie_id)))"
   ]
  },
  {
   "cell_type": "code",
   "execution_count": 118,
   "metadata": {},
   "outputs": [
    {
     "name": "stdout",
     "output_type": "stream",
     "text": [
      "Full Netflix dataset shape: (514358, 5)\n",
      "---Dataset examples---\n",
      "        movie_id  user_id  rating    year  \\\n",
      "0              1   729846     4.0  2003.0   \n",
      "50000       1905   517358     3.0  2003.0   \n",
      "100000      3713  2154387     3.0  2004.0   \n",
      "150000      5345  2226039     3.0  2004.0   \n",
      "200000      6930   798248     5.0  2001.0   \n",
      "250000      8782  2093597     5.0  2001.0   \n",
      "300000     10730  1415809     4.0  2002.0   \n",
      "350000     12376  1962698     4.0  1988.0   \n",
      "400000     14203  2004709     3.0  1995.0   \n",
      "450000     15582   934318     5.0  2002.0   \n",
      "500000     17295  1175759     2.0  2000.0   \n",
      "\n",
      "                                              movie_title  \n",
      "0                                         Dinosaur Planet  \n",
      "50000   Pirates of the Caribbean: The Curse of the Bla...  \n",
      "100000                                                Saw  \n",
      "150000                                         Shark Tale  \n",
      "200000                              The Safety of Objects  \n",
      "250000                               The Royal Tenenbaums  \n",
      "300000                                  Gangs of New York  \n",
      "350000                                      The Dead Pool  \n",
      "400000                                     Batman Forever  \n",
      "450000                                 Sweet Home Alabama  \n",
      "500000                                                 Me  \n"
     ]
    },
    {
     "data": {
      "text/html": [
       "<div>\n",
       "<style scoped>\n",
       "    .dataframe tbody tr th:only-of-type {\n",
       "        vertical-align: middle;\n",
       "    }\n",
       "\n",
       "    .dataframe tbody tr th {\n",
       "        vertical-align: top;\n",
       "    }\n",
       "\n",
       "    .dataframe thead th {\n",
       "        text-align: right;\n",
       "    }\n",
       "</style>\n",
       "<table border=\"1\" class=\"dataframe\">\n",
       "  <thead>\n",
       "    <tr style=\"text-align: right;\">\n",
       "      <th></th>\n",
       "      <th>movie_id</th>\n",
       "      <th>user_id</th>\n",
       "      <th>rating</th>\n",
       "      <th>year</th>\n",
       "      <th>movie_title</th>\n",
       "    </tr>\n",
       "  </thead>\n",
       "  <tbody>\n",
       "    <tr>\n",
       "      <th>0</th>\n",
       "      <td>1</td>\n",
       "      <td>729846</td>\n",
       "      <td>4.0</td>\n",
       "      <td>2003.0</td>\n",
       "      <td>Dinosaur Planet</td>\n",
       "    </tr>\n",
       "    <tr>\n",
       "      <th>1</th>\n",
       "      <td>1</td>\n",
       "      <td>915</td>\n",
       "      <td>5.0</td>\n",
       "      <td>2003.0</td>\n",
       "      <td>Dinosaur Planet</td>\n",
       "    </tr>\n",
       "    <tr>\n",
       "      <th>2</th>\n",
       "      <td>1</td>\n",
       "      <td>1839976</td>\n",
       "      <td>2.0</td>\n",
       "      <td>2003.0</td>\n",
       "      <td>Dinosaur Planet</td>\n",
       "    </tr>\n",
       "    <tr>\n",
       "      <th>3</th>\n",
       "      <td>1</td>\n",
       "      <td>1682651</td>\n",
       "      <td>4.0</td>\n",
       "      <td>2003.0</td>\n",
       "      <td>Dinosaur Planet</td>\n",
       "    </tr>\n",
       "    <tr>\n",
       "      <th>4</th>\n",
       "      <td>1</td>\n",
       "      <td>1140108</td>\n",
       "      <td>4.0</td>\n",
       "      <td>2003.0</td>\n",
       "      <td>Dinosaur Planet</td>\n",
       "    </tr>\n",
       "  </tbody>\n",
       "</table>\n",
       "</div>"
      ],
      "text/plain": [
       "   movie_id  user_id  rating    year      movie_title\n",
       "0         1   729846     4.0  2003.0  Dinosaur Planet\n",
       "1         1      915     5.0  2003.0  Dinosaur Planet\n",
       "2         1  1839976     2.0  2003.0  Dinosaur Planet\n",
       "3         1  1682651     4.0  2003.0  Dinosaur Planet\n",
       "4         1  1140108     4.0  2003.0  Dinosaur Planet"
      ]
     },
     "execution_count": 118,
     "metadata": {},
     "output_type": "execute_result"
    }
   ],
   "source": [
    "print('Full Netflix dataset shape: {}'.format(full_netflix_data.shape))\n",
    "print('---Dataset examples---')\n",
    "print(full_netflix_data.iloc[::50000, :])\n",
    "\n",
    "full_netflix_data.head(5)"
   ]
  },
  {
   "cell_type": "code",
   "execution_count": 119,
   "metadata": {},
   "outputs": [
    {
     "name": "stdout",
     "output_type": "stream",
     "text": [
      "Minimum number of times movies were reviewed: 21.0\n",
      "Minimum number of times customers reviewed movies: 287.0\n"
     ]
    }
   ],
   "source": [
    "# play with quartile because it may affect model accuracy\n",
    "\n",
    "count_mean_vars = ['count', 'mean']\n",
    "\n",
    "movie_summary_df = full_netflix_data.groupby('movie_id')['rating'].agg(count_mean_vars)\n",
    "movie_summary_df.index = movie_summary_df.index.map(int)\n",
    "movie_benchmark = round(movie_summary_df['count'].quantile(0.70), 0)\n",
    "movie_list_benchmark_drop = movie_summary_df[movie_summary_df['count'] < movie_benchmark].index\n",
    "\n",
    "print('Minimum number of times movies were reviewed: {}'.format(movie_benchmark))\n",
    "\n",
    "customer_summary_df = full_netflix_data.groupby('user_id')['rating'].agg(count_mean_vars)\n",
    "customer_summary_df.index = customer_summary_df.index.map(int)\n",
    "customer_benchmark = round(customer_summary_df['count'].quantile(0.70), 0)\n",
    "customer_list_benchmark_drop = customer_summary_df[customer_summary_df['count'] < customer_benchmark].index\n",
    "\n",
    "print('Minimum number of times customers reviewed movies: {}'.format(customer_benchmark))"
   ]
  },
  {
   "cell_type": "code",
   "execution_count": 167,
   "metadata": {},
   "outputs": [
    {
     "data": {
      "text/html": [
       "<div>\n",
       "<style scoped>\n",
       "    .dataframe tbody tr th:only-of-type {\n",
       "        vertical-align: middle;\n",
       "    }\n",
       "\n",
       "    .dataframe tbody tr th {\n",
       "        vertical-align: top;\n",
       "    }\n",
       "\n",
       "    .dataframe thead th {\n",
       "        text-align: right;\n",
       "    }\n",
       "</style>\n",
       "<table border=\"1\" class=\"dataframe\">\n",
       "  <thead>\n",
       "    <tr style=\"text-align: right;\">\n",
       "      <th></th>\n",
       "      <th>movie_id</th>\n",
       "      <th>user_id</th>\n",
       "      <th>rating</th>\n",
       "      <th>year</th>\n",
       "      <th>movie_title</th>\n",
       "    </tr>\n",
       "  </thead>\n",
       "  <tbody>\n",
       "    <tr>\n",
       "      <th>0</th>\n",
       "      <td>1</td>\n",
       "      <td>729846</td>\n",
       "      <td>4.0</td>\n",
       "      <td>2003.0</td>\n",
       "      <td>Dinosaur Planet</td>\n",
       "    </tr>\n",
       "    <tr>\n",
       "      <th>1</th>\n",
       "      <td>1</td>\n",
       "      <td>915</td>\n",
       "      <td>5.0</td>\n",
       "      <td>2003.0</td>\n",
       "      <td>Dinosaur Planet</td>\n",
       "    </tr>\n",
       "    <tr>\n",
       "      <th>2</th>\n",
       "      <td>1</td>\n",
       "      <td>1839976</td>\n",
       "      <td>2.0</td>\n",
       "      <td>2003.0</td>\n",
       "      <td>Dinosaur Planet</td>\n",
       "    </tr>\n",
       "    <tr>\n",
       "      <th>3</th>\n",
       "      <td>1</td>\n",
       "      <td>1682651</td>\n",
       "      <td>4.0</td>\n",
       "      <td>2003.0</td>\n",
       "      <td>Dinosaur Planet</td>\n",
       "    </tr>\n",
       "    <tr>\n",
       "      <th>4</th>\n",
       "      <td>1</td>\n",
       "      <td>1140108</td>\n",
       "      <td>4.0</td>\n",
       "      <td>2003.0</td>\n",
       "      <td>Dinosaur Planet</td>\n",
       "    </tr>\n",
       "    <tr>\n",
       "      <th>5</th>\n",
       "      <td>3</td>\n",
       "      <td>1644750</td>\n",
       "      <td>3.0</td>\n",
       "      <td>1997.0</td>\n",
       "      <td>Character</td>\n",
       "    </tr>\n",
       "    <tr>\n",
       "      <th>6</th>\n",
       "      <td>3</td>\n",
       "      <td>376148</td>\n",
       "      <td>5.0</td>\n",
       "      <td>1997.0</td>\n",
       "      <td>Character</td>\n",
       "    </tr>\n",
       "    <tr>\n",
       "      <th>7</th>\n",
       "      <td>3</td>\n",
       "      <td>1956967</td>\n",
       "      <td>4.0</td>\n",
       "      <td>1997.0</td>\n",
       "      <td>Character</td>\n",
       "    </tr>\n",
       "    <tr>\n",
       "      <th>8</th>\n",
       "      <td>3</td>\n",
       "      <td>2095263</td>\n",
       "      <td>4.0</td>\n",
       "      <td>1997.0</td>\n",
       "      <td>Character</td>\n",
       "    </tr>\n",
       "    <tr>\n",
       "      <th>9</th>\n",
       "      <td>3</td>\n",
       "      <td>665242</td>\n",
       "      <td>2.0</td>\n",
       "      <td>1997.0</td>\n",
       "      <td>Character</td>\n",
       "    </tr>\n",
       "  </tbody>\n",
       "</table>\n",
       "</div>"
      ],
      "text/plain": [
       "   movie_id  user_id  rating    year      movie_title\n",
       "0         1   729846     4.0  2003.0  Dinosaur Planet\n",
       "1         1      915     5.0  2003.0  Dinosaur Planet\n",
       "2         1  1839976     2.0  2003.0  Dinosaur Planet\n",
       "3         1  1682651     4.0  2003.0  Dinosaur Planet\n",
       "4         1  1140108     4.0  2003.0  Dinosaur Planet\n",
       "5         3  1644750     3.0  1997.0        Character\n",
       "6         3   376148     5.0  1997.0        Character\n",
       "7         3  1956967     4.0  1997.0        Character\n",
       "8         3  2095263     4.0  1997.0        Character\n",
       "9         3   665242     2.0  1997.0        Character"
      ]
     },
     "execution_count": 167,
     "metadata": {},
     "output_type": "execute_result"
    }
   ],
   "source": [
    "#clean up NaN's\n",
    "full_netflix_data_dummy = full_netflix_data.copy().fillna(0)\n",
    "\n",
    "full_netflix_data_dummy.head(10)\n"
   ]
  },
  {
   "cell_type": "code",
   "execution_count": 121,
   "metadata": {},
   "outputs": [],
   "source": [
    "export_csv_netflix_full_movie = full_netflix_data_dummy.to_csv (r'C:\\Users\\AaronDataScienceComp\\Documents\\export_data_netflix_full_movies.csv', index = None, header=True)\n",
    "\n",
    "export_csv_netflix_full_movie"
   ]
  },
  {
   "cell_type": "code",
   "execution_count": 122,
   "metadata": {},
   "outputs": [
    {
     "data": {
      "text/plain": [
       "movie_title\n",
       "Raped by an Angel                                5.0\n",
       "Hitler's Lost Sub: Nova                          5.0\n",
       "Power Play                                       5.0\n",
       "Preaching to the Perverted                       5.0\n",
       "Prehistoric Planet: The Complete Dino Dynasty    5.0\n",
       "Name: rating, dtype: float64"
      ]
     },
     "execution_count": 122,
     "metadata": {},
     "output_type": "execute_result"
    }
   ],
   "source": [
    "full_netflix_data_dummy.groupby('movie_title')['rating'].mean().sort_values(ascending=False).head()"
   ]
  },
  {
   "cell_type": "code",
   "execution_count": 123,
   "metadata": {},
   "outputs": [],
   "source": [
    "export_csv_netflix_rating_mean = netflix_rating_mean.to_csv (r'C:\\Users\\AaronDataScienceComp\\Documents\\export_data_netflix_rating_mean.csv', index = None, header=True)\n",
    "\n",
    "export_csv_netflix_rating_mean"
   ]
  },
  {
   "cell_type": "code",
   "execution_count": 124,
   "metadata": {},
   "outputs": [
    {
     "data": {
      "text/plain": [
       "movie_title\n",
       "Miss Congeniality                                         1119\n",
       "The Godfather                                             1068\n",
       "Independence Day                                          1056\n",
       "Pirates of the Caribbean: The Curse of the Black Pearl     998\n",
       "The Patriot                                                995\n",
       "Name: rating, dtype: int64"
      ]
     },
     "execution_count": 124,
     "metadata": {},
     "output_type": "execute_result"
    }
   ],
   "source": [
    "full_netflix_data_dummy.groupby('movie_title')['rating'].count().sort_values(ascending=False).head()"
   ]
  },
  {
   "cell_type": "code",
   "execution_count": 125,
   "metadata": {},
   "outputs": [
    {
     "data": {
      "text/html": [
       "<div>\n",
       "<style scoped>\n",
       "    .dataframe tbody tr th:only-of-type {\n",
       "        vertical-align: middle;\n",
       "    }\n",
       "\n",
       "    .dataframe tbody tr th {\n",
       "        vertical-align: top;\n",
       "    }\n",
       "\n",
       "    .dataframe thead th {\n",
       "        text-align: right;\n",
       "    }\n",
       "</style>\n",
       "<table border=\"1\" class=\"dataframe\">\n",
       "  <thead>\n",
       "    <tr style=\"text-align: right;\">\n",
       "      <th></th>\n",
       "      <th>rating</th>\n",
       "      <th>number_ratings</th>\n",
       "    </tr>\n",
       "    <tr>\n",
       "      <th>movie_title</th>\n",
       "      <th></th>\n",
       "      <th></th>\n",
       "    </tr>\n",
       "  </thead>\n",
       "  <tbody>\n",
       "    <tr>\n",
       "      <th>'Allo 'Allo!: Series 1</th>\n",
       "      <td>4.00000</td>\n",
       "      <td>3</td>\n",
       "    </tr>\n",
       "    <tr>\n",
       "      <th>'Allo 'Allo!: Series 2</th>\n",
       "      <td>4.00000</td>\n",
       "      <td>1</td>\n",
       "    </tr>\n",
       "    <tr>\n",
       "      <th>'N Sync: 'N the Mix</th>\n",
       "      <td>3.50000</td>\n",
       "      <td>2</td>\n",
       "    </tr>\n",
       "    <tr>\n",
       "      <th>'Round Midnight</th>\n",
       "      <td>3.62500</td>\n",
       "      <td>8</td>\n",
       "    </tr>\n",
       "    <tr>\n",
       "      <th>...And Justice for All</th>\n",
       "      <td>3.74359</td>\n",
       "      <td>39</td>\n",
       "    </tr>\n",
       "  </tbody>\n",
       "</table>\n",
       "</div>"
      ],
      "text/plain": [
       "                         rating  number_ratings\n",
       "movie_title                                    \n",
       "'Allo 'Allo!: Series 1  4.00000               3\n",
       "'Allo 'Allo!: Series 2  4.00000               1\n",
       "'N Sync: 'N the Mix     3.50000               2\n",
       "'Round Midnight         3.62500               8\n",
       "...And Justice for All  3.74359              39"
      ]
     },
     "execution_count": 125,
     "metadata": {},
     "output_type": "execute_result"
    }
   ],
   "source": [
    "movie_rating_counts = pd.DataFrame(full_netflix_data_dummy.groupby('movie_title')['rating'].mean())\n",
    "\n",
    "movie_rating_counts['number_ratings'] = pd.DataFrame(full_netflix_data_dummy.groupby('movie_title')['rating'].count())\n",
    "\n",
    "movie_rating_counts.head(5)"
   ]
  },
  {
   "cell_type": "code",
   "execution_count": 126,
   "metadata": {},
   "outputs": [],
   "source": [
    "import matplotlib.pyplot as plt\n",
    "import seaborn as sns\n",
    "\n",
    "sns.set_style('white')\n",
    "%matplotlib inline\n"
   ]
  },
  {
   "cell_type": "code",
   "execution_count": 127,
   "metadata": {},
   "outputs": [
    {
     "data": {
      "text/plain": [
       "<matplotlib.axes._subplots.AxesSubplot at 0x1e3cf32afd0>"
      ]
     },
     "execution_count": 127,
     "metadata": {},
     "output_type": "execute_result"
    },
    {
     "data": {
      "image/png": "[encoded data removed]",
      "text/plain": [
       "<Figure size 720x288 with 1 Axes>"
      ]
     },
     "metadata": {
      "needs_background": "light"
     },
     "output_type": "display_data"
    }
   ],
   "source": [
    "# Graph of ratings column\n",
    "\n",
    "plt.figure(figsize =(10,4))\n",
    "\n",
    "movie_rating_counts['number_ratings'].hist(bins = 10)"
   ]
  },
  {
   "cell_type": "code",
   "execution_count": 128,
   "metadata": {},
   "outputs": [
    {
     "data": {
      "text/plain": [
       "<matplotlib.axes._subplots.AxesSubplot at 0x1e3cf163550>"
      ]
     },
     "execution_count": 128,
     "metadata": {},
     "output_type": "execute_result"
    },
    {
     "data": {
      "image/png": "[encoded data removed]",
      "text/plain": [
       "<Figure size 720x288 with 1 Axes>"
      ]
     },
     "metadata": {
      "needs_background": "light"
     },
     "output_type": "display_data"
    }
   ],
   "source": [
    "# plot graph of ratings column\n",
    "plt.figure(figsize = (10,4))\n",
    "\n",
    "movie_rating_counts['rating'].hist(bins = 100)"
   ]
  },
  {
   "cell_type": "code",
   "execution_count": 129,
   "metadata": {},
   "outputs": [],
   "source": [
    "# method to make y-axis more readable\n",
    "def human(num, units = 'M'):\n",
    "    units = units.lower()\n",
    "    num = float(num)\n",
    "    if units == 'k':\n",
    "        return str(num/10**3) + \" K\"\n",
    "    elif units == 'm':\n",
    "        return str(num/10**6) + \" M\"\n",
    "    elif units == 'b':\n",
    "        return str(num/10**9) +  \" B\""
   ]
  },
  {
   "cell_type": "code",
   "execution_count": 130,
   "metadata": {},
   "outputs": [
    {
     "data": {
      "image/png": "[encoded data removed]",
      "text/plain": [
       "<Figure size 432x288 with 1 Axes>"
      ]
     },
     "metadata": {
      "needs_background": "light"
     },
     "output_type": "display_data"
    }
   ],
   "source": [
    "fig, ax = plt.subplots()\n",
    "plt.title('Distribution of ratings over full Netflix dataset', fontsize=15)\n",
    "sns.countplot(full_netflix_data.rating)\n",
    "ax.set_yticklabels([human(item, 'M') for item in ax.get_yticks()])\n",
    "ax.set_ylabel('Number of Ratings (Millions)')\n",
    "\n",
    "plt.show()"
   ]
  },
  {
   "cell_type": "code",
   "execution_count": 131,
   "metadata": {},
   "outputs": [
    {
     "data": {
      "text/plain": [
       "user_id\n",
       "974174     2407\n",
       "760481     2317\n",
       "1737529    2068\n",
       "1486501    2036\n",
       "1835511    1940\n",
       "Name: rating, dtype: int64"
      ]
     },
     "execution_count": 131,
     "metadata": {},
     "output_type": "execute_result"
    }
   ],
   "source": [
    "rated_movies_per_user = full_netflix_data.groupby(by='user_id')['rating'].count().sort_values(ascending=False)\n",
    "\n",
    "rated_movies_per_user.head()"
   ]
  },
  {
   "cell_type": "code",
   "execution_count": 132,
   "metadata": {},
   "outputs": [
    {
     "data": {
      "image/png": "[encoded data removed]",
      "text/plain": [
       "<Figure size 576x288 with 2 Axes>"
      ]
     },
     "metadata": {
      "needs_background": "light"
     },
     "output_type": "display_data"
    }
   ],
   "source": [
    "# How do we best mathematically describe (and visually display) random variables? \n",
    "# The answer is we use probability density functions (PDF) and cumulative density functions (CDF). \n",
    "# CDFs are simpler to comprehend for both discrete and continuous random variables than PDFs.\n",
    "\n",
    "fig = plt.figure(figsize=plt.figaspect(.5))\n",
    "\n",
    "ax1 = plt.subplot(121)\n",
    "sns.kdeplot(rated_movies_per_user, shade=True, ax=ax1)\n",
    "plt.xlabel('Ratings by user')\n",
    "plt.title(\"Probability Density Function (PDF)\")\n",
    "\n",
    "ax2 = plt.subplot(122)\n",
    "sns.kdeplot(rated_movies_per_user, shade=True, cumulative=True,ax=ax2)\n",
    "plt.xlabel('Ratings by user')\n",
    "plt.title('Cumulative Density Function (CDF)')\n",
    "\n",
    "plt.show()"
   ]
  },
  {
   "cell_type": "code",
   "execution_count": 133,
   "metadata": {},
   "outputs": [
    {
     "data": {
      "text/plain": [
       "count    1934.000000\n",
       "mean      265.955533\n",
       "std       301.296038\n",
       "min        31.000000\n",
       "25%        65.000000\n",
       "50%       150.000000\n",
       "75%       344.500000\n",
       "max      2407.000000\n",
       "Name: rating, dtype: float64"
      ]
     },
     "execution_count": 133,
     "metadata": {},
     "output_type": "execute_result"
    }
   ],
   "source": [
    "rated_movies_per_user.describe()"
   ]
  },
  {
   "cell_type": "code",
   "execution_count": 134,
   "metadata": {},
   "outputs": [],
   "source": [
    "quantiles = rated_movies_per_user.quantile(np.arange(0,1.01,0.01), interpolation='higher')"
   ]
  },
  {
   "cell_type": "code",
   "execution_count": 135,
   "metadata": {},
   "outputs": [
    {
     "data": {
      "image/png": "[encoded data removed]",
      "text/plain": [
       "<Figure size 432x288 with 1 Axes>"
      ]
     },
     "metadata": {
      "needs_background": "light"
     },
     "output_type": "display_data"
    }
   ],
   "source": [
    "plt.title(\"Full Netflix Dataset Quantiles and Values\")\n",
    "quantiles.plot()\n",
    "# quantiles with 0.05 difference\n",
    "plt.scatter(x=quantiles.index[::5], y=quantiles.values[::5], c='orange', label=\"quantiles with 0.05 intervals\")\n",
    "# quantiles with 0.25 difference\n",
    "plt.scatter(x=quantiles.index[::25], y=quantiles.values[::25], c='m', label = \"quantiles with 0.25 intervals\")\n",
    "plt.ylabel('Ratings by user')\n",
    "plt.xlabel('Value at quantile')\n",
    "plt.legend(loc='best')\n",
    "\n",
    "# annotate the 25th, 50th, 75th and 100th percentile values....\n",
    "for x,y in zip(quantiles.index[::25], quantiles[::25]):\n",
    "    plt.annotate(s=\"({} , {})\".format(x,y), xy=(x,y), xytext=(x-0.05, y+500)\n",
    "                ,fontweight='bold')\n",
    "\n",
    "\n",
    "plt.show()"
   ]
  },
  {
   "cell_type": "code",
   "execution_count": 136,
   "metadata": {},
   "outputs": [
    {
     "data": {
      "text/plain": [
       "0.00      31\n",
       "0.05      35\n",
       "0.10      41\n",
       "0.15      49\n",
       "0.20      56\n",
       "0.25      65\n",
       "0.30      78\n",
       "0.35      91\n",
       "0.40     108\n",
       "0.45     129\n",
       "0.50     150\n",
       "0.55     179\n",
       "0.60     214\n",
       "0.65     250\n",
       "0.70     288\n",
       "0.75     345\n",
       "0.80     421\n",
       "0.85     523\n",
       "0.90     640\n",
       "0.95     899\n",
       "1.00    2407\n",
       "Name: rating, dtype: int64"
      ]
     },
     "execution_count": 136,
     "metadata": {},
     "output_type": "execute_result"
    }
   ],
   "source": [
    "quantiles[::5]"
   ]
  },
  {
   "cell_type": "code",
   "execution_count": 137,
   "metadata": {},
   "outputs": [
    {
     "name": "stdout",
     "output_type": "stream",
     "text": [
      "\n",
      " Ratings at last 5 percentile : 90\n",
      "\n"
     ]
    }
   ],
   "source": [
    "print('\\n Ratings at last 5 percentile : {}\\n'.format(sum(rated_movies_per_user>= 923)))"
   ]
  },
  {
   "cell_type": "code",
   "execution_count": 138,
   "metadata": {},
   "outputs": [
    {
     "data": {
      "image/png": "[encoded data removed]",
      "text/plain": [
       "<Figure size 576x288 with 1 Axes>"
      ]
     },
     "metadata": {
      "needs_background": "light"
     },
     "output_type": "display_data"
    }
   ],
   "source": [
    "ratings_per_movie = full_netflix_data.groupby(by='movie_id')['rating'].count().sort_values(ascending=False)\n",
    "\n",
    "fig = plt.figure(figsize=plt.figaspect(.5))\n",
    "ax = plt.gca()\n",
    "plt.plot(ratings_per_movie.values)\n",
    "plt.title('Ratings per movie')\n",
    "plt.xlabel('Movie')\n",
    "plt.ylabel('Users who rated a movie')\n",
    "ax.set_xticklabels([])\n",
    "\n",
    "plt.show()"
   ]
  },
  {
   "cell_type": "code",
   "execution_count": null,
   "metadata": {},
   "outputs": [],
   "source": []
  },
  {
   "cell_type": "code",
   "execution_count": null,
   "metadata": {},
   "outputs": [],
   "source": []
  },
  {
   "cell_type": "code",
   "execution_count": 139,
   "metadata": {},
   "outputs": [
    {
     "data": {
      "text/html": [
       "<div>\n",
       "<style scoped>\n",
       "    .dataframe tbody tr th:only-of-type {\n",
       "        vertical-align: middle;\n",
       "    }\n",
       "\n",
       "    .dataframe tbody tr th {\n",
       "        vertical-align: top;\n",
       "    }\n",
       "\n",
       "    .dataframe thead th {\n",
       "        text-align: right;\n",
       "    }\n",
       "</style>\n",
       "<table border=\"1\" class=\"dataframe\">\n",
       "  <thead>\n",
       "    <tr style=\"text-align: right;\">\n",
       "      <th></th>\n",
       "      <th>rating</th>\n",
       "      <th>number_ratings</th>\n",
       "    </tr>\n",
       "    <tr>\n",
       "      <th>movie_title</th>\n",
       "      <th></th>\n",
       "      <th></th>\n",
       "    </tr>\n",
       "  </thead>\n",
       "  <tbody>\n",
       "    <tr>\n",
       "      <th>Miss Congeniality</th>\n",
       "      <td>3.333333</td>\n",
       "      <td>1119</td>\n",
       "    </tr>\n",
       "    <tr>\n",
       "      <th>The Godfather</th>\n",
       "      <td>4.366105</td>\n",
       "      <td>1068</td>\n",
       "    </tr>\n",
       "    <tr>\n",
       "      <th>Independence Day</th>\n",
       "      <td>3.709280</td>\n",
       "      <td>1056</td>\n",
       "    </tr>\n",
       "    <tr>\n",
       "      <th>Pirates of the Caribbean: The Curse of the Black Pearl</th>\n",
       "      <td>4.150301</td>\n",
       "      <td>998</td>\n",
       "    </tr>\n",
       "    <tr>\n",
       "      <th>The Patriot</th>\n",
       "      <td>3.687437</td>\n",
       "      <td>995</td>\n",
       "    </tr>\n",
       "  </tbody>\n",
       "</table>\n",
       "</div>"
      ],
      "text/plain": [
       "                                                      rating  number_ratings\n",
       "movie_title                                                                 \n",
       "Miss Congeniality                                   3.333333            1119\n",
       "The Godfather                                       4.366105            1068\n",
       "Independence Day                                    3.709280            1056\n",
       "Pirates of the Caribbean: The Curse of the Blac...  4.150301             998\n",
       "The Patriot                                         3.687437             995"
      ]
     },
     "execution_count": 139,
     "metadata": {},
     "output_type": "execute_result"
    }
   ],
   "source": [
    "#sort values based on the number of rating column\n",
    "\n",
    "movie_piv = full_netflix_data_dummy.pivot_table(index = 'user_id', columns = 'movie_title', values = 'rating')\n",
    "\n",
    "movie_piv.head(5)\n",
    "\n",
    "movie_rating_counts.sort_values('number_ratings', ascending = False).head(5)"
   ]
  },
  {
   "cell_type": "code",
   "execution_count": 140,
   "metadata": {},
   "outputs": [
    {
     "data": {
      "text/plain": [
       "user_id\n",
       "915      NaN\n",
       "5017     NaN\n",
       "5583     3.0\n",
       "13445    5.0\n",
       "15947    NaN\n",
       "Name: Miss Congeniality, dtype: float64"
      ]
     },
     "execution_count": 140,
     "metadata": {},
     "output_type": "execute_result"
    }
   ],
   "source": [
    "# Analysing correlation with similar movies\n",
    "misscongeniality_user_ratings = movie_piv['Miss Congeniality']\n",
    "thegodfather_user_ratings = movie_piv['The Godfather']\n",
    "\n",
    "misscongeniality_user_ratings.head()"
   ]
  },
  {
   "cell_type": "code",
   "execution_count": 141,
   "metadata": {},
   "outputs": [
    {
     "data": {
      "text/plain": [
       "user_id\n",
       "915      NaN\n",
       "5017     NaN\n",
       "5583     4.0\n",
       "13445    NaN\n",
       "15947    NaN\n",
       "Name: The Godfather, dtype: float64"
      ]
     },
     "execution_count": 141,
     "metadata": {},
     "output_type": "execute_result"
    }
   ],
   "source": [
    "thegodfather_user_ratings.head()"
   ]
  },
  {
   "cell_type": "code",
   "execution_count": 142,
   "metadata": {},
   "outputs": [
    {
     "data": {
      "text/html": [
       "<div>\n",
       "<style scoped>\n",
       "    .dataframe tbody tr th:only-of-type {\n",
       "        vertical-align: middle;\n",
       "    }\n",
       "\n",
       "    .dataframe tbody tr th {\n",
       "        vertical-align: top;\n",
       "    }\n",
       "\n",
       "    .dataframe thead th {\n",
       "        text-align: right;\n",
       "    }\n",
       "</style>\n",
       "<table border=\"1\" class=\"dataframe\">\n",
       "  <thead>\n",
       "    <tr style=\"text-align: right;\">\n",
       "      <th></th>\n",
       "      <th>Correlation</th>\n",
       "    </tr>\n",
       "    <tr>\n",
       "      <th>movie_title</th>\n",
       "      <th></th>\n",
       "    </tr>\n",
       "  </thead>\n",
       "  <tbody>\n",
       "    <tr>\n",
       "      <th>'Allo 'Allo!: Series 1</th>\n",
       "      <td>1.000000</td>\n",
       "    </tr>\n",
       "    <tr>\n",
       "      <th>'N Sync: 'N the Mix</th>\n",
       "      <td>1.000000</td>\n",
       "    </tr>\n",
       "    <tr>\n",
       "      <th>'Round Midnight</th>\n",
       "      <td>-0.258199</td>\n",
       "    </tr>\n",
       "    <tr>\n",
       "      <th>...And Justice for All</th>\n",
       "      <td>0.177193</td>\n",
       "    </tr>\n",
       "    <tr>\n",
       "      <th>.hack//Legend of the Twilight</th>\n",
       "      <td>0.962250</td>\n",
       "    </tr>\n",
       "    <tr>\n",
       "      <th>.hack//SIGN</th>\n",
       "      <td>0.000000</td>\n",
       "    </tr>\n",
       "    <tr>\n",
       "      <th>10</th>\n",
       "      <td>-0.398496</td>\n",
       "    </tr>\n",
       "    <tr>\n",
       "      <th>10 Things I Hate About You</th>\n",
       "      <td>0.364987</td>\n",
       "    </tr>\n",
       "    <tr>\n",
       "      <th>10 to Midnight</th>\n",
       "      <td>1.000000</td>\n",
       "    </tr>\n",
       "    <tr>\n",
       "      <th>10.5</th>\n",
       "      <td>-0.175562</td>\n",
       "    </tr>\n",
       "  </tbody>\n",
       "</table>\n",
       "</div>"
      ],
      "text/plain": [
       "                               Correlation\n",
       "movie_title                               \n",
       "'Allo 'Allo!: Series 1            1.000000\n",
       "'N Sync: 'N the Mix               1.000000\n",
       "'Round Midnight                  -0.258199\n",
       "...And Justice for All            0.177193\n",
       ".hack//Legend of the Twilight     0.962250\n",
       ".hack//SIGN                       0.000000\n",
       "10                               -0.398496\n",
       "10 Things I Hate About You        0.364987\n",
       "10 to Midnight                    1.000000\n",
       "10.5                             -0.175562"
      ]
     },
     "execution_count": 142,
     "metadata": {},
     "output_type": "execute_result"
    }
   ],
   "source": [
    "# Analyzing the correlation with similar movies\n",
    "similar_to_misscongeniality = movie_piv.corrwith(misscongeniality_user_ratings)\n",
    "\n",
    "corr_misscongeniality = pd.DataFrame(similar_to_misscongeniality, columns = ['Correlation'])\n",
    "corr_misscongeniality.dropna(inplace = True)\n",
    "corr_misscongeniality.head(10)"
   ]
  },
  {
   "cell_type": "code",
   "execution_count": 143,
   "metadata": {},
   "outputs": [
    {
     "data": {
      "text/html": [
       "<div>\n",
       "<style scoped>\n",
       "    .dataframe tbody tr th:only-of-type {\n",
       "        vertical-align: middle;\n",
       "    }\n",
       "\n",
       "    .dataframe tbody tr th {\n",
       "        vertical-align: top;\n",
       "    }\n",
       "\n",
       "    .dataframe thead th {\n",
       "        text-align: right;\n",
       "    }\n",
       "</style>\n",
       "<table border=\"1\" class=\"dataframe\">\n",
       "  <thead>\n",
       "    <tr style=\"text-align: right;\">\n",
       "      <th></th>\n",
       "      <th>Correlation</th>\n",
       "      <th>number_ratings</th>\n",
       "    </tr>\n",
       "    <tr>\n",
       "      <th>movie_title</th>\n",
       "      <th></th>\n",
       "      <th></th>\n",
       "    </tr>\n",
       "  </thead>\n",
       "  <tbody>\n",
       "    <tr>\n",
       "      <th>Miss Congeniality</th>\n",
       "      <td>1.000000</td>\n",
       "      <td>1119</td>\n",
       "    </tr>\n",
       "    <tr>\n",
       "      <th>Dr. Dolittle</th>\n",
       "      <td>0.573629</td>\n",
       "      <td>286</td>\n",
       "    </tr>\n",
       "    <tr>\n",
       "      <th>Save the Last Dance</th>\n",
       "      <td>0.542196</td>\n",
       "      <td>173</td>\n",
       "    </tr>\n",
       "    <tr>\n",
       "      <th>Two Weeks Notice</th>\n",
       "      <td>0.534179</td>\n",
       "      <td>734</td>\n",
       "    </tr>\n",
       "    <tr>\n",
       "      <th>Look Who's Talking Now</th>\n",
       "      <td>0.526742</td>\n",
       "      <td>101</td>\n",
       "    </tr>\n",
       "  </tbody>\n",
       "</table>\n",
       "</div>"
      ],
      "text/plain": [
       "                        Correlation  number_ratings\n",
       "movie_title                                        \n",
       "Miss Congeniality          1.000000            1119\n",
       "Dr. Dolittle               0.573629             286\n",
       "Save the Last Dance        0.542196             173\n",
       "Two Weeks Notice           0.534179             734\n",
       "Look Who's Talking Now     0.526742             101"
      ]
     },
     "execution_count": 143,
     "metadata": {},
     "output_type": "execute_result"
    }
   ],
   "source": [
    "# Similar movies like Miss Congeniality\n",
    "corr_misscongeniality.sort_values('Correlation', ascending = False).head(10)\n",
    "corr_misscongeniality = corr_misscongeniality.join(movie_rating_counts['number_ratings'])\n",
    "corr_misscongeniality.head()\n",
    "corr_misscongeniality[corr_misscongeniality['number_ratings']>100].sort_values('Correlation', ascending = False).head()\n"
   ]
  },
  {
   "cell_type": "code",
   "execution_count": 144,
   "metadata": {},
   "outputs": [
    {
     "data": {
      "text/html": [
       "<div>\n",
       "<style scoped>\n",
       "    .dataframe tbody tr th:only-of-type {\n",
       "        vertical-align: middle;\n",
       "    }\n",
       "\n",
       "    .dataframe tbody tr th {\n",
       "        vertical-align: top;\n",
       "    }\n",
       "\n",
       "    .dataframe thead th {\n",
       "        text-align: right;\n",
       "    }\n",
       "</style>\n",
       "<table border=\"1\" class=\"dataframe\">\n",
       "  <thead>\n",
       "    <tr style=\"text-align: right;\">\n",
       "      <th></th>\n",
       "      <th>Correlation</th>\n",
       "    </tr>\n",
       "    <tr>\n",
       "      <th>movie_title</th>\n",
       "      <th></th>\n",
       "    </tr>\n",
       "  </thead>\n",
       "  <tbody>\n",
       "    <tr>\n",
       "      <th>'Round Midnight</th>\n",
       "      <td>0.549350</td>\n",
       "    </tr>\n",
       "    <tr>\n",
       "      <th>...And Justice for All</th>\n",
       "      <td>0.094734</td>\n",
       "    </tr>\n",
       "    <tr>\n",
       "      <th>.hack//SIGN</th>\n",
       "      <td>1.000000</td>\n",
       "    </tr>\n",
       "    <tr>\n",
       "      <th>10</th>\n",
       "      <td>0.585043</td>\n",
       "    </tr>\n",
       "    <tr>\n",
       "      <th>10 Things I Hate About You</th>\n",
       "      <td>-0.010355</td>\n",
       "    </tr>\n",
       "    <tr>\n",
       "      <th>10 to Midnight</th>\n",
       "      <td>-1.000000</td>\n",
       "    </tr>\n",
       "    <tr>\n",
       "      <th>10.5</th>\n",
       "      <td>0.753080</td>\n",
       "    </tr>\n",
       "    <tr>\n",
       "      <th>100 Girls</th>\n",
       "      <td>-0.349801</td>\n",
       "    </tr>\n",
       "    <tr>\n",
       "      <th>100 Years of Horror</th>\n",
       "      <td>0.500000</td>\n",
       "    </tr>\n",
       "    <tr>\n",
       "      <th>101 Dalmatians II: Patch's London Adventure</th>\n",
       "      <td>0.289395</td>\n",
       "    </tr>\n",
       "  </tbody>\n",
       "</table>\n",
       "</div>"
      ],
      "text/plain": [
       "                                             Correlation\n",
       "movie_title                                             \n",
       "'Round Midnight                                 0.549350\n",
       "...And Justice for All                          0.094734\n",
       ".hack//SIGN                                     1.000000\n",
       "10                                              0.585043\n",
       "10 Things I Hate About You                     -0.010355\n",
       "10 to Midnight                                 -1.000000\n",
       "10.5                                            0.753080\n",
       "100 Girls                                      -0.349801\n",
       "100 Years of Horror                             0.500000\n",
       "101 Dalmatians II: Patch's London Adventure     0.289395"
      ]
     },
     "execution_count": 144,
     "metadata": {},
     "output_type": "execute_result"
    }
   ],
   "source": [
    "# Analyzing the correlation with similar movies\n",
    "similar_to_thegodfather = movie_piv.corrwith(thegodfather_user_ratings)\n",
    "\n",
    "corr_thegodfather = pd.DataFrame(similar_to_thegodfather, columns = ['Correlation'])\n",
    "corr_thegodfather.dropna(inplace = True)\n",
    "corr_thegodfather.head(10)"
   ]
  },
  {
   "cell_type": "code",
   "execution_count": 145,
   "metadata": {},
   "outputs": [
    {
     "data": {
      "text/html": [
       "<div>\n",
       "<style scoped>\n",
       "    .dataframe tbody tr th:only-of-type {\n",
       "        vertical-align: middle;\n",
       "    }\n",
       "\n",
       "    .dataframe tbody tr th {\n",
       "        vertical-align: top;\n",
       "    }\n",
       "\n",
       "    .dataframe thead th {\n",
       "        text-align: right;\n",
       "    }\n",
       "</style>\n",
       "<table border=\"1\" class=\"dataframe\">\n",
       "  <thead>\n",
       "    <tr style=\"text-align: right;\">\n",
       "      <th></th>\n",
       "      <th>Correlation</th>\n",
       "      <th>number_ratings</th>\n",
       "    </tr>\n",
       "    <tr>\n",
       "      <th>movie_title</th>\n",
       "      <th></th>\n",
       "      <th></th>\n",
       "    </tr>\n",
       "  </thead>\n",
       "  <tbody>\n",
       "    <tr>\n",
       "      <th>The Godfather</th>\n",
       "      <td>1.000000</td>\n",
       "      <td>1068</td>\n",
       "    </tr>\n",
       "    <tr>\n",
       "      <th>American Graffiti: Collector's Edition</th>\n",
       "      <td>0.508794</td>\n",
       "      <td>119</td>\n",
       "    </tr>\n",
       "    <tr>\n",
       "      <th>The Sopranos: Season 2</th>\n",
       "      <td>0.444858</td>\n",
       "      <td>196</td>\n",
       "    </tr>\n",
       "    <tr>\n",
       "      <th>National Security</th>\n",
       "      <td>0.426002</td>\n",
       "      <td>122</td>\n",
       "    </tr>\n",
       "    <tr>\n",
       "      <th>Casino: 10th Anniversary Edition</th>\n",
       "      <td>0.424125</td>\n",
       "      <td>198</td>\n",
       "    </tr>\n",
       "  </tbody>\n",
       "</table>\n",
       "</div>"
      ],
      "text/plain": [
       "                                        Correlation  number_ratings\n",
       "movie_title                                                        \n",
       "The Godfather                              1.000000            1068\n",
       "American Graffiti: Collector's Edition     0.508794             119\n",
       "The Sopranos: Season 2                     0.444858             196\n",
       "National Security                          0.426002             122\n",
       "Casino: 10th Anniversary Edition           0.424125             198"
      ]
     },
     "execution_count": 145,
     "metadata": {},
     "output_type": "execute_result"
    }
   ],
   "source": [
    "# Similar movies like Miss Congeniality\n",
    "corr_thegodfather.sort_values('Correlation', ascending = False).head(10)\n",
    "corr_thegodfather = corr_thegodfather.join(movie_rating_counts['number_ratings'])\n",
    "corr_thegodfather.head()\n",
    "corr_thegodfather[corr_thegodfather['number_ratings']>100].sort_values('Correlation', ascending = False).head()"
   ]
  },
  {
   "cell_type": "code",
   "execution_count": null,
   "metadata": {},
   "outputs": [],
   "source": []
  },
  {
   "cell_type": "code",
   "execution_count": null,
   "metadata": {},
   "outputs": [],
   "source": [
    "#Another Approach to collaborative filtering"
   ]
  },
  {
   "cell_type": "code",
   "execution_count": 146,
   "metadata": {},
   "outputs": [],
   "source": [
    "#Collaborative filtering\n",
    "\n",
    "# Import train_test_split function\n",
    "from sklearn.model_selection import train_test_split\n",
    "\n",
    "# Assign X as the original ratings dataframe and y as the Cust_id column of ratings\n",
    "X = full_netflix_data.copy()\n",
    "y = full_netflix_data['user_id']\n",
    "\n",
    "# Split into training and test datasets, stratified along Cust-id\n",
    "X_train, X_test, y_train, y_test = train_test_split(X, y, test_size=0.25, stratify=y, random_state=42)\n",
    "\n",
    "# Import the mean_squared_error function\n",
    "from sklearn.metrics import mean_squared_error\n",
    "\n",
    "# Function computes the root mean squared error (RMSE)\n",
    "def rmse(y_true, y_pred):\n",
    "    return np.sqrt(mean_squared_error(y_true, y_pred))\n",
    "\n",
    "# Define the base model to always return 3 - middle of the ratings\n",
    "def baseline(user_id, movie_id):\n",
    "    return 3.0\n",
    "\n",
    "# Function to compute the RMSE score obtained on the testing data set by the model\n",
    "def score(collab_filter_model):\n",
    "    \n",
    "    # Construct a list of customer-movie tuples from the testing dataset\n",
    "    id_cust_movie = zip(X_test['user_id'], X_test['movie_id'])\n",
    "    \n",
    "    # Predict the rating for every customer - movie tuple\n",
    "    y_pred = np.array([collab_filter_model(customer, movie) for (customer, movie)in id_cust_movie])\n",
    "    \n",
    "    # Extract the actual ratings given by the customers in the test dataset\n",
    "    y_true = np.array(X_test['rating'])\n",
    "    \n",
    "    # Return the final RMSE score\n",
    "    return rmse(y_true, y_pred)"
   ]
  },
  {
   "cell_type": "code",
   "execution_count": 147,
   "metadata": {},
   "outputs": [
    {
     "data": {
      "text/plain": [
       "1.2288651882237587"
      ]
     },
     "execution_count": 147,
     "metadata": {},
     "output_type": "execute_result"
    }
   ],
   "source": [
    "score(baseline)"
   ]
  },
  {
   "cell_type": "code",
   "execution_count": 148,
   "metadata": {},
   "outputs": [
    {
     "data": {
      "text/html": [
       "<div>\n",
       "<style scoped>\n",
       "    .dataframe tbody tr th:only-of-type {\n",
       "        vertical-align: middle;\n",
       "    }\n",
       "\n",
       "    .dataframe tbody tr th {\n",
       "        vertical-align: top;\n",
       "    }\n",
       "\n",
       "    .dataframe thead th {\n",
       "        text-align: right;\n",
       "    }\n",
       "</style>\n",
       "<table border=\"1\" class=\"dataframe\">\n",
       "  <thead>\n",
       "    <tr style=\"text-align: right;\">\n",
       "      <th>movie_id</th>\n",
       "      <th>1</th>\n",
       "      <th>3</th>\n",
       "      <th>5</th>\n",
       "      <th>6</th>\n",
       "      <th>8</th>\n",
       "      <th>12</th>\n",
       "      <th>15</th>\n",
       "      <th>16</th>\n",
       "      <th>17</th>\n",
       "      <th>18</th>\n",
       "      <th>...</th>\n",
       "      <th>17758</th>\n",
       "      <th>17760</th>\n",
       "      <th>17761</th>\n",
       "      <th>17762</th>\n",
       "      <th>17763</th>\n",
       "      <th>17764</th>\n",
       "      <th>17765</th>\n",
       "      <th>17766</th>\n",
       "      <th>17768</th>\n",
       "      <th>17769</th>\n",
       "    </tr>\n",
       "    <tr>\n",
       "      <th>user_id</th>\n",
       "      <th></th>\n",
       "      <th></th>\n",
       "      <th></th>\n",
       "      <th></th>\n",
       "      <th></th>\n",
       "      <th></th>\n",
       "      <th></th>\n",
       "      <th></th>\n",
       "      <th></th>\n",
       "      <th></th>\n",
       "      <th></th>\n",
       "      <th></th>\n",
       "      <th></th>\n",
       "      <th></th>\n",
       "      <th></th>\n",
       "      <th></th>\n",
       "      <th></th>\n",
       "      <th></th>\n",
       "      <th></th>\n",
       "      <th></th>\n",
       "      <th></th>\n",
       "    </tr>\n",
       "  </thead>\n",
       "  <tbody>\n",
       "    <tr>\n",
       "      <th>915</th>\n",
       "      <td>5.0</td>\n",
       "      <td>NaN</td>\n",
       "      <td>NaN</td>\n",
       "      <td>NaN</td>\n",
       "      <td>NaN</td>\n",
       "      <td>NaN</td>\n",
       "      <td>NaN</td>\n",
       "      <td>NaN</td>\n",
       "      <td>NaN</td>\n",
       "      <td>NaN</td>\n",
       "      <td>...</td>\n",
       "      <td>NaN</td>\n",
       "      <td>NaN</td>\n",
       "      <td>NaN</td>\n",
       "      <td>NaN</td>\n",
       "      <td>NaN</td>\n",
       "      <td>NaN</td>\n",
       "      <td>NaN</td>\n",
       "      <td>NaN</td>\n",
       "      <td>NaN</td>\n",
       "      <td>NaN</td>\n",
       "    </tr>\n",
       "    <tr>\n",
       "      <th>5017</th>\n",
       "      <td>NaN</td>\n",
       "      <td>NaN</td>\n",
       "      <td>NaN</td>\n",
       "      <td>NaN</td>\n",
       "      <td>NaN</td>\n",
       "      <td>NaN</td>\n",
       "      <td>NaN</td>\n",
       "      <td>NaN</td>\n",
       "      <td>4.0</td>\n",
       "      <td>NaN</td>\n",
       "      <td>...</td>\n",
       "      <td>NaN</td>\n",
       "      <td>NaN</td>\n",
       "      <td>NaN</td>\n",
       "      <td>NaN</td>\n",
       "      <td>NaN</td>\n",
       "      <td>NaN</td>\n",
       "      <td>NaN</td>\n",
       "      <td>NaN</td>\n",
       "      <td>NaN</td>\n",
       "      <td>NaN</td>\n",
       "    </tr>\n",
       "    <tr>\n",
       "      <th>5583</th>\n",
       "      <td>NaN</td>\n",
       "      <td>NaN</td>\n",
       "      <td>NaN</td>\n",
       "      <td>NaN</td>\n",
       "      <td>NaN</td>\n",
       "      <td>NaN</td>\n",
       "      <td>NaN</td>\n",
       "      <td>NaN</td>\n",
       "      <td>NaN</td>\n",
       "      <td>NaN</td>\n",
       "      <td>...</td>\n",
       "      <td>NaN</td>\n",
       "      <td>NaN</td>\n",
       "      <td>NaN</td>\n",
       "      <td>NaN</td>\n",
       "      <td>NaN</td>\n",
       "      <td>NaN</td>\n",
       "      <td>NaN</td>\n",
       "      <td>NaN</td>\n",
       "      <td>NaN</td>\n",
       "      <td>NaN</td>\n",
       "    </tr>\n",
       "    <tr>\n",
       "      <th>13445</th>\n",
       "      <td>NaN</td>\n",
       "      <td>NaN</td>\n",
       "      <td>NaN</td>\n",
       "      <td>NaN</td>\n",
       "      <td>NaN</td>\n",
       "      <td>NaN</td>\n",
       "      <td>NaN</td>\n",
       "      <td>NaN</td>\n",
       "      <td>NaN</td>\n",
       "      <td>NaN</td>\n",
       "      <td>...</td>\n",
       "      <td>NaN</td>\n",
       "      <td>NaN</td>\n",
       "      <td>NaN</td>\n",
       "      <td>NaN</td>\n",
       "      <td>NaN</td>\n",
       "      <td>NaN</td>\n",
       "      <td>NaN</td>\n",
       "      <td>NaN</td>\n",
       "      <td>NaN</td>\n",
       "      <td>NaN</td>\n",
       "    </tr>\n",
       "    <tr>\n",
       "      <th>15947</th>\n",
       "      <td>NaN</td>\n",
       "      <td>NaN</td>\n",
       "      <td>NaN</td>\n",
       "      <td>NaN</td>\n",
       "      <td>NaN</td>\n",
       "      <td>NaN</td>\n",
       "      <td>NaN</td>\n",
       "      <td>NaN</td>\n",
       "      <td>4.0</td>\n",
       "      <td>NaN</td>\n",
       "      <td>...</td>\n",
       "      <td>NaN</td>\n",
       "      <td>NaN</td>\n",
       "      <td>NaN</td>\n",
       "      <td>NaN</td>\n",
       "      <td>NaN</td>\n",
       "      <td>NaN</td>\n",
       "      <td>NaN</td>\n",
       "      <td>NaN</td>\n",
       "      <td>NaN</td>\n",
       "      <td>NaN</td>\n",
       "    </tr>\n",
       "  </tbody>\n",
       "</table>\n",
       "<p>5 rows × 11415 columns</p>\n",
       "</div>"
      ],
      "text/plain": [
       "movie_id  1      3      5      6      8      12     15     16     17     \\\n",
       "user_id                                                                   \n",
       "915         5.0    NaN    NaN    NaN    NaN    NaN    NaN    NaN    NaN   \n",
       "5017        NaN    NaN    NaN    NaN    NaN    NaN    NaN    NaN    4.0   \n",
       "5583        NaN    NaN    NaN    NaN    NaN    NaN    NaN    NaN    NaN   \n",
       "13445       NaN    NaN    NaN    NaN    NaN    NaN    NaN    NaN    NaN   \n",
       "15947       NaN    NaN    NaN    NaN    NaN    NaN    NaN    NaN    4.0   \n",
       "\n",
       "movie_id  18     ...  17758  17760  17761  17762  17763  17764  17765  17766  \\\n",
       "user_id          ...                                                           \n",
       "915         NaN  ...    NaN    NaN    NaN    NaN    NaN    NaN    NaN    NaN   \n",
       "5017        NaN  ...    NaN    NaN    NaN    NaN    NaN    NaN    NaN    NaN   \n",
       "5583        NaN  ...    NaN    NaN    NaN    NaN    NaN    NaN    NaN    NaN   \n",
       "13445       NaN  ...    NaN    NaN    NaN    NaN    NaN    NaN    NaN    NaN   \n",
       "15947       NaN  ...    NaN    NaN    NaN    NaN    NaN    NaN    NaN    NaN   \n",
       "\n",
       "movie_id  17768  17769  \n",
       "user_id                 \n",
       "915         NaN    NaN  \n",
       "5017        NaN    NaN  \n",
       "5583        NaN    NaN  \n",
       "13445       NaN    NaN  \n",
       "15947       NaN    NaN  \n",
       "\n",
       "[5 rows x 11415 columns]"
      ]
     },
     "execution_count": 148,
     "metadata": {},
     "output_type": "execute_result"
    }
   ],
   "source": [
    "# Ratings Matrix\n",
    "# Build the ratings matrix using the pivot_table functionality\n",
    "ratings_matrix = X_train.pivot_table(values='rating', index='user_id', columns='movie_id')\n",
    "\n",
    "ratings_matrix.head(5)"
   ]
  },
  {
   "cell_type": "code",
   "execution_count": 149,
   "metadata": {},
   "outputs": [],
   "source": [
    "# Set the null / NaN ratings in the mean_ratings matrix to zero\n",
    "mean_ratings = ratings_matrix.copy().fillna(0)\n",
    "mean_ratings_sparse = csr_matrix(mean_ratings.values)\n",
    "mean_ratings = mean_ratings_sparse"
   ]
  },
  {
   "cell_type": "code",
   "execution_count": 150,
   "metadata": {},
   "outputs": [],
   "source": [
    "#Mean\n",
    "\n",
    "# Customer based collaborative filtering using mean ratings\n",
    "def collab_filter_mean(user_id, movie_id):\n",
    "    \n",
    "    \n",
    "    # Check to see if Movie_id exists in ratings_matrix\n",
    "    if movie_id in ratings_matrix:\n",
    "        \n",
    "        # Compute the mean of all the ratings given to the movie by the customers\n",
    "        mean_ratings = ratings_matrix[movie_id].mean()\n",
    "        \n",
    "    else:\n",
    "        \n",
    "        # Default to a rating of 3.0 in the absense of any information\n",
    "        mean_ratings = 3.0\n",
    "        \n",
    "    return mean_ratings  "
   ]
  },
  {
   "cell_type": "code",
   "execution_count": 151,
   "metadata": {},
   "outputs": [
    {
     "data": {
      "text/plain": [
       "1.0132790590565257"
      ]
     },
     "execution_count": 151,
     "metadata": {},
     "output_type": "execute_result"
    }
   ],
   "source": [
    "# Compute RMSE for the Mean model\n",
    "score(collab_filter_mean)"
   ]
  },
  {
   "cell_type": "code",
   "execution_count": 152,
   "metadata": {},
   "outputs": [
    {
     "data": {
      "text/html": [
       "<div>\n",
       "<style scoped>\n",
       "    .dataframe tbody tr th:only-of-type {\n",
       "        vertical-align: middle;\n",
       "    }\n",
       "\n",
       "    .dataframe tbody tr th {\n",
       "        vertical-align: top;\n",
       "    }\n",
       "\n",
       "    .dataframe thead th {\n",
       "        text-align: right;\n",
       "    }\n",
       "</style>\n",
       "<table border=\"1\" class=\"dataframe\">\n",
       "  <thead>\n",
       "    <tr style=\"text-align: right;\">\n",
       "      <th>movie_id</th>\n",
       "      <th>1</th>\n",
       "      <th>3</th>\n",
       "      <th>5</th>\n",
       "      <th>6</th>\n",
       "      <th>8</th>\n",
       "      <th>12</th>\n",
       "      <th>15</th>\n",
       "      <th>16</th>\n",
       "      <th>17</th>\n",
       "      <th>18</th>\n",
       "      <th>...</th>\n",
       "      <th>17758</th>\n",
       "      <th>17760</th>\n",
       "      <th>17761</th>\n",
       "      <th>17762</th>\n",
       "      <th>17763</th>\n",
       "      <th>17764</th>\n",
       "      <th>17765</th>\n",
       "      <th>17766</th>\n",
       "      <th>17768</th>\n",
       "      <th>17769</th>\n",
       "    </tr>\n",
       "    <tr>\n",
       "      <th>user_id</th>\n",
       "      <th></th>\n",
       "      <th></th>\n",
       "      <th></th>\n",
       "      <th></th>\n",
       "      <th></th>\n",
       "      <th></th>\n",
       "      <th></th>\n",
       "      <th></th>\n",
       "      <th></th>\n",
       "      <th></th>\n",
       "      <th></th>\n",
       "      <th></th>\n",
       "      <th></th>\n",
       "      <th></th>\n",
       "      <th></th>\n",
       "      <th></th>\n",
       "      <th></th>\n",
       "      <th></th>\n",
       "      <th></th>\n",
       "      <th></th>\n",
       "      <th></th>\n",
       "    </tr>\n",
       "  </thead>\n",
       "  <tbody>\n",
       "    <tr>\n",
       "      <th>915</th>\n",
       "      <td>5.0</td>\n",
       "      <td>0.0</td>\n",
       "      <td>0.0</td>\n",
       "      <td>0.0</td>\n",
       "      <td>0.0</td>\n",
       "      <td>0.0</td>\n",
       "      <td>0.0</td>\n",
       "      <td>0.0</td>\n",
       "      <td>0.0</td>\n",
       "      <td>0.0</td>\n",
       "      <td>...</td>\n",
       "      <td>0.0</td>\n",
       "      <td>0.0</td>\n",
       "      <td>0.0</td>\n",
       "      <td>0.0</td>\n",
       "      <td>0.0</td>\n",
       "      <td>0.0</td>\n",
       "      <td>0.0</td>\n",
       "      <td>0.0</td>\n",
       "      <td>0.0</td>\n",
       "      <td>0.0</td>\n",
       "    </tr>\n",
       "    <tr>\n",
       "      <th>5017</th>\n",
       "      <td>0.0</td>\n",
       "      <td>0.0</td>\n",
       "      <td>0.0</td>\n",
       "      <td>0.0</td>\n",
       "      <td>0.0</td>\n",
       "      <td>0.0</td>\n",
       "      <td>0.0</td>\n",
       "      <td>0.0</td>\n",
       "      <td>4.0</td>\n",
       "      <td>0.0</td>\n",
       "      <td>...</td>\n",
       "      <td>0.0</td>\n",
       "      <td>0.0</td>\n",
       "      <td>0.0</td>\n",
       "      <td>0.0</td>\n",
       "      <td>0.0</td>\n",
       "      <td>0.0</td>\n",
       "      <td>0.0</td>\n",
       "      <td>0.0</td>\n",
       "      <td>0.0</td>\n",
       "      <td>0.0</td>\n",
       "    </tr>\n",
       "    <tr>\n",
       "      <th>5583</th>\n",
       "      <td>0.0</td>\n",
       "      <td>0.0</td>\n",
       "      <td>0.0</td>\n",
       "      <td>0.0</td>\n",
       "      <td>0.0</td>\n",
       "      <td>0.0</td>\n",
       "      <td>0.0</td>\n",
       "      <td>0.0</td>\n",
       "      <td>0.0</td>\n",
       "      <td>0.0</td>\n",
       "      <td>...</td>\n",
       "      <td>0.0</td>\n",
       "      <td>0.0</td>\n",
       "      <td>0.0</td>\n",
       "      <td>0.0</td>\n",
       "      <td>0.0</td>\n",
       "      <td>0.0</td>\n",
       "      <td>0.0</td>\n",
       "      <td>0.0</td>\n",
       "      <td>0.0</td>\n",
       "      <td>0.0</td>\n",
       "    </tr>\n",
       "    <tr>\n",
       "      <th>13445</th>\n",
       "      <td>0.0</td>\n",
       "      <td>0.0</td>\n",
       "      <td>0.0</td>\n",
       "      <td>0.0</td>\n",
       "      <td>0.0</td>\n",
       "      <td>0.0</td>\n",
       "      <td>0.0</td>\n",
       "      <td>0.0</td>\n",
       "      <td>0.0</td>\n",
       "      <td>0.0</td>\n",
       "      <td>...</td>\n",
       "      <td>0.0</td>\n",
       "      <td>0.0</td>\n",
       "      <td>0.0</td>\n",
       "      <td>0.0</td>\n",
       "      <td>0.0</td>\n",
       "      <td>0.0</td>\n",
       "      <td>0.0</td>\n",
       "      <td>0.0</td>\n",
       "      <td>0.0</td>\n",
       "      <td>0.0</td>\n",
       "    </tr>\n",
       "    <tr>\n",
       "      <th>15947</th>\n",
       "      <td>0.0</td>\n",
       "      <td>0.0</td>\n",
       "      <td>0.0</td>\n",
       "      <td>0.0</td>\n",
       "      <td>0.0</td>\n",
       "      <td>0.0</td>\n",
       "      <td>0.0</td>\n",
       "      <td>0.0</td>\n",
       "      <td>4.0</td>\n",
       "      <td>0.0</td>\n",
       "      <td>...</td>\n",
       "      <td>0.0</td>\n",
       "      <td>0.0</td>\n",
       "      <td>0.0</td>\n",
       "      <td>0.0</td>\n",
       "      <td>0.0</td>\n",
       "      <td>0.0</td>\n",
       "      <td>0.0</td>\n",
       "      <td>0.0</td>\n",
       "      <td>0.0</td>\n",
       "      <td>0.0</td>\n",
       "    </tr>\n",
       "  </tbody>\n",
       "</table>\n",
       "<p>5 rows × 11415 columns</p>\n",
       "</div>"
      ],
      "text/plain": [
       "movie_id  1      3      5      6      8      12     15     16     17     \\\n",
       "user_id                                                                   \n",
       "915         5.0    0.0    0.0    0.0    0.0    0.0    0.0    0.0    0.0   \n",
       "5017        0.0    0.0    0.0    0.0    0.0    0.0    0.0    0.0    4.0   \n",
       "5583        0.0    0.0    0.0    0.0    0.0    0.0    0.0    0.0    0.0   \n",
       "13445       0.0    0.0    0.0    0.0    0.0    0.0    0.0    0.0    0.0   \n",
       "15947       0.0    0.0    0.0    0.0    0.0    0.0    0.0    0.0    4.0   \n",
       "\n",
       "movie_id  18     ...  17758  17760  17761  17762  17763  17764  17765  17766  \\\n",
       "user_id          ...                                                           \n",
       "915         0.0  ...    0.0    0.0    0.0    0.0    0.0    0.0    0.0    0.0   \n",
       "5017        0.0  ...    0.0    0.0    0.0    0.0    0.0    0.0    0.0    0.0   \n",
       "5583        0.0  ...    0.0    0.0    0.0    0.0    0.0    0.0    0.0    0.0   \n",
       "13445       0.0  ...    0.0    0.0    0.0    0.0    0.0    0.0    0.0    0.0   \n",
       "15947       0.0  ...    0.0    0.0    0.0    0.0    0.0    0.0    0.0    0.0   \n",
       "\n",
       "movie_id  17768  17769  \n",
       "user_id                 \n",
       "915         0.0    0.0  \n",
       "5017        0.0    0.0  \n",
       "5583        0.0    0.0  \n",
       "13445       0.0    0.0  \n",
       "15947       0.0    0.0  \n",
       "\n",
       "[5 rows x 11415 columns]"
      ]
     },
     "execution_count": 152,
     "metadata": {},
     "output_type": "execute_result"
    }
   ],
   "source": [
    "# Weighted Mean - Another approach to collaborative filtering\n",
    "# Create a dummy ratings matrix with all null values imputed to 0\n",
    "ratings_matrix_dummy = ratings_matrix.copy().fillna(0)\n",
    "\n",
    "ratings_matrix_dummy.head(5)\n"
   ]
  },
  {
   "cell_type": "code",
   "execution_count": 153,
   "metadata": {},
   "outputs": [],
   "source": [
    "# Import cosine_score\n",
    "from sklearn.metrics.pairwise import cosine_similarity\n",
    "\n",
    "# Compute the cosine similarity matrix using the dummy ratings matrix\n",
    "cosine_similar = cosine_similarity(ratings_matrix_dummy, ratings_matrix_dummy)"
   ]
  },
  {
   "cell_type": "code",
   "execution_count": 154,
   "metadata": {},
   "outputs": [
    {
     "data": {
      "text/html": [
       "<div>\n",
       "<style scoped>\n",
       "    .dataframe tbody tr th:only-of-type {\n",
       "        vertical-align: middle;\n",
       "    }\n",
       "\n",
       "    .dataframe tbody tr th {\n",
       "        vertical-align: top;\n",
       "    }\n",
       "\n",
       "    .dataframe thead th {\n",
       "        text-align: right;\n",
       "    }\n",
       "</style>\n",
       "<table border=\"1\" class=\"dataframe\">\n",
       "  <thead>\n",
       "    <tr style=\"text-align: right;\">\n",
       "      <th>user_id</th>\n",
       "      <th>915</th>\n",
       "      <th>5017</th>\n",
       "      <th>5583</th>\n",
       "      <th>13445</th>\n",
       "      <th>15947</th>\n",
       "      <th>17344</th>\n",
       "      <th>17530</th>\n",
       "      <th>19661</th>\n",
       "      <th>22816</th>\n",
       "      <th>22846</th>\n",
       "      <th>...</th>\n",
       "      <th>2628705</th>\n",
       "      <th>2629996</th>\n",
       "      <th>2633928</th>\n",
       "      <th>2634908</th>\n",
       "      <th>2638144</th>\n",
       "      <th>2638639</th>\n",
       "      <th>2640401</th>\n",
       "      <th>2642331</th>\n",
       "      <th>2645882</th>\n",
       "      <th>2646192</th>\n",
       "    </tr>\n",
       "    <tr>\n",
       "      <th>user_id</th>\n",
       "      <th></th>\n",
       "      <th></th>\n",
       "      <th></th>\n",
       "      <th></th>\n",
       "      <th></th>\n",
       "      <th></th>\n",
       "      <th></th>\n",
       "      <th></th>\n",
       "      <th></th>\n",
       "      <th></th>\n",
       "      <th></th>\n",
       "      <th></th>\n",
       "      <th></th>\n",
       "      <th></th>\n",
       "      <th></th>\n",
       "      <th></th>\n",
       "      <th></th>\n",
       "      <th></th>\n",
       "      <th></th>\n",
       "      <th></th>\n",
       "      <th></th>\n",
       "    </tr>\n",
       "  </thead>\n",
       "  <tbody>\n",
       "    <tr>\n",
       "      <th>915</th>\n",
       "      <td>1.000000</td>\n",
       "      <td>0.000000</td>\n",
       "      <td>0.090442</td>\n",
       "      <td>0.177938</td>\n",
       "      <td>0.055944</td>\n",
       "      <td>0.000000</td>\n",
       "      <td>0.081473</td>\n",
       "      <td>0.000000</td>\n",
       "      <td>0.000000</td>\n",
       "      <td>0.000000</td>\n",
       "      <td>...</td>\n",
       "      <td>0.000000</td>\n",
       "      <td>0.018166</td>\n",
       "      <td>0.000000</td>\n",
       "      <td>0.000000</td>\n",
       "      <td>0.011908</td>\n",
       "      <td>0.000000</td>\n",
       "      <td>0.024581</td>\n",
       "      <td>0.010414</td>\n",
       "      <td>0.033729</td>\n",
       "      <td>0.000000</td>\n",
       "    </tr>\n",
       "    <tr>\n",
       "      <th>5017</th>\n",
       "      <td>0.000000</td>\n",
       "      <td>1.000000</td>\n",
       "      <td>0.078475</td>\n",
       "      <td>0.169038</td>\n",
       "      <td>0.116453</td>\n",
       "      <td>0.048858</td>\n",
       "      <td>0.102435</td>\n",
       "      <td>0.074632</td>\n",
       "      <td>0.019519</td>\n",
       "      <td>0.125185</td>\n",
       "      <td>...</td>\n",
       "      <td>0.138749</td>\n",
       "      <td>0.158273</td>\n",
       "      <td>0.000000</td>\n",
       "      <td>0.056598</td>\n",
       "      <td>0.056248</td>\n",
       "      <td>0.050974</td>\n",
       "      <td>0.146075</td>\n",
       "      <td>0.133298</td>\n",
       "      <td>0.181466</td>\n",
       "      <td>0.017945</td>\n",
       "    </tr>\n",
       "    <tr>\n",
       "      <th>5583</th>\n",
       "      <td>0.090442</td>\n",
       "      <td>0.078475</td>\n",
       "      <td>1.000000</td>\n",
       "      <td>0.109242</td>\n",
       "      <td>0.076476</td>\n",
       "      <td>0.136392</td>\n",
       "      <td>0.087591</td>\n",
       "      <td>0.126836</td>\n",
       "      <td>0.086583</td>\n",
       "      <td>0.122987</td>\n",
       "      <td>...</td>\n",
       "      <td>0.230484</td>\n",
       "      <td>0.265213</td>\n",
       "      <td>0.080079</td>\n",
       "      <td>0.091953</td>\n",
       "      <td>0.242297</td>\n",
       "      <td>0.102512</td>\n",
       "      <td>0.195368</td>\n",
       "      <td>0.113077</td>\n",
       "      <td>0.094947</td>\n",
       "      <td>0.090021</td>\n",
       "    </tr>\n",
       "    <tr>\n",
       "      <th>13445</th>\n",
       "      <td>0.177938</td>\n",
       "      <td>0.169038</td>\n",
       "      <td>0.109242</td>\n",
       "      <td>1.000000</td>\n",
       "      <td>0.133279</td>\n",
       "      <td>0.040829</td>\n",
       "      <td>0.159606</td>\n",
       "      <td>0.088353</td>\n",
       "      <td>0.035270</td>\n",
       "      <td>0.097717</td>\n",
       "      <td>...</td>\n",
       "      <td>0.118941</td>\n",
       "      <td>0.160147</td>\n",
       "      <td>0.009885</td>\n",
       "      <td>0.029824</td>\n",
       "      <td>0.052760</td>\n",
       "      <td>0.039525</td>\n",
       "      <td>0.239808</td>\n",
       "      <td>0.145546</td>\n",
       "      <td>0.143590</td>\n",
       "      <td>0.038165</td>\n",
       "    </tr>\n",
       "    <tr>\n",
       "      <th>15947</th>\n",
       "      <td>0.055944</td>\n",
       "      <td>0.116453</td>\n",
       "      <td>0.076476</td>\n",
       "      <td>0.133279</td>\n",
       "      <td>1.000000</td>\n",
       "      <td>0.031100</td>\n",
       "      <td>0.287426</td>\n",
       "      <td>0.193361</td>\n",
       "      <td>0.020310</td>\n",
       "      <td>0.028823</td>\n",
       "      <td>...</td>\n",
       "      <td>0.034207</td>\n",
       "      <td>0.068336</td>\n",
       "      <td>0.000000</td>\n",
       "      <td>0.008076</td>\n",
       "      <td>0.019635</td>\n",
       "      <td>0.074648</td>\n",
       "      <td>0.090416</td>\n",
       "      <td>0.084540</td>\n",
       "      <td>0.058098</td>\n",
       "      <td>0.102571</td>\n",
       "    </tr>\n",
       "  </tbody>\n",
       "</table>\n",
       "<p>5 rows × 1934 columns</p>\n",
       "</div>"
      ],
      "text/plain": [
       "user_id   915       5017      5583      13445     15947     17344     17530    \\\n",
       "user_id                                                                         \n",
       "915      1.000000  0.000000  0.090442  0.177938  0.055944  0.000000  0.081473   \n",
       "5017     0.000000  1.000000  0.078475  0.169038  0.116453  0.048858  0.102435   \n",
       "5583     0.090442  0.078475  1.000000  0.109242  0.076476  0.136392  0.087591   \n",
       "13445    0.177938  0.169038  0.109242  1.000000  0.133279  0.040829  0.159606   \n",
       "15947    0.055944  0.116453  0.076476  0.133279  1.000000  0.031100  0.287426   \n",
       "\n",
       "user_id   19661     22816     22846    ...   2628705   2629996   2633928  \\\n",
       "user_id                                ...                                 \n",
       "915      0.000000  0.000000  0.000000  ...  0.000000  0.018166  0.000000   \n",
       "5017     0.074632  0.019519  0.125185  ...  0.138749  0.158273  0.000000   \n",
       "5583     0.126836  0.086583  0.122987  ...  0.230484  0.265213  0.080079   \n",
       "13445    0.088353  0.035270  0.097717  ...  0.118941  0.160147  0.009885   \n",
       "15947    0.193361  0.020310  0.028823  ...  0.034207  0.068336  0.000000   \n",
       "\n",
       "user_id   2634908   2638144   2638639   2640401   2642331   2645882   2646192  \n",
       "user_id                                                                        \n",
       "915      0.000000  0.011908  0.000000  0.024581  0.010414  0.033729  0.000000  \n",
       "5017     0.056598  0.056248  0.050974  0.146075  0.133298  0.181466  0.017945  \n",
       "5583     0.091953  0.242297  0.102512  0.195368  0.113077  0.094947  0.090021  \n",
       "13445    0.029824  0.052760  0.039525  0.239808  0.145546  0.143590  0.038165  \n",
       "15947    0.008076  0.019635  0.074648  0.090416  0.084540  0.058098  0.102571  \n",
       "\n",
       "[5 rows x 1934 columns]"
      ]
     },
     "execution_count": 154,
     "metadata": {},
     "output_type": "execute_result"
    }
   ],
   "source": [
    "# Convert into pandas dataframe\n",
    "cosine_similar = pd.DataFrame(cosine_similar, index=ratings_matrix.index, columns=ratings_matrix.index)\n",
    "\n",
    "cosine_similar.head(5)"
   ]
  },
  {
   "cell_type": "code",
   "execution_count": 155,
   "metadata": {},
   "outputs": [],
   "source": [
    "export_csv = cosine_similar.to_csv (r'C:\\Users\\AaronDataScienceComp\\Documents\\export_cosine_similar.csv', index = None, header=True)\n",
    "\n",
    "export_csv"
   ]
  },
  {
   "cell_type": "code",
   "execution_count": 156,
   "metadata": {},
   "outputs": [],
   "source": [
    "# User based collaborative filtering using weighted mean ratings\n",
    "def collab_filter_cust_wmean(user_id, movie_id):\n",
    "    \n",
    "    # Check to see if Movie_id exists in ratings_matrix\n",
    "    if movie_id in ratings_matrix_dummy:\n",
    "        \n",
    "        # Pull similarity scores for the customer in question with every other customer\n",
    "        similar_scores = cosine_similar[user_id]\n",
    "        \n",
    "        # Pull the customer ratings for the movie in question\n",
    "        movie_ratings = ratings_matrix_dummy[movie_id]\n",
    "        \n",
    "        # Extract the indices containing NaN in the moving_ratings series\n",
    "        idx = movie_ratings[movie_ratings.isnull()].index\n",
    "        \n",
    "        # Drop the NaN values from the movie_ratings\n",
    "        movie_ratings = movie_ratings.dropna()\n",
    "        \n",
    "        # Drop the corresponding cosine scores from the similar_scores series\n",
    "        similar_scores = similar_scores.drop(idx)\n",
    "        \n",
    "        # Compute the final weighted mean\n",
    "        wmean_rating = np.dot(similar_scores, movie_ratings) / similar_scores.sum()\n",
    "        \n",
    "    else:\n",
    "        \n",
    "        # Default to a rating of 3.0 which is the middle of ratings in the absence of any other information\n",
    "        \n",
    "        wmean_rating = 3.0\n",
    "    \n",
    "    return wmean_rating "
   ]
  },
  {
   "cell_type": "code",
   "execution_count": 157,
   "metadata": {},
   "outputs": [
    {
     "data": {
      "text/plain": [
       "3.226075438967756"
      ]
     },
     "execution_count": 157,
     "metadata": {},
     "output_type": "execute_result"
    }
   ],
   "source": [
    "score(collab_filter_cust_wmean) #dataset is still too large - NaNs were taken out - so this approach won't work\n",
    "\n",
    "# Too computationally expensive for such a data set which makes sense - weighted mean has a lot of calculations in it"
   ]
  },
  {
   "cell_type": "code",
   "execution_count": null,
   "metadata": {},
   "outputs": [],
   "source": []
  },
  {
   "cell_type": "code",
   "execution_count": null,
   "metadata": {},
   "outputs": [],
   "source": []
  },
  {
   "cell_type": "code",
   "execution_count": null,
   "metadata": {},
   "outputs": [],
   "source": []
  },
  {
   "cell_type": "code",
   "execution_count": 158,
   "metadata": {},
   "outputs": [],
   "source": []
  },
  {
   "cell_type": "code",
   "execution_count": null,
   "metadata": {},
   "outputs": [],
   "source": []
  },
  {
   "cell_type": "code",
   "execution_count": null,
   "metadata": {},
   "outputs": [],
   "source": [
    "\n"
   ]
  },
  {
   "cell_type": "code",
   "execution_count": 161,
   "metadata": {},
   "outputs": [],
   "source": []
  },
  {
   "cell_type": "code",
   "execution_count": null,
   "metadata": {},
   "outputs": [],
   "source": []
  },
  {
   "cell_type": "code",
   "execution_count": 169,
   "metadata": {},
   "outputs": [],
   "source": []
  },
  {
   "cell_type": "code",
   "execution_count": null,
   "metadata": {},
   "outputs": [],
   "source": []
  },
  {
   "cell_type": "code",
   "execution_count": null,
   "metadata": {},
   "outputs": [],
   "source": []
  },
  {
   "cell_type": "code",
   "execution_count": null,
   "metadata": {},
   "outputs": [],
   "source": []
  },
  {
   "cell_type": "code",
   "execution_count": null,
   "metadata": {},
   "outputs": [],
   "source": []
  }
 ],
 "metadata": {
  "kernelspec": {
   "display_name": "Python 3",
   "language": "python",
   "name": "python3"
  },
  "language_info": {
   "codemirror_mode": {
    "name": "ipython",
    "version": 3
   },
   "file_extension": ".py",
   "mimetype": "text/x-python",
   "name": "python",
   "nbconvert_exporter": "python",
   "pygments_lexer": "ipython3",
   "version": "3.7.3"
  }
 },
 "nbformat": 4,
 "nbformat_minor": 2
}
