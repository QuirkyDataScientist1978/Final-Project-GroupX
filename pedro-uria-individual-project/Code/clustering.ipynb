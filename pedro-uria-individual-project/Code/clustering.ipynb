{
 "cells": [
  {
   "cell_type": "code",
   "execution_count": 1,
   "metadata": {},
   "outputs": [
    {
     "name": "stdout",
     "output_type": "stream",
     "text": [
      "The loading process took 97 seconds\n"
     ]
    }
   ],
   "source": [
    "import os\n",
    "import pandas as pd\n",
    "import time\n",
    "\n",
    "start = time.time()\n",
    "data_path = os.getcwd()[:os.getcwd().find(\"Code\")] + \"Data/netflix-prize/complete-csv/all_samples.csv\"\n",
    "df = pd.read_csv(data_path)\n",
    "del df[\"Unnamed: 0\"]\n",
    "del df[\"date\"]\n",
    "print(\"The loading process took\", round(time.time() - start), \"seconds\")"
   ]
  },
  {
   "cell_type": "code",
   "execution_count": 2,
   "metadata": {},
   "outputs": [
    {
     "data": {
      "text/plain": [
       "(100477253, 3)"
      ]
     },
     "execution_count": 2,
     "metadata": {},
     "output_type": "execute_result"
    }
   ],
   "source": [
    "df.shape"
   ]
  },
  {
   "cell_type": "code",
   "execution_count": 3,
   "metadata": {},
   "outputs": [
    {
     "data": {
      "text/html": [
       "<div>\n",
       "<style scoped>\n",
       "    .dataframe tbody tr th:only-of-type {\n",
       "        vertical-align: middle;\n",
       "    }\n",
       "\n",
       "    .dataframe tbody tr th {\n",
       "        vertical-align: top;\n",
       "    }\n",
       "\n",
       "    .dataframe thead th {\n",
       "        text-align: right;\n",
       "    }\n",
       "</style>\n",
       "<table border=\"1\" class=\"dataframe\">\n",
       "  <thead>\n",
       "    <tr style=\"text-align: right;\">\n",
       "      <th></th>\n",
       "      <th>movie_id</th>\n",
       "      <th>user_id</th>\n",
       "      <th>rating</th>\n",
       "    </tr>\n",
       "  </thead>\n",
       "  <tbody>\n",
       "    <tr>\n",
       "      <th>0</th>\n",
       "      <td>1</td>\n",
       "      <td>1488844</td>\n",
       "      <td>3</td>\n",
       "    </tr>\n",
       "    <tr>\n",
       "      <th>1</th>\n",
       "      <td>1</td>\n",
       "      <td>822109</td>\n",
       "      <td>5</td>\n",
       "    </tr>\n",
       "    <tr>\n",
       "      <th>2</th>\n",
       "      <td>1</td>\n",
       "      <td>885013</td>\n",
       "      <td>4</td>\n",
       "    </tr>\n",
       "    <tr>\n",
       "      <th>3</th>\n",
       "      <td>1</td>\n",
       "      <td>30878</td>\n",
       "      <td>4</td>\n",
       "    </tr>\n",
       "    <tr>\n",
       "      <th>4</th>\n",
       "      <td>1</td>\n",
       "      <td>823519</td>\n",
       "      <td>3</td>\n",
       "    </tr>\n",
       "  </tbody>\n",
       "</table>\n",
       "</div>"
      ],
      "text/plain": [
       "   movie_id  user_id  rating\n",
       "0         1  1488844       3\n",
       "1         1   822109       5\n",
       "2         1   885013       4\n",
       "3         1    30878       4\n",
       "4         1   823519       3"
      ]
     },
     "execution_count": 3,
     "metadata": {},
     "output_type": "execute_result"
    }
   ],
   "source": [
    "df.head()"
   ]
  },
  {
   "cell_type": "markdown",
   "metadata": {},
   "source": [
    "## Clustering Distance Metric:\n",
    "\n",
    "$$ d(A, B) = \\frac{1}{n\\cdot5^2} \\sum_i (r_{Ai} - r_{Bi})^2 $$\n",
    "\n",
    "where $r_{Ai}$ is the rating of user $A$ to movie $i$, and $n$ is the number of movies both user $A$ has reviewed."
   ]
  },
  {
   "cell_type": "code",
   "execution_count": 4,
   "metadata": {},
   "outputs": [
    {
     "data": {
      "text/plain": [
       "480189"
      ]
     },
     "execution_count": 4,
     "metadata": {},
     "output_type": "execute_result"
    }
   ],
   "source": [
    "len(df[\"user_id\"].unique())"
   ]
  },
  {
   "cell_type": "code",
   "execution_count": 9,
   "metadata": {},
   "outputs": [
    {
     "name": "stdout",
     "output_type": "stream",
     "text": [
      "284.9979431629181\n"
     ]
    }
   ],
   "source": [
    "# This is too inefficient -- don't run!\n",
    "def first_try():\n",
    "    start = time.time()\n",
    "    a, b = 1488844, 6\n",
    "    distance = {}\n",
    "    rate, d = 0, 0\n",
    "    for movie_id in set(df[df[\"user_id\"] == a][\"movie_id\"]) & set(df[df[\"user_id\"] == b][\"movie_id\"]):\n",
    "        #if rate == 0:\n",
    "        #    print(len(set(df[df[\"user_id\"] == a][\"movie_id\"]) & set(df[df[\"user_id\"] == b][\"movie_id\"])))\n",
    "        r_a = df[(df[\"user_id\"] == a) & (df[\"movie_id\"] == movie_id)][\"rating\"].iloc[0]\n",
    "        r_b = df[(df[\"user_id\"] == b) & (df[\"movie_id\"] == movie_id)][\"rating\"].iloc[0]\n",
    "        #print(r_a, r_b)\n",
    "        #break\n",
    "        d += (r_a - r_b)**2\n",
    "        rate += 1\n",
    "        #if rate % 10 == 0:\n",
    "        #    print(\"distance ----\", (r_a - r_b)**2/(5**2), \"-----\", rate, \"going\")\n",
    "    distance = d/(rate*(5**2))\n",
    "    print(time.time() - start)\n",
    "    \n",
    "#first_try()\n",
    "# Output -> 285 secs"
   ]
  },
  {
   "cell_type": "markdown",
   "metadata": {},
   "source": [
    "Let's try getting the user's dataframes first"
   ]
  },
  {
   "cell_type": "code",
   "execution_count": 17,
   "metadata": {},
   "outputs": [
    {
     "name": "stdout",
     "output_type": "stream",
     "text": [
      "0.8659329414367676\n"
     ]
    },
    {
     "data": {
      "text/plain": [
       "0.043485838779956425"
      ]
     },
     "execution_count": 17,
     "metadata": {},
     "output_type": "execute_result"
    }
   ],
   "source": [
    "start = time.time()\n",
    "a, b = 1488844, 6\n",
    "df_a = df[df[\"user_id\"] == a]\n",
    "df_b = df[df[\"user_id\"] == b]\n",
    "rate, d = 0, 0\n",
    "for movie_id in set(df_a[\"movie_id\"]) & set(df_b[\"movie_id\"]):\n",
    "    d += (df_a[df_a[\"movie_id\"] == movie_id][\"rating\"].iloc[0] - df_b[df_b[\"movie_id\"] == movie_id][\"rating\"].iloc[0])**2\n",
    "distance = d/(len(set(df_a[\"movie_id\"]) & set(df_b[\"movie_id\"]))*(5**2))\n",
    "print(time.time() - start)\n",
    "distance"
   ]
  },
  {
   "cell_type": "markdown",
   "metadata": {},
   "source": [
    "Wow... But even so, 0.87 second per user, and we have 480189 users... It would take 116 hours to get the distance of all the users with respect to a single user... We need to remove both users and movies with few ratings and movies, but even doing so, this seems unfeasible. We can also split intro training and testing now, or rather, we should. 50-50 split is reasonable for such large data. Without removing irrelevant users, this would come down to 58 hours for only one user... still too much, even if we do multiple users in parallel."
   ]
  },
  {
   "cell_type": "markdown",
   "metadata": {},
   "source": [
    "Using NumPy vects will probably speed it up even more... let's try"
   ]
  },
  {
   "cell_type": "code",
   "execution_count": 50,
   "metadata": {},
   "outputs": [
    {
     "name": "stdout",
     "output_type": "stream",
     "text": [
      "0.23475003242492676\n"
     ]
    },
    {
     "data": {
      "text/plain": [
       "0.04348583877995643"
      ]
     },
     "execution_count": 50,
     "metadata": {},
     "output_type": "execute_result"
    }
   ],
   "source": [
    "start = time.time()\n",
    "a, b = 1488844, 6\n",
    "df_a = df[df[\"user_id\"] == a]\n",
    "df_b = df[df[\"user_id\"] == b]\n",
    "rate, d = 0, 0\n",
    "common_movies = set(df_a[\"movie_id\"]) & set(df_b[\"movie_id\"])\n",
    "ratings_a = df_a[df_a[\"movie_id\"].isin(common_movies)][\"rating\"].values\n",
    "ratings_b = df_b[df_b[\"movie_id\"].isin(common_movies)][\"rating\"].values\n",
    "print(time.time() - start)\n",
    "((ratings_a - ratings_b)**2).mean()/5**2"
   ]
  },
  {
   "cell_type": "markdown",
   "metadata": {},
   "source": [
    "Still... this would mean 15 hours for one user. Maybe after removing non-relevant users and movies, this will become feasible if we do it in parallel and on the cloud. Need your thoughts on this before trying this though, as I am not very optimistic in the matter. TODO. Aaron's code will come in handy here.\n",
    "\n",
    "The last approach would be KMeans via sklearn, but for that we need to create a matrix like\n",
    "\n",
    "| users | movie_1 | movie_2 | movie_3 | .... |\n",
    "|-------|---------|---------|---------|------|\n",
    "| a     | 3       | 4       | 1       | ...  |\n",
    "| b     | 2       | 2       | 5       | ...  |\n",
    "| ...   | ...     | ...     | ...     | ...  |\n",
    "\n",
    "but we would get a lot of NaNs... for the users which didn't rate movie_1, movie_2, etc. We could trim it down to include as features only the movies that were rated by all users, but I do not know how good the clustering would be at that point..."
   ]
  },
  {
   "cell_type": "code",
   "execution_count": 10,
   "metadata": {},
   "outputs": [],
   "source": [
    "movies_user = set(df[df[\"user_id\"] == df[\"user_id\"].unique()[0]][\"movie_id\"])\n",
    "count = 0\n",
    "for user in df[\"user_id\"].unique()[1:]:\n",
    "    movies_user = movies_user & set(df[df[\"user_id\"] == user][\"movie_id\"])\n",
    "    count += 1\n",
    "    if count == 6:\n",
    "        break"
   ]
  },
  {
   "cell_type": "code",
   "execution_count": 11,
   "metadata": {},
   "outputs": [
    {
     "data": {
      "text/plain": [
       "1"
      ]
     },
     "execution_count": 11,
     "metadata": {},
     "output_type": "execute_result"
    }
   ],
   "source": [
    "len(movies_user)"
   ]
  },
  {
   "cell_type": "markdown",
   "metadata": {},
   "source": [
    "Yeap, this is even worse than I though. For the first 6 users, there is only one movie which all of them rated!!"
   ]
  },
  {
   "cell_type": "code",
   "execution_count": 8,
   "metadata": {},
   "outputs": [
    {
     "data": {
      "text/plain": [
       "{1}"
      ]
     },
     "execution_count": 8,
     "metadata": {},
     "output_type": "execute_result"
    }
   ],
   "source": [
    "movies_user"
   ]
  },
  {
   "cell_type": "markdown",
   "metadata": {},
   "source": [
    "After removing users with few raitings, this will probably improve, but still, we have too many users..."
   ]
  }
 ],
 "metadata": {
  "kernelspec": {
   "display_name": "Python 3",
   "language": "python",
   "name": "python3"
  },
  "language_info": {
   "codemirror_mode": {
    "name": "ipython",
    "version": 3
   },
   "file_extension": ".py",
   "mimetype": "text/x-python",
   "name": "python",
   "nbconvert_exporter": "python",
   "pygments_lexer": "ipython3",
   "version": "3.6.7"
  }
 },
 "nbformat": 4,
 "nbformat_minor": 2
}
