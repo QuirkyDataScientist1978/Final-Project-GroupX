{
 "cells": [
  {
   "cell_type": "code",
   "execution_count": 1,
   "metadata": {},
   "outputs": [],
   "source": [
    "from sklearn.model_selection import train_test_split\n",
    "from sklearn.linear_model import LinearRegression, Ridge, Lasso\n",
    "from sklearn.ensemble import RandomForestRegressor\n",
    "from sklearn.ensemble import AdaBoostRegressor\n",
    "from sklearn.metrics import r2_score\n",
    "import numpy as np\n",
    "import pandas as pd\n",
    "import os\n",
    "import json\n",
    "from time import time\n",
    "import matplotlib.pyplot as plt\n",
    "\n",
    "\n",
    "# Reads the downsampled dataframe\n",
    "df = pd.read_csv(os.getcwd()[:os.getcwd().find(\"Code\")] + \"/Data/netflix-prize/downsampled-csv/few_samples.csv\")\n",
    "# Reads the json with all the clusters for each user -> This are for a threshold of 0.02. Later, we will tune this threshold\n",
    "path = os.getcwd()[:os.getcwd().find(\"Code\")] + \"/Data/user-clusters/clusters.json\"\n",
    "with open(path, \"r\") as s:\n",
    "    clusters = json.loads(s.read())"
   ]
  },
  {
   "cell_type": "code",
   "execution_count": 2,
   "metadata": {},
   "outputs": [
    {
     "name": "stderr",
     "output_type": "stream",
     "text": [
      "/Users/Pedro./anaconda3/lib/python3.7/site-packages/sklearn/ensemble/forest.py:246: FutureWarning: The default value of n_estimators will change from 10 in version 0.20 to 100 in 0.22.\n",
      "  \"10 in version 0.20 to 100 in 0.22.\", FutureWarning)\n"
     ]
    },
    {
     "name": "stdout",
     "output_type": "stream",
     "text": [
      "error: min() arg is an empty sequence 1367949\n",
      "error: min() arg is an empty sequence 2334738\n",
      "error: min() arg is an empty sequence 984085\n",
      "error: min() arg is an empty sequence 1430656\n",
      "error: min() arg is an empty sequence 456966\n",
      "We have trained and scored models on 100 users, and it has taken 7 seconds\n",
      "error: min() arg is an empty sequence 665775\n",
      "error: min() arg is an empty sequence 1050678\n",
      "We have trained and scored models on 200 users, and it has taken 12 seconds\n",
      "error: min() arg is an empty sequence 44434\n",
      "error: min() arg is an empty sequence 2292135\n",
      "We have trained and scored models on 300 users, and it has taken 19 seconds\n",
      "error: min() arg is an empty sequence 1569028\n",
      "error: min() arg is an empty sequence 2597934\n",
      "We have trained and scored models on 400 users, and it has taken 25 seconds\n",
      "error: The test_size = 3 should be greater or equal to the number of classes = 4 1948291\n",
      "We have trained and scored models on 500 users, and it has taken 32 seconds\n",
      "We have trained and scored models on 600 users, and it has taken 39 seconds\n",
      "error: min() arg is an empty sequence 167586\n",
      "We have trained and scored models on 700 users, and it has taken 45 seconds\n",
      "error: min() arg is an empty sequence 780871\n",
      "We have trained and scored models on 800 users, and it has taken 51 seconds\n",
      "error: min() arg is an empty sequence 1978682\n",
      "We have trained and scored models on 900 users, and it has taken 58 seconds\n",
      "We have trained and scored models on 1000 users, and it has taken 66 seconds\n",
      "We have trained and scored models on 1100 users, and it has taken 72 seconds\n",
      "error: min() arg is an empty sequence 1675342\n",
      "We have trained and scored models on 1200 users, and it has taken 81 seconds\n",
      "We have trained and scored models on 1300 users, and it has taken 86 seconds\n",
      "We have trained and scored models on 1400 users, and it has taken 93 seconds\n",
      "We have trained and scored models on 1500 users, and it has taken 99 seconds\n",
      "We have trained and scored models on 1600 users, and it has taken 106 seconds\n",
      "We have trained and scored models on 1700 users, and it has taken 113 seconds\n",
      "We have trained and scored models on 1800 users, and it has taken 118 seconds\n",
      "We have trained and scored models on 1900 users, and it has taken 124 seconds\n"
     ]
    }
   ],
   "source": [
    "# Trains and scores regression models for each user\n",
    "lr = LinearRegression()\n",
    "r_squared = {}\n",
    "rf = RandomForestRegressor()\n",
    "rf_scores = {}\n",
    "dumb_scores = {}\n",
    "rg = Ridge()\n",
    "rg_squared = {}\n",
    "ada = AdaBoostRegressor()\n",
    "ada_scores = {}\n",
    "\n",
    "user_count = 0\n",
    "problem_users = []\n",
    "timer = 0\n",
    "for user in clusters.keys():\n",
    "    \n",
    "    start = time()\n",
    "\n",
    "    # Gets the cluster of users for user\n",
    "    similar_users_to_user = [int(user) for user in clusters[user].split()]\n",
    "    # Gets the data for the users in user cluster\n",
    "    df_user_cluster = df[df[\"user_id\"].isin(similar_users_to_user)]\n",
    "    df_user = df[df[\"user_id\"].isin([user])]\n",
    "    \n",
    "    groups = df_user_cluster.groupby(\"movie_id\")\n",
    "    movies_avg_rating = groups[\"rating\"].mean()\n",
    "    df_user = pd.merge(movies_avg_rating, df_user, on=\"movie_id\")\n",
    "    del df_user[\"user_id\"]\n",
    "    df_user.columns = [\"movie_id\", \"cluster_avg_rating\", \"user_rating\"]\n",
    "    \n",
    "    df_user.replace(\"?\", np.NaN, inplace=True)\n",
    "    df_user.dropna(inplace=True)\n",
    "    try:\n",
    "        if min(df_user[\"user_rating\"].value_counts()) == 1:  # Condition to avoid error on train_test_split\n",
    "            # ValueError: The least populated class in y has only 1 member, which is too few. \n",
    "            # The minimum number of groups for any class cannot be less than 2.\n",
    "            problem_users.append(user)\n",
    "        else:\n",
    "            X = df_user.drop([\"user_rating\", \"movie_id\"], axis=1)\n",
    "            y = df_user[\"user_rating\"]\n",
    "            X_train, X_test, y_train, y_test = train_test_split(X, y, test_size=0.3, random_state=42, stratify=y)\n",
    "            lr.fit(X_train, y_train)\n",
    "            r_squared[user] = lr.score(X_test, y_test)\n",
    "            rf.fit(X_train, y_train)\n",
    "            rf_scores[user] = rf.score(X_test, y_test)\n",
    "            dumb_scores[user] = r2_score(y_test.values, X_test.values)\n",
    "            rg.fit(X_train, y_train)\n",
    "            rg_squared[user] = rg.score(X_test, y_test)\n",
    "            ada.fit(X_train, y_train)\n",
    "            ada_scores[user] = ada.score(X_test, y_test)\n",
    "            \n",
    "    except Exception as e:\n",
    "        print(\"error:\", e, user)\n",
    "\n",
    "    timer += time() - start\n",
    "    user_count += 1\n",
    "    if user_count % 100 == 0:\n",
    "        print(\"We have trained and scored models on\", user_count, \"users,\", \n",
    "             \"and it has taken\", round(timer), \"seconds\")"
   ]
  },
  {
   "cell_type": "code",
   "execution_count": 6,
   "metadata": {},
   "outputs": [
    {
     "name": "stdout",
     "output_type": "stream",
     "text": [
      "0.6472393236132499\n",
      "0.6132169574676463\n",
      "0.6074667998459438\n",
      "0.6491201671921552\n",
      "0.5914646141802508\n"
     ]
    }
   ],
   "source": [
    "for i in [r_squared, rf_scores, dumb_scores, rg_squared, ada_scores]:\n",
    "    print(np.mean(list(i.values())))"
   ]
  },
  {
   "cell_type": "markdown",
   "metadata": {},
   "source": [
    "The best one is Ridge, but very close to linear regression. The errors indicate that there cluster for that user is empty, thus we cannot make predictions for this user."
   ]
  },
  {
   "cell_type": "code",
   "execution_count": 7,
   "metadata": {},
   "outputs": [],
   "source": [
    "import operator\n",
    "sorted_r_squared = sorted(r_squared.items(), key=operator.itemgetter(1), reverse=True)\n",
    "sorted_rg_squared = sorted(rg_squared.items(), key=operator.itemgetter(1), reverse=True)"
   ]
  },
  {
   "cell_type": "code",
   "execution_count": 8,
   "metadata": {},
   "outputs": [
    {
     "data": {
      "text/plain": [
       "('2097445', 1.0)"
      ]
     },
     "execution_count": 8,
     "metadata": {},
     "output_type": "execute_result"
    }
   ],
   "source": [
    "sorted_r_squared[0]"
   ]
  },
  {
   "cell_type": "code",
   "execution_count": 9,
   "metadata": {},
   "outputs": [
    {
     "data": {
      "text/plain": [
       "('2097445', 1.0)"
      ]
     },
     "execution_count": 9,
     "metadata": {},
     "output_type": "execute_result"
    }
   ],
   "source": [
    "sorted_rg_squared[0]"
   ]
  },
  {
   "cell_type": "code",
   "execution_count": 10,
   "metadata": {},
   "outputs": [
    {
     "data": {
      "text/plain": [
       "('1400999', -0.4999999999999998)"
      ]
     },
     "execution_count": 10,
     "metadata": {},
     "output_type": "execute_result"
    }
   ],
   "source": [
    "sorted_r_squared[-1]"
   ]
  },
  {
   "cell_type": "code",
   "execution_count": 11,
   "metadata": {},
   "outputs": [
    {
     "data": {
      "text/plain": [
       "('18527', -0.4214017206136895)"
      ]
     },
     "execution_count": 11,
     "metadata": {},
     "output_type": "execute_result"
    }
   ],
   "source": [
    "sorted_rg_squared[-1]"
   ]
  },
  {
   "cell_type": "markdown",
   "metadata": {},
   "source": [
    "There are users for which we have perfect $R^2$, while for others it's even negative. This might indicate that these users are rating the movies at random or they just are very inconsistent with their ratings."
   ]
  },
  {
   "cell_type": "code",
   "execution_count": 12,
   "metadata": {},
   "outputs": [
    {
     "name": "stdout",
     "output_type": "stream",
     "text": [
      "0.2279673909465717\n",
      "0.2526222929373138\n",
      "0.31846930917743177\n",
      "0.22018118085766794\n",
      "0.2742871802989088\n"
     ]
    }
   ],
   "source": [
    "for i in [r_squared, rf_scores, dumb_scores, rg_squared, ada_scores]:\n",
    "    print(np.std(list(i.values())))"
   ]
  },
  {
   "cell_type": "markdown",
   "metadata": {},
   "source": [
    "The standard deviations are very high. Again, Ridge is the best."
   ]
  },
  {
   "cell_type": "markdown",
   "metadata": {},
   "source": [
    "Let's experiment with different thesholds to see which one works best. To do that, we need to load all the distances"
   ]
  },
  {
   "cell_type": "code",
   "execution_count": 14,
   "metadata": {},
   "outputs": [],
   "source": [
    "distances = {}\n",
    "os.chdir(os.getcwd()[:os.getcwd().find(\"Code\")] + \"Data/user-clusters/user-distances/\")\n",
    "for user in [user for user in os.listdir() if \".json\" in user]:\n",
    "    path = os.getcwd() + \"/\" + user\n",
    "    with open(path, \"r\") as s:\n",
    "        distances[user[5:user.find(\".json\")]] = json.loads(s.read())\n",
    "\n",
    "# Back to the original working directory\n",
    "os.chdir(os.getcwd()[:os.getcwd().find(\"/Data\")] + \"/Code/preprocessing\")"
   ]
  },
  {
   "cell_type": "code",
   "execution_count": 15,
   "metadata": {},
   "outputs": [],
   "source": [
    "clusters = {}\n",
    "keys = []\n",
    "for key, value in distances.items():\n",
    "    clusters[key] = \" \".join([keyy for keyy, valuee in value.items() if float(valuee) <= 0.01])\n",
    "    for i in keys:\n",
    "        if key in clusters[i]:\n",
    "            clusters[key] += \" \" + str(i)\n",
    "    keys.append(key)"
   ]
  },
  {
   "cell_type": "code",
   "execution_count": 16,
   "metadata": {},
   "outputs": [
    {
     "name": "stderr",
     "output_type": "stream",
     "text": [
      "/Users/Pedro./anaconda3/lib/python3.7/site-packages/sklearn/ensemble/forest.py:246: FutureWarning: The default value of n_estimators will change from 10 in version 0.20 to 100 in 0.22.\n",
      "  \"10 in version 0.20 to 100 in 0.22.\", FutureWarning)\n"
     ]
    },
    {
     "name": "stdout",
     "output_type": "stream",
     "text": [
      "error: min() arg is an empty sequence 1220994\n",
      "error: min() arg is an empty sequence 1814740\n",
      "error: min() arg is an empty sequence 507540\n",
      "error: min() arg is an empty sequence 1947739\n",
      "error: min() arg is an empty sequence 984085\n",
      "We have trained and scored models on 100 users, and it has taken 5 seconds\n",
      "error: min() arg is an empty sequence 2251285\n",
      "error: min() arg is an empty sequence 2292135\n",
      "error: min() arg is an empty sequence 2053064\n",
      "error: min() arg is an empty sequence 665775\n",
      "error: min() arg is an empty sequence 157711\n",
      "error: min() arg is an empty sequence 1166047\n",
      "error: min() arg is an empty sequence 1948291\n",
      "error: min() arg is an empty sequence 2546654\n",
      "We have trained and scored models on 200 users, and it has taken 9 seconds\n",
      "error: min() arg is an empty sequence 1154874\n",
      "error: min() arg is an empty sequence 1116187\n",
      "error: min() arg is an empty sequence 946528\n",
      "error: min() arg is an empty sequence 2126379\n",
      "error: min() arg is an empty sequence 1751912\n",
      "error: min() arg is an empty sequence 1581747\n",
      "error: min() arg is an empty sequence 1328930\n",
      "error: min() arg is an empty sequence 56108\n",
      "error: min() arg is an empty sequence 1437617\n",
      "error: min() arg is an empty sequence 1956888\n",
      "We have trained and scored models on 300 users, and it has taken 13 seconds\n",
      "error: min() arg is an empty sequence 1449622\n",
      "error: min() arg is an empty sequence 2517621\n",
      "error: min() arg is an empty sequence 1353855\n",
      "error: min() arg is an empty sequence 1675342\n",
      "error: min() arg is an empty sequence 1895929\n",
      "error: The test_size = 3 should be greater or equal to the number of classes = 4 1772141\n",
      "We have trained and scored models on 400 users, and it has taken 20 seconds\n",
      "error: min() arg is an empty sequence 1036776\n",
      "error: min() arg is an empty sequence 921064\n",
      "error: min() arg is an empty sequence 1687961\n",
      "error: min() arg is an empty sequence 1974776\n",
      "We have trained and scored models on 500 users, and it has taken 27 seconds\n",
      "error: min() arg is an empty sequence 2049750\n",
      "error: min() arg is an empty sequence 1974194\n",
      "We have trained and scored models on 600 users, and it has taken 34 seconds\n",
      "error: min() arg is an empty sequence 2620721\n",
      "error: min() arg is an empty sequence 469884\n",
      "error: min() arg is an empty sequence 1563732\n",
      "error: min() arg is an empty sequence 447190\n",
      "error: min() arg is an empty sequence 1345573\n",
      "error: min() arg is an empty sequence 176441\n",
      "error: min() arg is an empty sequence 780871\n",
      "We have trained and scored models on 700 users, and it has taken 41 seconds\n",
      "error: The test_size = 3 should be greater or equal to the number of classes = 4 928782\n",
      "error: min() arg is an empty sequence 1644750\n",
      "error: min() arg is an empty sequence 400460\n",
      "error: min() arg is an empty sequence 1093011\n",
      "error: min() arg is an empty sequence 475075\n",
      "error: min() arg is an empty sequence 709182\n",
      "error: min() arg is an empty sequence 345187\n",
      "error: min() arg is an empty sequence 1978682\n",
      "We have trained and scored models on 800 users, and it has taken 46 seconds\n",
      "error: min() arg is an empty sequence 1617734\n",
      "error: min() arg is an empty sequence 935060\n",
      "error: min() arg is an empty sequence 167586\n",
      "error: min() arg is an empty sequence 1510728\n",
      "We have trained and scored models on 900 users, and it has taken 53 seconds\n",
      "error: min() arg is an empty sequence 151528\n",
      "error: min() arg is an empty sequence 1685829\n",
      "error: min() arg is an empty sequence 282272\n",
      "error: min() arg is an empty sequence 2431565\n",
      "error: min() arg is an empty sequence 410007\n",
      "error: min() arg is an empty sequence 2572361\n",
      "error: min() arg is an empty sequence 163875\n",
      "We have trained and scored models on 1000 users, and it has taken 59 seconds\n",
      "error: min() arg is an empty sequence 517358\n",
      "error: min() arg is an empty sequence 1262628\n",
      "error: min() arg is an empty sequence 1187113\n",
      "error: min() arg is an empty sequence 177570\n",
      "error: min() arg is an empty sequence 1108236\n",
      "We have trained and scored models on 1100 users, and it has taken 65 seconds\n",
      "error: min() arg is an empty sequence 1367949\n",
      "error: min() arg is an empty sequence 509864\n",
      "error: min() arg is an empty sequence 2629996\n",
      "error: min() arg is an empty sequence 1903822\n",
      "We have trained and scored models on 1200 users, and it has taken 70 seconds\n",
      "error: min() arg is an empty sequence 1543113\n",
      "error: min() arg is an empty sequence 2334738\n",
      "error: min() arg is an empty sequence 1378126\n",
      "error: min() arg is an empty sequence 1051931\n",
      "error: min() arg is an empty sequence 168630\n",
      "error: min() arg is an empty sequence 1300029\n",
      "error: min() arg is an empty sequence 1486501\n",
      "error: min() arg is an empty sequence 1061611\n",
      "We have trained and scored models on 1300 users, and it has taken 77 seconds\n",
      "error: min() arg is an empty sequence 1478419\n",
      "error: min() arg is an empty sequence 2638144\n",
      "error: min() arg is an empty sequence 630835\n",
      "error: min() arg is an empty sequence 1430656\n",
      "error: min() arg is an empty sequence 1968161\n",
      "error: min() arg is an empty sequence 1050678\n",
      "We have trained and scored models on 1400 users, and it has taken 81 seconds\n",
      "error: min() arg is an empty sequence 1094132\n",
      "error: min() arg is an empty sequence 1579371\n",
      "error: min() arg is an empty sequence 1859163\n",
      "error: min() arg is an empty sequence 1692069\n",
      "error: min() arg is an empty sequence 1254561\n",
      "error: The test_size = 2 should be greater or equal to the number of classes = 3 2609068\n",
      "error: min() arg is an empty sequence 1367596\n",
      "error: min() arg is an empty sequence 2197205\n",
      "error: min() arg is an empty sequence 2078245\n",
      "We have trained and scored models on 1500 users, and it has taken 85 seconds\n",
      "error: min() arg is an empty sequence 1607009\n",
      "error: min() arg is an empty sequence 2320706\n",
      "error: min() arg is an empty sequence 2012788\n",
      "error: The test_size = 3 should be greater or equal to the number of classes = 4 1858779\n",
      "error: min() arg is an empty sequence 1582575\n",
      "error: min() arg is an empty sequence 1569028\n",
      "error: min() arg is an empty sequence 1450660\n",
      "error: min() arg is an empty sequence 2263991\n",
      "error: min() arg is an empty sequence 214955\n",
      "error: min() arg is an empty sequence 171953\n",
      "We have trained and scored models on 1600 users, and it has taken 89 seconds\n",
      "error: min() arg is an empty sequence 2597934\n",
      "error: min() arg is an empty sequence 2142313\n",
      "error: min() arg is an empty sequence 728004\n",
      "error: min() arg is an empty sequence 1346269\n",
      "error: The test_size = 3 should be greater or equal to the number of classes = 4 1850607\n",
      "error: min() arg is an empty sequence 974174\n",
      "error: min() arg is an empty sequence 1737529\n",
      "We have trained and scored models on 1700 users, and it has taken 93 seconds\n",
      "error: min() arg is an empty sequence 1705377\n",
      "error: min() arg is an empty sequence 1932270\n",
      "error: min() arg is an empty sequence 2292823\n",
      "error: min() arg is an empty sequence 1835511\n",
      "error: min() arg is an empty sequence 363195\n",
      "error: min() arg is an empty sequence 2516788\n",
      "error: min() arg is an empty sequence 1811432\n",
      "error: min() arg is an empty sequence 1435346\n",
      "error: min() arg is an empty sequence 779765\n",
      "error: min() arg is an empty sequence 456966\n",
      "error: min() arg is an empty sequence 1726600\n",
      "We have trained and scored models on 1800 users, and it has taken 98 seconds\n",
      "error: min() arg is an empty sequence 44434\n",
      "error: min() arg is an empty sequence 1168312\n",
      "error: min() arg is an empty sequence 1192770\n",
      "error: min() arg is an empty sequence 1463269\n",
      "error: min() arg is an empty sequence 1140044\n",
      "We have trained and scored models on 1900 users, and it has taken 102 seconds\n",
      "error: min() arg is an empty sequence 1408249\n"
     ]
    }
   ],
   "source": [
    "# Trains and scores a basic linear regression model for each user\n",
    "lr = LinearRegression()\n",
    "r_squared = {}\n",
    "rf = RandomForestRegressor()\n",
    "rf_scores = {}\n",
    "dumb_scores = {}\n",
    "rg = Ridge()\n",
    "rg_squared = {}\n",
    "ada = AdaBoostRegressor()\n",
    "ada_scores = {}\n",
    "\n",
    "user_count = 0\n",
    "problem_users = []\n",
    "timer = 0\n",
    "for user in clusters.keys():\n",
    "    \n",
    "    start = time()\n",
    "\n",
    "    # Gets the cluster of users for user\n",
    "    similar_users_to_user = [int(user) for user in clusters[user].split()]\n",
    "    # Gets the data for the users in user cluster\n",
    "    df_user_cluster = df[df[\"user_id\"].isin(similar_users_to_user)]\n",
    "    df_user = df[df[\"user_id\"].isin([user])]\n",
    "    \n",
    "    groups = df_user_cluster.groupby(\"movie_id\")\n",
    "    movies_avg_rating = groups[\"rating\"].mean()\n",
    "    df_user = pd.merge(movies_avg_rating, df_user, on=\"movie_id\")\n",
    "    del df_user[\"user_id\"]\n",
    "    df_user.columns = [\"movie_id\", \"cluster_avg_rating\", \"user_rating\"]\n",
    "    \n",
    "    df_user.replace(\"?\", np.NaN, inplace=True)\n",
    "    df_user.dropna(inplace=True)\n",
    "    try:\n",
    "        if min(df_user[\"user_rating\"].value_counts()) == 1:  # Condition to avoid error on train_test_split\n",
    "            # ValueError: The least populated class in y has only 1 member, which is too few. \n",
    "            # The minimum number of groups for any class cannot be less than 2.\n",
    "            problem_users.append(user)\n",
    "        else:\n",
    "            X = df_user.drop([\"user_rating\", \"movie_id\"], axis=1)\n",
    "            y = df_user[\"user_rating\"]\n",
    "            X_train, X_test, y_train, y_test = train_test_split(X, y, test_size=0.3, random_state=42, stratify=y)\n",
    "            lr.fit(X_train, y_train)\n",
    "            r_squared[user] = lr.score(X_test, y_test)\n",
    "            rf.fit(X_train, y_train)\n",
    "            rf_scores[user] = rf.score(X_test, y_test)\n",
    "            dumb_scores[user] = r2_score(y_test.values, X_test.values)\n",
    "            rg.fit(X_train, y_train)\n",
    "            rg_squared[user] = rg.score(X_test, y_test)\n",
    "            ada.fit(X_train, y_train)\n",
    "            ada_scores[user] = ada.score(X_test, y_test)\n",
    "            \n",
    "    except Exception as e:\n",
    "        print(\"error:\", e, user)\n",
    "\n",
    "    timer += time() - start\n",
    "    user_count += 1\n",
    "    if user_count % 100 == 0:\n",
    "        print(\"We have trained and scored models on\", user_count, \"users,\", \n",
    "             \"and it has taken\", round(timer), \"seconds\")"
   ]
  },
  {
   "cell_type": "code",
   "execution_count": 17,
   "metadata": {},
   "outputs": [
    {
     "name": "stdout",
     "output_type": "stream",
     "text": [
      "0.7626131524004701\n",
      "0.7455724510295917\n",
      "0.7689974176342519\n",
      "0.759818615804655\n",
      "0.682264827860792\n"
     ]
    }
   ],
   "source": [
    "for i in [r_squared, rf_scores, dumb_scores, rg_squared, ada_scores]:\n",
    "    print(np.mean(list(i.values())))"
   ]
  },
  {
   "cell_type": "markdown",
   "metadata": {},
   "source": [
    "A smaller threshold means better precission, but it also means we will have predictions for less movies, because each user will have a smaller cluster and thus less movies which his cluster has watched. The dataset for each user will become smaller, and thus our ability to train and evaluate the models will decrease."
   ]
  },
  {
   "cell_type": "code",
   "execution_count": 18,
   "metadata": {},
   "outputs": [],
   "source": [
    "clusters = {}\n",
    "keys = []\n",
    "for key, value in distances.items():\n",
    "    clusters[key] = \" \".join([keyy for keyy, valuee in value.items() if float(valuee) <= 0.03])\n",
    "    for i in keys:\n",
    "        if key in clusters[i]:\n",
    "            clusters[key] += \" \" + str(i)\n",
    "    keys.append(key)"
   ]
  },
  {
   "cell_type": "code",
   "execution_count": 19,
   "metadata": {},
   "outputs": [
    {
     "name": "stderr",
     "output_type": "stream",
     "text": [
      "/Users/Pedro./anaconda3/lib/python3.7/site-packages/sklearn/ensemble/forest.py:246: FutureWarning: The default value of n_estimators will change from 10 in version 0.20 to 100 in 0.22.\n",
      "  \"10 in version 0.20 to 100 in 0.22.\", FutureWarning)\n"
     ]
    },
    {
     "name": "stdout",
     "output_type": "stream",
     "text": [
      "We have trained and scored models on 100 users, and it has taken 7 seconds\n",
      "We have trained and scored models on 200 users, and it has taken 14 seconds\n",
      "We have trained and scored models on 300 users, and it has taken 20 seconds\n",
      "We have trained and scored models on 400 users, and it has taken 27 seconds\n",
      "We have trained and scored models on 500 users, and it has taken 34 seconds\n",
      "We have trained and scored models on 600 users, and it has taken 40 seconds\n",
      "We have trained and scored models on 700 users, and it has taken 47 seconds\n",
      "We have trained and scored models on 800 users, and it has taken 55 seconds\n",
      "We have trained and scored models on 900 users, and it has taken 61 seconds\n",
      "We have trained and scored models on 1000 users, and it has taken 68 seconds\n",
      "We have trained and scored models on 1100 users, and it has taken 74 seconds\n",
      "We have trained and scored models on 1200 users, and it has taken 80 seconds\n",
      "We have trained and scored models on 1300 users, and it has taken 88 seconds\n",
      "error: min() arg is an empty sequence 1050678\n",
      "We have trained and scored models on 1400 users, and it has taken 94 seconds\n",
      "We have trained and scored models on 1500 users, and it has taken 100 seconds\n",
      "error: min() arg is an empty sequence 1569028\n",
      "We have trained and scored models on 1600 users, and it has taken 107 seconds\n",
      "We have trained and scored models on 1700 users, and it has taken 114 seconds\n",
      "We have trained and scored models on 1800 users, and it has taken 120 seconds\n",
      "We have trained and scored models on 1900 users, and it has taken 129 seconds\n"
     ]
    }
   ],
   "source": [
    "# Trains and scores a basic linear regression model for each user\n",
    "lr = LinearRegression()\n",
    "r_squared = {}\n",
    "rf = RandomForestRegressor()\n",
    "rf_scores = {}\n",
    "dumb_scores = {}\n",
    "rg = Ridge()\n",
    "rg_squared = {}\n",
    "ada = AdaBoostRegressor()\n",
    "ada_scores = {}\n",
    "\n",
    "user_count = 0\n",
    "problem_users = []\n",
    "timer = 0\n",
    "for user in clusters.keys():\n",
    "    \n",
    "    start = time()\n",
    "\n",
    "    # Gets the cluster of users for user\n",
    "    similar_users_to_user = [int(user) for user in clusters[user].split()]\n",
    "    # Gets the data for the users in user cluster\n",
    "    df_user_cluster = df[df[\"user_id\"].isin(similar_users_to_user)]\n",
    "    df_user = df[df[\"user_id\"].isin([user])]\n",
    "    \n",
    "    groups = df_user_cluster.groupby(\"movie_id\")\n",
    "    movies_avg_rating = groups[\"rating\"].mean()\n",
    "    df_user = pd.merge(movies_avg_rating, df_user, on=\"movie_id\")\n",
    "    del df_user[\"user_id\"]\n",
    "    df_user.columns = [\"movie_id\", \"cluster_avg_rating\", \"user_rating\"]\n",
    "    \n",
    "    df_user.replace(\"?\", np.NaN, inplace=True)\n",
    "    df_user.dropna(inplace=True)\n",
    "    try:\n",
    "        if min(df_user[\"user_rating\"].value_counts()) == 1:  # Condition to avoid error on train_test_split\n",
    "            # ValueError: The least populated class in y has only 1 member, which is too few. \n",
    "            # The minimum number of groups for any class cannot be less than 2.\n",
    "            problem_users.append(user)\n",
    "        else:\n",
    "            X = df_user.drop([\"user_rating\", \"movie_id\"], axis=1)\n",
    "            y = df_user[\"user_rating\"]\n",
    "            X_train, X_test, y_train, y_test = train_test_split(X, y, test_size=0.3, random_state=42, stratify=y)\n",
    "            lr.fit(X_train, y_train)\n",
    "            r_squared[user] = lr.score(X_test, y_test)\n",
    "            rf.fit(X_train, y_train)\n",
    "            rf_scores[user] = rf.score(X_test, y_test)\n",
    "            dumb_scores[user] = r2_score(y_test.values, X_test.values)\n",
    "            rg.fit(X_train, y_train)\n",
    "            rg_squared[user] = rg.score(X_test, y_test)\n",
    "            ada.fit(X_train, y_train)\n",
    "            ada_scores[user] = ada.score(X_test, y_test)\n",
    "            \n",
    "    except Exception as e:\n",
    "        print(\"error:\", e, user)\n",
    "\n",
    "    timer += time() - start\n",
    "    user_count += 1\n",
    "    if user_count % 100 == 0:\n",
    "        print(\"We have trained and scored models on\", user_count, \"users,\", \n",
    "             \"and it has taken\", round(timer), \"seconds\")"
   ]
  },
  {
   "cell_type": "code",
   "execution_count": 20,
   "metadata": {},
   "outputs": [
    {
     "name": "stdout",
     "output_type": "stream",
     "text": [
      "0.5542290976302072\n",
      "0.4981641058713521\n",
      "0.5143390173650783\n",
      "0.5547011657342846\n",
      "0.5013075885698063\n"
     ]
    }
   ],
   "source": [
    "for i in [r_squared, rf_scores, dumb_scores, rg_squared, ada_scores]:\n",
    "    print(np.mean(list(i.values())))"
   ]
  },
  {
   "cell_type": "markdown",
   "metadata": {},
   "source": [
    "Number of movies for each user's dataset"
   ]
  },
  {
   "cell_type": "code",
   "execution_count": 73,
   "metadata": {},
   "outputs": [
    {
     "name": "stdout",
     "output_type": "stream",
     "text": [
      "100 users, 9 seconds\n",
      "200 users, 18 seconds\n",
      "300 users, 26 seconds\n",
      "400 users, 33 seconds\n",
      "500 users, 43 seconds\n",
      "600 users, 53 seconds\n",
      "700 users, 70 seconds\n",
      "800 users, 84 seconds\n",
      "900 users, 100 seconds\n",
      "1000 users, 121 seconds\n",
      "1100 users, 147 seconds\n",
      "1200 users, 165 seconds\n",
      "1300 users, 184 seconds\n",
      "1400 users, 206 seconds\n",
      "1500 users, 231 seconds\n",
      "1600 users, 253 seconds\n",
      "1700 users, 280 seconds\n",
      "1800 users, 304 seconds\n",
      "1900 users, 329 seconds\n"
     ]
    }
   ],
   "source": [
    "path = os.getcwd()[:os.getcwd().find(\"Code\")] + \"/Data/user-clusters/clusters.json\"\n",
    "with open(path, \"r\") as s:\n",
    "    clusters = json.loads(s.read())  \n",
    "\n",
    "n_movies = []\n",
    "timer = 0\n",
    "user_count = 0\n",
    "for user in clusters.keys():\n",
    "    start = time()\n",
    "    similar_users_to_user = [int(user) for user in clusters[user].split()]\n",
    "    # Gets the data for the users in user cluster\n",
    "    df_user_cluster = df[df[\"user_id\"].isin(similar_users_to_user)]\n",
    "    n_movies.append(len(df_user_cluster.groupby(\"movie_id\")))\n",
    "    \n",
    "    timer += time() - start\n",
    "    user_count += 1\n",
    "    if user_count % 100 == 0:\n",
    "        print(user_count, \"users,\", round(timer), \"seconds\")"
   ]
  },
  {
   "cell_type": "code",
   "execution_count": 74,
   "metadata": {},
   "outputs": [
    {
     "data": {
      "image/png": "[encoded data removed]",
      "text/plain": [
       "<Figure size 432x288 with 1 Axes>"
      ]
     },
     "metadata": {
      "needs_background": "light"
     },
     "output_type": "display_data"
    }
   ],
   "source": [
    "plt.hist(n_movies)\n",
    "plt.show()"
   ]
  },
  {
   "cell_type": "code",
   "execution_count": 76,
   "metadata": {},
   "outputs": [
    {
     "data": {
      "text/plain": [
       "2202.797311271975"
      ]
     },
     "execution_count": 76,
     "metadata": {},
     "output_type": "execute_result"
    }
   ],
   "source": [
    "np.mean(n_movies)"
   ]
  },
  {
   "cell_type": "code",
   "execution_count": 82,
   "metadata": {},
   "outputs": [
    {
     "name": "stdout",
     "output_type": "stream",
     "text": [
      "100 users, 4 seconds\n",
      "200 users, 7 seconds\n",
      "300 users, 10 seconds\n",
      "400 users, 13 seconds\n",
      "500 users, 17 seconds\n",
      "600 users, 21 seconds\n",
      "700 users, 25 seconds\n",
      "800 users, 29 seconds\n",
      "900 users, 34 seconds\n",
      "1000 users, 38 seconds\n",
      "1100 users, 44 seconds\n",
      "1200 users, 50 seconds\n",
      "1300 users, 55 seconds\n",
      "1400 users, 60 seconds\n",
      "1500 users, 65 seconds\n",
      "1600 users, 68 seconds\n",
      "1700 users, 71 seconds\n",
      "1800 users, 75 seconds\n",
      "1900 users, 78 seconds\n"
     ]
    }
   ],
   "source": [
    "timer = 0\n",
    "user_count = 0\n",
    "n_movies_with_ratings = []\n",
    "for user in clusters.keys():\n",
    "    start = time()\n",
    "    similar_users_to_user = [int(user) for user in clusters[user].split()]\n",
    "    # Gets the data for the users in user cluster\n",
    "    df_user_cluster = df[df[\"user_id\"].isin(similar_users_to_user)]\n",
    "    df_user = df[df[\"user_id\"].isin([user])]\n",
    "    groups = df_user_cluster.groupby(\"movie_id\")\n",
    "    movies_avg_rating = groups[\"rating\"].mean()\n",
    "    df_user = pd.merge(movies_avg_rating, df_user, on=\"movie_id\")\n",
    "    del df_user[\"user_id\"]\n",
    "    df_user.columns = [\"movie_id\", \"cluster_avg_rating\", \"user_rating\"]\n",
    "    \n",
    "    df_user.replace(\"?\", np.NaN, inplace=True)\n",
    "    df_user.dropna(inplace=True)\n",
    "    n_movies_with_ratings.append(df_user.shape[0])\n",
    "    \n",
    "    timer += time() - start\n",
    "    user_count += 1\n",
    "    if user_count % 100 == 0:\n",
    "        print(user_count, \"users,\", round(timer), \"seconds\")"
   ]
  },
  {
   "cell_type": "code",
   "execution_count": 83,
   "metadata": {},
   "outputs": [
    {
     "data": {
      "text/plain": [
       "72.60186142709411"
      ]
     },
     "execution_count": 83,
     "metadata": {},
     "output_type": "execute_result"
    }
   ],
   "source": [
    "np.mean(n_movies_with_ratings)"
   ]
  },
  {
   "cell_type": "code",
   "execution_count": 84,
   "metadata": {},
   "outputs": [
    {
     "data": {
      "image/png": "[encoded data removed]",
      "text/plain": [
       "<Figure size 432x288 with 1 Axes>"
      ]
     },
     "metadata": {
      "needs_background": "light"
     },
     "output_type": "display_data"
    }
   ],
   "source": [
    "plt.hist(n_movies)\n",
    "plt.show()"
   ]
  },
  {
   "cell_type": "code",
   "execution_count": null,
   "metadata": {},
   "outputs": [],
   "source": []
  }
 ],
 "metadata": {
  "kernelspec": {
   "display_name": "Python 3",
   "language": "python",
   "name": "python3"
  },
  "language_info": {
   "codemirror_mode": {
    "name": "ipython",
    "version": 3
   },
   "file_extension": ".py",
   "mimetype": "text/x-python",
   "name": "python",
   "nbconvert_exporter": "python",
   "pygments_lexer": "ipython3",
   "version": "3.7.3"
  }
 },
 "nbformat": 4,
 "nbformat_minor": 2
}
